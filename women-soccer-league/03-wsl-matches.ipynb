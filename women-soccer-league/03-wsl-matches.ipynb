{
 "cells": [
  {
   "cell_type": "markdown",
   "metadata": {
    "application/vnd.databricks.v1+cell": {
     "cellMetadata": {
      "byteLimit": 2048000,
      "rowLimit": 10000
     },
     "inputWidgets": {},
     "nuid": "5569f0aa-19c2-4037-86d0-e6b3b7a95611",
     "showTitle": false,
     "title": ""
    },
    "jupyter": {
     "outputs_hidden": true
    }
   },
   "source": [
    "# Comprehensive Analysis and Transformation of the English Women's Soccer League Data Using Spark"
   ]
  },
  {
   "cell_type": "markdown",
   "metadata": {
    "application/vnd.databricks.v1+cell": {
     "cellMetadata": {
      "byteLimit": 2048000,
      "rowLimit": 10000
     },
     "inputWidgets": {},
     "nuid": "65faf75e-d0ec-4be0-b0c1-28776c4c5a4e",
     "showTitle": false,
     "title": ""
    }
   },
   "source": [
    "## Overview\n",
    "\n",
    "This notebook processes match data for the Women's Super League (WSL) from a bronze data lake, and stores the processed data in a silver data lake. \n",
    "\n",
    "The process performs various transformations and calculations to derive useful statistics and rankings for the teams, providing insights into team performances across seasons, focusing on matches between 2019 and 2023."
   ]
  },
  {
   "cell_type": "markdown",
   "metadata": {
    "application/vnd.databricks.v1+cell": {
     "cellMetadata": {
      "byteLimit": 2048000,
      "rowLimit": 10000
     },
     "inputWidgets": {},
     "nuid": "57a1092f-815c-4cbe-8cc5-2745bb6741b2",
     "showTitle": true,
     "title": ""
    },
    "jupyter": {
     "outputs_hidden": true
    }
   },
   "source": [
    "## Step 1"
   ]
  },
  {
   "cell_type": "markdown",
   "metadata": {
    "application/vnd.databricks.v1+cell": {
     "cellMetadata": {
      "byteLimit": 2048000,
      "rowLimit": 10000
     },
     "inputWidgets": {},
     "nuid": "d4e31091-8f5e-4623-b9cd-d7bc61746865",
     "showTitle": true,
     "title": ""
    }
   },
   "source": [
    "### 1. Retrieve Configuration Details\n",
    "\n",
    "Retrieve mount points for bronze and silver data lakes from the 'config' notebook."
   ]
  },
  {
   "cell_type": "code",
   "execution_count": 0,
   "metadata": {
    "application/vnd.databricks.v1+cell": {
     "cellMetadata": {
      "byteLimit": 2048000,
      "rowLimit": 10000
     },
     "inputWidgets": {},
     "nuid": "0ae4065c-a1fd-4331-a8f3-7b3aab66f195",
     "showTitle": false,
     "title": ""
    }
   },
   "outputs": [],
   "source": [
    "# Retrieve configuration details, including mount points for bronze and silver data lakes\n",
    "\n",
    "config = dbutils.notebook.run('../storage/01-config', 180)\n",
    "config_dict = eval(config)\n",
    "\n",
    "bronzeMountPoint = config_dict[\"bronzeMountPoint\"]\n",
    "silverMountPoint = config_dict[\"silverMountPoint\"]"
   ]
  },
  {
   "cell_type": "markdown",
   "metadata": {
    "application/vnd.databricks.v1+cell": {
     "cellMetadata": {
      "byteLimit": 2048000,
      "rowLimit": 10000
     },
     "inputWidgets": {},
     "nuid": "aaa316e3-8b61-4b15-a0bf-d03a386c228a",
     "showTitle": false,
     "title": ""
    }
   },
   "source": [
    "### 2. Read and Display Data\n",
    "\n",
    "Load and display the data previously stored in the bronze data lake."
   ]
  },
  {
   "cell_type": "code",
   "execution_count": 0,
   "metadata": {
    "application/vnd.databricks.v1+cell": {
     "cellMetadata": {
      "byteLimit": 2048000,
      "rowLimit": 10000
     },
     "inputWidgets": {},
     "nuid": "f644a247-ca71-48c7-99d9-b53c9b962813",
     "showTitle": false,
     "title": ""
    }
   },
   "outputs": [],
   "source": [
    "from pyspark.sql.functions import col, sum, desc, rank\n",
    "from pyspark.sql import Window"
   ]
  },
  {
   "cell_type": "code",
   "execution_count": 0,
   "metadata": {
    "application/vnd.databricks.v1+cell": {
     "cellMetadata": {
      "byteLimit": 2048000,
      "rowLimit": 10000
     },
     "inputWidgets": {},
     "nuid": "327c41df-cc02-411c-a3d0-9671e6169350",
     "showTitle": false,
     "title": ""
    }
   },
   "outputs": [
    {
     "output_type": "display_data",
     "data": {
      "text/html": [
       "<style scoped>\n",
       "  .table-result-container {\n",
       "    max-height: 300px;\n",
       "    overflow: auto;\n",
       "  }\n",
       "  table, th, td {\n",
       "    border: 1px solid black;\n",
       "    border-collapse: collapse;\n",
       "  }\n",
       "  th, td {\n",
       "    padding: 5px;\n",
       "  }\n",
       "  th {\n",
       "    text-align: left;\n",
       "  }\n",
       "</style><div class='table-result-container'><table class='table-result'><thead style='background-color: white'><tr><th>MatchId</th><th>League</th><th>Season</th><th>HomeTeam</th><th>AwayTeam</th><th>HomeTeamGoals</th><th>AwayTeamGoals</th><th>MatchResult</th><th>MatchDate</th><th>HomeWin</th><th>AwayWin</th><th>Draw</th></tr></thead><tbody><tr><td>101658</td><td>D1 FFF</td><td>2019</td><td>Bordeaux</td><td>Fleury</td><td>4</td><td>1</td><td>H</td><td>24-08-19</td><td>1</td><td>0</td><td>0</td></tr><tr><td>102633</td><td>D1 FFF</td><td>2019</td><td>Guingamp</td><td>Metz</td><td>2</td><td>0</td><td>H</td><td>24-08-19</td><td>1</td><td>0</td><td>0</td></tr><tr><td>105384</td><td>D1 FFF</td><td>2019</td><td>Paris FC</td><td>Dijon</td><td>3</td><td>1</td><td>H</td><td>24-08-19</td><td>1</td><td>0</td><td>0</td></tr><tr><td>107191</td><td>D1 FFF</td><td>2019</td><td>Montpellier</td><td>Stade de Reims</td><td>2</td><td>0</td><td>H</td><td>24-08-19</td><td>1</td><td>0</td><td>0</td></tr><tr><td>107631</td><td>D1 FFF</td><td>2019</td><td>Lyon</td><td>Ol. Marseille</td><td>6</td><td>0</td><td>H</td><td>24-08-19</td><td>1</td><td>0</td><td>0</td></tr><tr><td>108229</td><td>D1 FFF</td><td>2019</td><td>Paris S-G</td><td>Soyaux</td><td>7</td><td>0</td><td>H</td><td>25-08-19</td><td>1</td><td>0</td><td>0</td></tr><tr><td>109491</td><td>D1 FFF</td><td>2019</td><td>Fleury</td><td>Montpellier</td><td>1</td><td>3</td><td>A</td><td>07-09-19</td><td>0</td><td>1</td><td>0</td></tr><tr><td>109961</td><td>D1 FFF</td><td>2019</td><td>Ol. Marseille</td><td>Guingamp</td><td>2</td><td>1</td><td>H</td><td>07-09-19</td><td>1</td><td>0</td><td>0</td></tr><tr><td>113735</td><td>D1 FFF</td><td>2019</td><td>Soyaux</td><td>Paris FC</td><td>0</td><td>0</td><td>D</td><td>07-09-19</td><td>0</td><td>0</td><td>1</td></tr><tr><td>116885</td><td>D1 FFF</td><td>2019</td><td>Stade de Reims</td><td>Lyon</td><td>3</td><td>8</td><td>A</td><td>07-09-19</td><td>0</td><td>1</td><td>0</td></tr><tr><td>117528</td><td>D1 FFF</td><td>2019</td><td>Metz</td><td>Paris S-G</td><td>1</td><td>6</td><td>A</td><td>07-09-19</td><td>0</td><td>1</td><td>0</td></tr><tr><td>122120</td><td>D1 FFF</td><td>2019</td><td>Dijon</td><td>Bordeaux</td><td>0</td><td>3</td><td>A</td><td>08-09-19</td><td>0</td><td>1</td><td>0</td></tr><tr><td>123042</td><td>D1 FFF</td><td>2019</td><td>Bordeaux</td><td>Montpellier</td><td>1</td><td>0</td><td>H</td><td>14-09-19</td><td>1</td><td>0</td><td>0</td></tr><tr><td>125955</td><td>D1 FFF</td><td>2019</td><td>Ol. Marseille</td><td>Stade de Reims</td><td>0</td><td>3</td><td>A</td><td>14-09-19</td><td>0</td><td>1</td><td>0</td></tr><tr><td>126184</td><td>D1 FFF</td><td>2019</td><td>Guingamp</td><td>Soyaux</td><td>1</td><td>3</td><td>A</td><td>14-09-19</td><td>0</td><td>1</td><td>0</td></tr><tr><td>126283</td><td>D1 FFF</td><td>2019</td><td>Paris FC</td><td>Metz</td><td>2</td><td>2</td><td>D</td><td>14-09-19</td><td>0</td><td>0</td><td>1</td></tr><tr><td>130413</td><td>D1 FFF</td><td>2019</td><td>Lyon</td><td>Fleury</td><td>6</td><td>0</td><td>H</td><td>15-09-19</td><td>1</td><td>0</td><td>0</td></tr><tr><td>133161</td><td>D1 FFF</td><td>2019</td><td>Paris S-G</td><td>Dijon</td><td>4</td><td>0</td><td>H</td><td>15-09-19</td><td>1</td><td>0</td><td>0</td></tr><tr><td>133303</td><td>D1 FFF</td><td>2019</td><td>Stade de Reims</td><td>Fleury</td><td>0</td><td>1</td><td>A</td><td>28-09-19</td><td>0</td><td>1</td><td>0</td></tr><tr><td>136182</td><td>D1 FFF</td><td>2019</td><td>Montpellier</td><td>Dijon</td><td>6</td><td>0</td><td>H</td><td>28-09-19</td><td>1</td><td>0</td><td>0</td></tr><tr><td>136701</td><td>D1 FFF</td><td>2019</td><td>Paris FC</td><td>Ol. Marseille</td><td>3</td><td>1</td><td>H</td><td>28-09-19</td><td>1</td><td>0</td><td>0</td></tr><tr><td>137377</td><td>D1 FFF</td><td>2019</td><td>Metz</td><td>Soyaux</td><td>0</td><td>2</td><td>A</td><td>28-09-19</td><td>0</td><td>1</td><td>0</td></tr><tr><td>137577</td><td>D1 FFF</td><td>2019</td><td>Guingamp</td><td>Lyon</td><td>1</td><td>5</td><td>A</td><td>28-09-19</td><td>0</td><td>1</td><td>0</td></tr><tr><td>141211</td><td>D1 FFF</td><td>2019</td><td>Paris S-G</td><td>Bordeaux</td><td>3</td><td>0</td><td>H</td><td>29-09-19</td><td>1</td><td>0</td><td>0</td></tr><tr><td>142307</td><td>D1 FFF</td><td>2019</td><td>Lyon</td><td>Paris FC</td><td>4</td><td>0</td><td>H</td><td>12-10-19</td><td>1</td><td>0</td><td>0</td></tr><tr><td>142730</td><td>D1 FFF</td><td>2019</td><td>Fleury</td><td>Paris S-G</td><td>0</td><td>2</td><td>A</td><td>12-10-19</td><td>0</td><td>1</td><td>0</td></tr><tr><td>145563</td><td>D1 FFF</td><td>2019</td><td>Dijon</td><td>Stade de Reims</td><td>1</td><td>1</td><td>D</td><td>12-10-19</td><td>0</td><td>0</td><td>1</td></tr><tr><td>146652</td><td>D1 FFF</td><td>2019</td><td>Ol. Marseille</td><td>Metz</td><td>3</td><td>1</td><td>H</td><td>12-10-19</td><td>1</td><td>0</td><td>0</td></tr><tr><td>149877</td><td>D1 FFF</td><td>2019</td><td>Soyaux</td><td>Montpellier</td><td>1</td><td>1</td><td>D</td><td>12-10-19</td><td>0</td><td>0</td><td>1</td></tr><tr><td>150331</td><td>D1 FFF</td><td>2019</td><td>Bordeaux</td><td>Guingamp</td><td>1</td><td>2</td><td>A</td><td>13-10-19</td><td>0</td><td>1</td><td>0</td></tr><tr><td>152297</td><td>D1 FFF</td><td>2019</td><td>Stade de Reims</td><td>Guingamp</td><td>0</td><td>1</td><td>A</td><td>19-10-19</td><td>0</td><td>1</td><td>0</td></tr><tr><td>152550</td><td>D1 FFF</td><td>2019</td><td>Fleury</td><td>Soyaux</td><td>1</td><td>1</td><td>D</td><td>19-10-19</td><td>0</td><td>0</td><td>1</td></tr><tr><td>152955</td><td>D1 FFF</td><td>2019</td><td>Bordeaux</td><td>Ol. Marseille</td><td>3</td><td>0</td><td>H</td><td>19-10-19</td><td>1</td><td>0</td><td>0</td></tr><tr><td>154026</td><td>D1 FFF</td><td>2019</td><td>Montpellier</td><td>Metz</td><td>3</td><td>0</td><td>H</td><td>19-10-19</td><td>1</td><td>0</td><td>0</td></tr><tr><td>156729</td><td>D1 FFF</td><td>2019</td><td>Paris S-G</td><td>Paris FC</td><td>2</td><td>0</td><td>H</td><td>19-10-19</td><td>1</td><td>0</td><td>0</td></tr><tr><td>161069</td><td>D1 FFF</td><td>2019</td><td>Dijon</td><td>Lyon</td><td>0</td><td>0</td><td>D</td><td>20-10-19</td><td>0</td><td>0</td><td>1</td></tr><tr><td>161274</td><td>D1 FFF</td><td>2019</td><td>Metz</td><td>Stade de Reims</td><td>0</td><td>1</td><td>A</td><td>26-10-19</td><td>0</td><td>1</td><td>0</td></tr><tr><td>161537</td><td>D1 FFF</td><td>2019</td><td>Paris FC</td><td>Montpellier</td><td>2</td><td>5</td><td>A</td><td>26-10-19</td><td>0</td><td>1</td><td>0</td></tr><tr><td>162751</td><td>D1 FFF</td><td>2019</td><td>Guingamp</td><td>Fleury</td><td>0</td><td>1</td><td>A</td><td>26-10-19</td><td>0</td><td>1</td><td>0</td></tr><tr><td>164013</td><td>D1 FFF</td><td>2019</td><td>Soyaux</td><td>Dijon</td><td>0</td><td>0</td><td>D</td><td>26-10-19</td><td>0</td><td>0</td><td>1</td></tr><tr><td>164423</td><td>D1 FFF</td><td>2019</td><td>Lyon</td><td>Bordeaux</td><td>4</td><td>0</td><td>H</td><td>26-10-19</td><td>1</td><td>0</td><td>0</td></tr><tr><td>165783</td><td>D1 FFF</td><td>2019</td><td>Ol. Marseille</td><td>Paris S-G</td><td>0</td><td>5</td><td>A</td><td>27-10-19</td><td>0</td><td>1</td><td>0</td></tr><tr><td>169322</td><td>D1 FFF</td><td>2019</td><td>Dijon</td><td>Metz</td><td>2</td><td>1</td><td>H</td><td>02-11-19</td><td>1</td><td>0</td><td>0</td></tr><tr><td>169392</td><td>D1 FFF</td><td>2019</td><td>Bordeaux</td><td>Soyaux</td><td>4</td><td>1</td><td>H</td><td>02-11-19</td><td>1</td><td>0</td><td>0</td></tr><tr><td>169469</td><td>D1 FFF</td><td>2019</td><td>Stade de Reims</td><td>Paris FC</td><td>0</td><td>1</td><td>A</td><td>02-11-19</td><td>0</td><td>1</td><td>0</td></tr><tr><td>170342</td><td>D1 FFF</td><td>2019</td><td>Fleury</td><td>Ol. Marseille</td><td>4</td><td>1</td><td>H</td><td>02-11-19</td><td>1</td><td>0</td><td>0</td></tr><tr><td>170842</td><td>D1 FFF</td><td>2019</td><td>Montpellier</td><td>Lyon</td><td>0</td><td>3</td><td>A</td><td>02-11-19</td><td>0</td><td>1</td><td>0</td></tr><tr><td>171983</td><td>D1 FFF</td><td>2019</td><td>Paris S-G</td><td>Guingamp</td><td>1</td><td>1</td><td>D</td><td>03-11-19</td><td>0</td><td>0</td><td>1</td></tr><tr><td>173611</td><td>D1 FFF</td><td>2019</td><td>Metz</td><td>Bordeaux</td><td>0</td><td>4</td><td>A</td><td>16-11-19</td><td>0</td><td>1</td><td>0</td></tr><tr><td>173761</td><td>D1 FFF</td><td>2019</td><td>Fleury</td><td>Dijon</td><td>1</td><td>1</td><td>D</td><td>16-11-19</td><td>0</td><td>0</td><td>1</td></tr></tbody></table></div>"
      ]
     },
     "metadata": {
      "application/vnd.databricks.v1+output": {
       "addedWidgets": {},
       "aggData": [],
       "aggError": "",
       "aggOverflow": false,
       "aggSchema": [],
       "aggSeriesLimitReached": false,
       "aggType": "",
       "arguments": {},
       "columnCustomDisplayInfos": {},
       "data": [
        [
         101658,
         "D1 FFF",
         2019,
         "Bordeaux",
         "Fleury",
         4,
         1,
         "H",
         "24-08-19",
         1,
         0,
         0
        ],
        [
         102633,
         "D1 FFF",
         2019,
         "Guingamp",
         "Metz",
         2,
         0,
         "H",
         "24-08-19",
         1,
         0,
         0
        ],
        [
         105384,
         "D1 FFF",
         2019,
         "Paris FC",
         "Dijon",
         3,
         1,
         "H",
         "24-08-19",
         1,
         0,
         0
        ],
        [
         107191,
         "D1 FFF",
         2019,
         "Montpellier",
         "Stade de Reims",
         2,
         0,
         "H",
         "24-08-19",
         1,
         0,
         0
        ],
        [
         107631,
         "D1 FFF",
         2019,
         "Lyon",
         "Ol. Marseille",
         6,
         0,
         "H",
         "24-08-19",
         1,
         0,
         0
        ],
        [
         108229,
         "D1 FFF",
         2019,
         "Paris S-G",
         "Soyaux",
         7,
         0,
         "H",
         "25-08-19",
         1,
         0,
         0
        ],
        [
         109491,
         "D1 FFF",
         2019,
         "Fleury",
         "Montpellier",
         1,
         3,
         "A",
         "07-09-19",
         0,
         1,
         0
        ],
        [
         109961,
         "D1 FFF",
         2019,
         "Ol. Marseille",
         "Guingamp",
         2,
         1,
         "H",
         "07-09-19",
         1,
         0,
         0
        ],
        [
         113735,
         "D1 FFF",
         2019,
         "Soyaux",
         "Paris FC",
         0,
         0,
         "D",
         "07-09-19",
         0,
         0,
         1
        ],
        [
         116885,
         "D1 FFF",
         2019,
         "Stade de Reims",
         "Lyon",
         3,
         8,
         "A",
         "07-09-19",
         0,
         1,
         0
        ],
        [
         117528,
         "D1 FFF",
         2019,
         "Metz",
         "Paris S-G",
         1,
         6,
         "A",
         "07-09-19",
         0,
         1,
         0
        ],
        [
         122120,
         "D1 FFF",
         2019,
         "Dijon",
         "Bordeaux",
         0,
         3,
         "A",
         "08-09-19",
         0,
         1,
         0
        ],
        [
         123042,
         "D1 FFF",
         2019,
         "Bordeaux",
         "Montpellier",
         1,
         0,
         "H",
         "14-09-19",
         1,
         0,
         0
        ],
        [
         125955,
         "D1 FFF",
         2019,
         "Ol. Marseille",
         "Stade de Reims",
         0,
         3,
         "A",
         "14-09-19",
         0,
         1,
         0
        ],
        [
         126184,
         "D1 FFF",
         2019,
         "Guingamp",
         "Soyaux",
         1,
         3,
         "A",
         "14-09-19",
         0,
         1,
         0
        ],
        [
         126283,
         "D1 FFF",
         2019,
         "Paris FC",
         "Metz",
         2,
         2,
         "D",
         "14-09-19",
         0,
         0,
         1
        ],
        [
         130413,
         "D1 FFF",
         2019,
         "Lyon",
         "Fleury",
         6,
         0,
         "H",
         "15-09-19",
         1,
         0,
         0
        ],
        [
         133161,
         "D1 FFF",
         2019,
         "Paris S-G",
         "Dijon",
         4,
         0,
         "H",
         "15-09-19",
         1,
         0,
         0
        ],
        [
         133303,
         "D1 FFF",
         2019,
         "Stade de Reims",
         "Fleury",
         0,
         1,
         "A",
         "28-09-19",
         0,
         1,
         0
        ],
        [
         136182,
         "D1 FFF",
         2019,
         "Montpellier",
         "Dijon",
         6,
         0,
         "H",
         "28-09-19",
         1,
         0,
         0
        ],
        [
         136701,
         "D1 FFF",
         2019,
         "Paris FC",
         "Ol. Marseille",
         3,
         1,
         "H",
         "28-09-19",
         1,
         0,
         0
        ],
        [
         137377,
         "D1 FFF",
         2019,
         "Metz",
         "Soyaux",
         0,
         2,
         "A",
         "28-09-19",
         0,
         1,
         0
        ],
        [
         137577,
         "D1 FFF",
         2019,
         "Guingamp",
         "Lyon",
         1,
         5,
         "A",
         "28-09-19",
         0,
         1,
         0
        ],
        [
         141211,
         "D1 FFF",
         2019,
         "Paris S-G",
         "Bordeaux",
         3,
         0,
         "H",
         "29-09-19",
         1,
         0,
         0
        ],
        [
         142307,
         "D1 FFF",
         2019,
         "Lyon",
         "Paris FC",
         4,
         0,
         "H",
         "12-10-19",
         1,
         0,
         0
        ],
        [
         142730,
         "D1 FFF",
         2019,
         "Fleury",
         "Paris S-G",
         0,
         2,
         "A",
         "12-10-19",
         0,
         1,
         0
        ],
        [
         145563,
         "D1 FFF",
         2019,
         "Dijon",
         "Stade de Reims",
         1,
         1,
         "D",
         "12-10-19",
         0,
         0,
         1
        ],
        [
         146652,
         "D1 FFF",
         2019,
         "Ol. Marseille",
         "Metz",
         3,
         1,
         "H",
         "12-10-19",
         1,
         0,
         0
        ],
        [
         149877,
         "D1 FFF",
         2019,
         "Soyaux",
         "Montpellier",
         1,
         1,
         "D",
         "12-10-19",
         0,
         0,
         1
        ],
        [
         150331,
         "D1 FFF",
         2019,
         "Bordeaux",
         "Guingamp",
         1,
         2,
         "A",
         "13-10-19",
         0,
         1,
         0
        ],
        [
         152297,
         "D1 FFF",
         2019,
         "Stade de Reims",
         "Guingamp",
         0,
         1,
         "A",
         "19-10-19",
         0,
         1,
         0
        ],
        [
         152550,
         "D1 FFF",
         2019,
         "Fleury",
         "Soyaux",
         1,
         1,
         "D",
         "19-10-19",
         0,
         0,
         1
        ],
        [
         152955,
         "D1 FFF",
         2019,
         "Bordeaux",
         "Ol. Marseille",
         3,
         0,
         "H",
         "19-10-19",
         1,
         0,
         0
        ],
        [
         154026,
         "D1 FFF",
         2019,
         "Montpellier",
         "Metz",
         3,
         0,
         "H",
         "19-10-19",
         1,
         0,
         0
        ],
        [
         156729,
         "D1 FFF",
         2019,
         "Paris S-G",
         "Paris FC",
         2,
         0,
         "H",
         "19-10-19",
         1,
         0,
         0
        ],
        [
         161069,
         "D1 FFF",
         2019,
         "Dijon",
         "Lyon",
         0,
         0,
         "D",
         "20-10-19",
         0,
         0,
         1
        ],
        [
         161274,
         "D1 FFF",
         2019,
         "Metz",
         "Stade de Reims",
         0,
         1,
         "A",
         "26-10-19",
         0,
         1,
         0
        ],
        [
         161537,
         "D1 FFF",
         2019,
         "Paris FC",
         "Montpellier",
         2,
         5,
         "A",
         "26-10-19",
         0,
         1,
         0
        ],
        [
         162751,
         "D1 FFF",
         2019,
         "Guingamp",
         "Fleury",
         0,
         1,
         "A",
         "26-10-19",
         0,
         1,
         0
        ],
        [
         164013,
         "D1 FFF",
         2019,
         "Soyaux",
         "Dijon",
         0,
         0,
         "D",
         "26-10-19",
         0,
         0,
         1
        ],
        [
         164423,
         "D1 FFF",
         2019,
         "Lyon",
         "Bordeaux",
         4,
         0,
         "H",
         "26-10-19",
         1,
         0,
         0
        ],
        [
         165783,
         "D1 FFF",
         2019,
         "Ol. Marseille",
         "Paris S-G",
         0,
         5,
         "A",
         "27-10-19",
         0,
         1,
         0
        ],
        [
         169322,
         "D1 FFF",
         2019,
         "Dijon",
         "Metz",
         2,
         1,
         "H",
         "02-11-19",
         1,
         0,
         0
        ],
        [
         169392,
         "D1 FFF",
         2019,
         "Bordeaux",
         "Soyaux",
         4,
         1,
         "H",
         "02-11-19",
         1,
         0,
         0
        ],
        [
         169469,
         "D1 FFF",
         2019,
         "Stade de Reims",
         "Paris FC",
         0,
         1,
         "A",
         "02-11-19",
         0,
         1,
         0
        ],
        [
         170342,
         "D1 FFF",
         2019,
         "Fleury",
         "Ol. Marseille",
         4,
         1,
         "H",
         "02-11-19",
         1,
         0,
         0
        ],
        [
         170842,
         "D1 FFF",
         2019,
         "Montpellier",
         "Lyon",
         0,
         3,
         "A",
         "02-11-19",
         0,
         1,
         0
        ],
        [
         171983,
         "D1 FFF",
         2019,
         "Paris S-G",
         "Guingamp",
         1,
         1,
         "D",
         "03-11-19",
         0,
         0,
         1
        ],
        [
         173611,
         "D1 FFF",
         2019,
         "Metz",
         "Bordeaux",
         0,
         4,
         "A",
         "16-11-19",
         0,
         1,
         0
        ],
        [
         173761,
         "D1 FFF",
         2019,
         "Fleury",
         "Dijon",
         1,
         1,
         "D",
         "16-11-19",
         0,
         0,
         1
        ]
       ],
       "datasetInfos": [],
       "dbfsResultPath": null,
       "isJsonSchema": true,
       "metadata": {},
       "overflow": false,
       "plotOptions": {
        "customPlotOptions": {},
        "displayType": "table",
        "pivotAggregation": null,
        "pivotColumns": null,
        "xColumns": null,
        "yColumns": null
       },
       "removedWidgets": [],
       "schema": [
        {
         "metadata": "{}",
         "name": "MatchId",
         "type": "\"integer\""
        },
        {
         "metadata": "{}",
         "name": "League",
         "type": "\"string\""
        },
        {
         "metadata": "{}",
         "name": "Season",
         "type": "\"integer\""
        },
        {
         "metadata": "{}",
         "name": "HomeTeam",
         "type": "\"string\""
        },
        {
         "metadata": "{}",
         "name": "AwayTeam",
         "type": "\"string\""
        },
        {
         "metadata": "{}",
         "name": "HomeTeamGoals",
         "type": "\"integer\""
        },
        {
         "metadata": "{}",
         "name": "AwayTeamGoals",
         "type": "\"integer\""
        },
        {
         "metadata": "{}",
         "name": "MatchResult",
         "type": "\"string\""
        },
        {
         "metadata": "{}",
         "name": "MatchDate",
         "type": "\"string\""
        },
        {
         "metadata": "{}",
         "name": "HomeWin",
         "type": "\"integer\""
        },
        {
         "metadata": "{}",
         "name": "AwayWin",
         "type": "\"integer\""
        },
        {
         "metadata": "{}",
         "name": "Draw",
         "type": "\"integer\""
        }
       ],
       "type": "table"
      }
     },
     "output_type": "display_data"
    },
    {
     "output_type": "stream",
     "name": "stdout",
     "output_type": "stream",
     "text": [
      "root\n |-- MatchId: integer (nullable = true)\n |-- League: string (nullable = true)\n |-- Season: integer (nullable = true)\n |-- HomeTeam: string (nullable = true)\n |-- AwayTeam: string (nullable = true)\n |-- HomeTeamGoals: integer (nullable = true)\n |-- AwayTeamGoals: integer (nullable = true)\n |-- MatchResult: string (nullable = true)\n |-- MatchDate: string (nullable = true)\n |-- HomeWin: integer (nullable = true)\n |-- AwayWin: integer (nullable = true)\n |-- Draw: integer (nullable = true)\n\n"
     ]
    }
   ],
   "source": [
    "# Reading and displaying data from the bronze mount point\n",
    "\n",
    "dfMatches = spark.read.format('delta').load(bronzeMountPoint + '/women_football_matches')\n",
    "display(dfMatches.limit(50))\n",
    "\n",
    "dfMatches.printSchema()"
   ]
  },
  {
   "cell_type": "markdown",
   "metadata": {
    "application/vnd.databricks.v1+cell": {
     "cellMetadata": {
      "byteLimit": 2048000,
      "rowLimit": 10000
     },
     "inputWidgets": {},
     "nuid": "e449660c-e192-4e9c-ab2c-fdb2e0af9608",
     "showTitle": false,
     "title": ""
    }
   },
   "source": [
    "### 3. Filter and Select Relevant Columns\n",
    "\n",
    "Filter the data to focus on WSL matches between 2019 and 2023, selecting specific columns for analysis."
   ]
  },
  {
   "cell_type": "code",
   "execution_count": 0,
   "metadata": {
    "application/vnd.databricks.v1+cell": {
     "cellMetadata": {
      "byteLimit": 2048000,
      "rowLimit": 10000
     },
     "inputWidgets": {},
     "nuid": "afbf3789-255c-4207-838d-9fd282792955",
     "showTitle": false,
     "title": ""
    }
   },
   "outputs": [
    {
     "output_type": "display_data",
     "data": {
      "text/html": [
       "<style scoped>\n",
       "  .table-result-container {\n",
       "    max-height: 300px;\n",
       "    overflow: auto;\n",
       "  }\n",
       "  table, th, td {\n",
       "    border: 1px solid black;\n",
       "    border-collapse: collapse;\n",
       "  }\n",
       "  th, td {\n",
       "    padding: 5px;\n",
       "  }\n",
       "  th {\n",
       "    text-align: left;\n",
       "  }\n",
       "</style><div class='table-result-container'><table class='table-result'><thead style='background-color: white'><tr><th>MatchId</th><th>Season</th><th>MatchDate</th><th>HomeTeam</th><th>AwayTeam</th><th>HomeTeamGoals</th><th>AwayTeamGoals</th><th>MatchResult</th><th>HomeWin</th><th>AwayWin</th><th>Draw</th></tr></thead><tbody><tr><td>436880</td><td>2019</td><td>07-09-19</td><td>Manchester City</td><td>Manchester Utd</td><td>1</td><td>0</td><td>H</td><td>1</td><td>0</td><td>0</td></tr><tr><td>439058</td><td>2019</td><td>07-09-19</td><td>Bristol City</td><td>Brighton</td><td>0</td><td>0</td><td>D</td><td>0</td><td>0</td><td>1</td></tr><tr><td>441056</td><td>2019</td><td>08-09-19</td><td>Chelsea</td><td>Tottenham</td><td>1</td><td>0</td><td>H</td><td>1</td><td>0</td><td>0</td></tr><tr><td>441268</td><td>2019</td><td>08-09-19</td><td>Birmingham City</td><td>Everton</td><td>0</td><td>1</td><td>A</td><td>0</td><td>1</td><td>0</td></tr><tr><td>441488</td><td>2019</td><td>08-09-19</td><td>Liverpool</td><td>Reading</td><td>0</td><td>1</td><td>A</td><td>0</td><td>1</td><td>0</td></tr><tr><td>441780</td><td>2019</td><td>08-09-19</td><td>Arsenal</td><td>West Ham</td><td>2</td><td>1</td><td>H</td><td>1</td><td>0</td><td>0</td></tr><tr><td>442346</td><td>2019</td><td>15-09-19</td><td>Reading</td><td>Manchester City</td><td>0</td><td>2</td><td>A</td><td>0</td><td>1</td><td>0</td></tr><tr><td>442873</td><td>2019</td><td>15-09-19</td><td>Everton</td><td>Bristol City</td><td>2</td><td>0</td><td>H</td><td>1</td><td>0</td><td>0</td></tr><tr><td>446456</td><td>2019</td><td>15-09-19</td><td>Tottenham</td><td>Liverpool</td><td>1</td><td>0</td><td>H</td><td>1</td><td>0</td><td>0</td></tr><tr><td>447682</td><td>2019</td><td>15-09-19</td><td>Brighton</td><td>Chelsea</td><td>1</td><td>1</td><td>D</td><td>0</td><td>0</td><td>1</td></tr><tr><td>447836</td><td>2019</td><td>15-09-19</td><td>West Ham</td><td>Birmingham City</td><td>1</td><td>0</td><td>H</td><td>1</td><td>0</td><td>0</td></tr><tr><td>449407</td><td>2019</td><td>16-09-19</td><td>Manchester Utd</td><td>Arsenal</td><td>0</td><td>1</td><td>A</td><td>0</td><td>1</td><td>0</td></tr><tr><td>450628</td><td>2019</td><td>28-09-19</td><td>Manchester Utd</td><td>Liverpool</td><td>2</td><td>0</td><td>H</td><td>1</td><td>0</td><td>0</td></tr><tr><td>455058</td><td>2019</td><td>29-09-19</td><td>Arsenal</td><td>Brighton</td><td>4</td><td>0</td><td>H</td><td>1</td><td>0</td><td>0</td></tr><tr><td>455066</td><td>2019</td><td>29-09-19</td><td>Everton</td><td>Manchester City</td><td>0</td><td>1</td><td>A</td><td>0</td><td>1</td><td>0</td></tr><tr><td>455714</td><td>2019</td><td>29-09-19</td><td>West Ham</td><td>Tottenham</td><td>0</td><td>2</td><td>A</td><td>0</td><td>1</td><td>0</td></tr><tr><td>459918</td><td>2019</td><td>29-09-19</td><td>Bristol City</td><td>Chelsea</td><td>0</td><td>4</td><td>A</td><td>0</td><td>1</td><td>0</td></tr><tr><td>462833</td><td>2019</td><td>12-10-19</td><td>Manchester City</td><td>Birmingham City</td><td>3</td><td>0</td><td>H</td><td>1</td><td>0</td><td>0</td></tr><tr><td>466036</td><td>2019</td><td>13-10-19</td><td>Liverpool</td><td>Bristol City</td><td>1</td><td>1</td><td>D</td><td>0</td><td>0</td><td>1</td></tr><tr><td>466134</td><td>2019</td><td>13-10-19</td><td>Tottenham</td><td>Manchester Utd</td><td>0</td><td>3</td><td>A</td><td>0</td><td>1</td><td>0</td></tr></tbody></table></div>"
      ]
     },
     "metadata": {
      "application/vnd.databricks.v1+output": {
       "addedWidgets": {},
       "aggData": [],
       "aggError": "",
       "aggOverflow": false,
       "aggSchema": [],
       "aggSeriesLimitReached": false,
       "aggType": "",
       "arguments": {},
       "columnCustomDisplayInfos": {},
       "data": [
        [
         436880,
         2019,
         "07-09-19",
         "Manchester City",
         "Manchester Utd",
         1,
         0,
         "H",
         1,
         0,
         0
        ],
        [
         439058,
         2019,
         "07-09-19",
         "Bristol City",
         "Brighton",
         0,
         0,
         "D",
         0,
         0,
         1
        ],
        [
         441056,
         2019,
         "08-09-19",
         "Chelsea",
         "Tottenham",
         1,
         0,
         "H",
         1,
         0,
         0
        ],
        [
         441268,
         2019,
         "08-09-19",
         "Birmingham City",
         "Everton",
         0,
         1,
         "A",
         0,
         1,
         0
        ],
        [
         441488,
         2019,
         "08-09-19",
         "Liverpool",
         "Reading",
         0,
         1,
         "A",
         0,
         1,
         0
        ],
        [
         441780,
         2019,
         "08-09-19",
         "Arsenal",
         "West Ham",
         2,
         1,
         "H",
         1,
         0,
         0
        ],
        [
         442346,
         2019,
         "15-09-19",
         "Reading",
         "Manchester City",
         0,
         2,
         "A",
         0,
         1,
         0
        ],
        [
         442873,
         2019,
         "15-09-19",
         "Everton",
         "Bristol City",
         2,
         0,
         "H",
         1,
         0,
         0
        ],
        [
         446456,
         2019,
         "15-09-19",
         "Tottenham",
         "Liverpool",
         1,
         0,
         "H",
         1,
         0,
         0
        ],
        [
         447682,
         2019,
         "15-09-19",
         "Brighton",
         "Chelsea",
         1,
         1,
         "D",
         0,
         0,
         1
        ],
        [
         447836,
         2019,
         "15-09-19",
         "West Ham",
         "Birmingham City",
         1,
         0,
         "H",
         1,
         0,
         0
        ],
        [
         449407,
         2019,
         "16-09-19",
         "Manchester Utd",
         "Arsenal",
         0,
         1,
         "A",
         0,
         1,
         0
        ],
        [
         450628,
         2019,
         "28-09-19",
         "Manchester Utd",
         "Liverpool",
         2,
         0,
         "H",
         1,
         0,
         0
        ],
        [
         455058,
         2019,
         "29-09-19",
         "Arsenal",
         "Brighton",
         4,
         0,
         "H",
         1,
         0,
         0
        ],
        [
         455066,
         2019,
         "29-09-19",
         "Everton",
         "Manchester City",
         0,
         1,
         "A",
         0,
         1,
         0
        ],
        [
         455714,
         2019,
         "29-09-19",
         "West Ham",
         "Tottenham",
         0,
         2,
         "A",
         0,
         1,
         0
        ],
        [
         459918,
         2019,
         "29-09-19",
         "Bristol City",
         "Chelsea",
         0,
         4,
         "A",
         0,
         1,
         0
        ],
        [
         462833,
         2019,
         "12-10-19",
         "Manchester City",
         "Birmingham City",
         3,
         0,
         "H",
         1,
         0,
         0
        ],
        [
         466036,
         2019,
         "13-10-19",
         "Liverpool",
         "Bristol City",
         1,
         1,
         "D",
         0,
         0,
         1
        ],
        [
         466134,
         2019,
         "13-10-19",
         "Tottenham",
         "Manchester Utd",
         0,
         3,
         "A",
         0,
         1,
         0
        ]
       ],
       "datasetInfos": [],
       "dbfsResultPath": null,
       "isJsonSchema": true,
       "metadata": {},
       "overflow": false,
       "plotOptions": {
        "customPlotOptions": {},
        "displayType": "table",
        "pivotAggregation": null,
        "pivotColumns": null,
        "xColumns": null,
        "yColumns": null
       },
       "removedWidgets": [],
       "schema": [
        {
         "metadata": "{}",
         "name": "MatchId",
         "type": "\"integer\""
        },
        {
         "metadata": "{}",
         "name": "Season",
         "type": "\"integer\""
        },
        {
         "metadata": "{}",
         "name": "MatchDate",
         "type": "\"string\""
        },
        {
         "metadata": "{}",
         "name": "HomeTeam",
         "type": "\"string\""
        },
        {
         "metadata": "{}",
         "name": "AwayTeam",
         "type": "\"string\""
        },
        {
         "metadata": "{}",
         "name": "HomeTeamGoals",
         "type": "\"integer\""
        },
        {
         "metadata": "{}",
         "name": "AwayTeamGoals",
         "type": "\"integer\""
        },
        {
         "metadata": "{}",
         "name": "MatchResult",
         "type": "\"string\""
        },
        {
         "metadata": "{}",
         "name": "HomeWin",
         "type": "\"integer\""
        },
        {
         "metadata": "{}",
         "name": "AwayWin",
         "type": "\"integer\""
        },
        {
         "metadata": "{}",
         "name": "Draw",
         "type": "\"integer\""
        }
       ],
       "type": "table"
      }
     },
     "output_type": "display_data"
    },
    {
     "output_type": "execute_result",
     "data": {
      "text/plain": [
       "615"
      ]
     },
     "execution_count": 5,
     "metadata": {},
     "output_type": "execute_result"
    }
   ],
   "source": [
    "# Filtering and selecting specific columns from a DataFrame to focus on Women's Soccer League matches between 2019 and 2023.\n",
    "\n",
    "dfWomenSoccerLeague = dfMatches.filter((col('League') == 'WSL') & \\\n",
    "    (col('Season') >= 2019) & \\\n",
    "    (col('Season') <= 2023)\n",
    ")\n",
    "\n",
    "dfWomenSoccerLeague = dfWomenSoccerLeague.select('MatchId', 'Season', 'MatchDate', 'HomeTeam', 'AwayTeam', 'HomeTeamGoals', 'AwayTeamGoals', 'MatchResult', 'HomeWin', 'AwayWin', 'Draw')\n",
    "\n",
    "display(dfWomenSoccerLeague.limit(20))\n",
    "\n",
    "dfWomenSoccerLeague.count()"
   ]
  },
  {
   "cell_type": "markdown",
   "metadata": {
    "application/vnd.databricks.v1+cell": {
     "cellMetadata": {
      "byteLimit": 2048000,
      "rowLimit": 10000
     },
     "inputWidgets": {},
     "nuid": "1c8cd443-39be-487e-9974-dfe113cc3ec1",
     "showTitle": false,
     "title": ""
    }
   },
   "source": [
    "### 4. Aggregate Home and Away Matches\n",
    "\n",
    "Aggregate data separately for home and away matches, calculating wins, draws, losses, goals scored, and conceded."
   ]
  },
  {
   "cell_type": "code",
   "execution_count": 0,
   "metadata": {
    "application/vnd.databricks.v1+cell": {
     "cellMetadata": {
      "byteLimit": 2048000,
      "rowLimit": 10000
     },
     "inputWidgets": {},
     "nuid": "4a99be30-9099-43c7-a806-1cbeefbc5819",
     "showTitle": false,
     "title": ""
    }
   },
   "outputs": [
    {
     "output_type": "display_data",
     "data": {
      "text/html": [
       "<style scoped>\n",
       "  .table-result-container {\n",
       "    max-height: 300px;\n",
       "    overflow: auto;\n",
       "  }\n",
       "  table, th, td {\n",
       "    border: 1px solid black;\n",
       "    border-collapse: collapse;\n",
       "  }\n",
       "  th, td {\n",
       "    padding: 5px;\n",
       "  }\n",
       "  th {\n",
       "    text-align: left;\n",
       "  }\n",
       "</style><div class='table-result-container'><table class='table-result'><thead style='background-color: white'><tr><th>Season</th><th>Team</th><th>TotalHomeWins</th><th>TotalHomeDraws</th><th>TotalHomeLosses</th><th>TotalHomeGoalsScored</th><th>TotalHomeGoalsConceded</th></tr></thead><tbody><tr><td>2020</td><td>West Ham</td><td>0</td><td>4</td><td>7</td><td>6</td><td>22</td></tr><tr><td>2023</td><td>Liverpool</td><td>6</td><td>2</td><td>3</td><td>19</td><td>14</td></tr><tr><td>2020</td><td>Aston Villa</td><td>1</td><td>3</td><td>7</td><td>5</td><td>25</td></tr><tr><td>2022</td><td>Arsenal</td><td>8</td><td>1</td><td>2</td><td>24</td><td>8</td></tr><tr><td>2019</td><td>Everton</td><td>4</td><td>0</td><td>3</td><td>13</td><td>9</td></tr><tr><td>2021</td><td>West Ham</td><td>3</td><td>4</td><td>4</td><td>14</td><td>15</td></tr><tr><td>2022</td><td>Aston Villa</td><td>4</td><td>2</td><td>5</td><td>22</td><td>22</td></tr><tr><td>2022</td><td>Leicester City</td><td>3</td><td>1</td><td>7</td><td>11</td><td>22</td></tr><tr><td>2020</td><td>Reading</td><td>2</td><td>5</td><td>4</td><td>11</td><td>20</td></tr><tr><td>2023</td><td>Aston Villa</td><td>1</td><td>3</td><td>7</td><td>13</td><td>28</td></tr><tr><td>2020</td><td>Bristol City</td><td>2</td><td>1</td><td>8</td><td>8</td><td>33</td></tr><tr><td>2022</td><td>Brighton</td><td>3</td><td>1</td><td>7</td><td>12</td><td>33</td></tr><tr><td>2019</td><td>Liverpool</td><td>0</td><td>3</td><td>3</td><td>5</td><td>8</td></tr><tr><td>2021</td><td>Leicester City</td><td>3</td><td>1</td><td>7</td><td>9</td><td>26</td></tr><tr><td>2019</td><td>Brighton</td><td>3</td><td>3</td><td>3</td><td>10</td><td>12</td></tr><tr><td>2023</td><td>Arsenal</td><td>10</td><td>0</td><td>1</td><td>30</td><td>6</td></tr><tr><td>2023</td><td>Manchester City</td><td>8</td><td>1</td><td>2</td><td>33</td><td>8</td></tr><tr><td>2021</td><td>Birmingham City</td><td>1</td><td>1</td><td>9</td><td>5</td><td>20</td></tr><tr><td>2022</td><td>West Ham</td><td>3</td><td>3</td><td>5</td><td>12</td><td>18</td></tr><tr><td>2019</td><td>Tottenham</td><td>3</td><td>1</td><td>3</td><td>7</td><td>12</td></tr></tbody></table></div>"
      ]
     },
     "metadata": {
      "application/vnd.databricks.v1+output": {
       "addedWidgets": {},
       "aggData": [],
       "aggError": "",
       "aggOverflow": false,
       "aggSchema": [],
       "aggSeriesLimitReached": false,
       "aggType": "",
       "arguments": {},
       "columnCustomDisplayInfos": {},
       "data": [
        [
         2020,
         "West Ham",
         0,
         4,
         7,
         6,
         22
        ],
        [
         2023,
         "Liverpool",
         6,
         2,
         3,
         19,
         14
        ],
        [
         2020,
         "Aston Villa",
         1,
         3,
         7,
         5,
         25
        ],
        [
         2022,
         "Arsenal",
         8,
         1,
         2,
         24,
         8
        ],
        [
         2019,
         "Everton",
         4,
         0,
         3,
         13,
         9
        ],
        [
         2021,
         "West Ham",
         3,
         4,
         4,
         14,
         15
        ],
        [
         2022,
         "Aston Villa",
         4,
         2,
         5,
         22,
         22
        ],
        [
         2022,
         "Leicester City",
         3,
         1,
         7,
         11,
         22
        ],
        [
         2020,
         "Reading",
         2,
         5,
         4,
         11,
         20
        ],
        [
         2023,
         "Aston Villa",
         1,
         3,
         7,
         13,
         28
        ],
        [
         2020,
         "Bristol City",
         2,
         1,
         8,
         8,
         33
        ],
        [
         2022,
         "Brighton",
         3,
         1,
         7,
         12,
         33
        ],
        [
         2019,
         "Liverpool",
         0,
         3,
         3,
         5,
         8
        ],
        [
         2021,
         "Leicester City",
         3,
         1,
         7,
         9,
         26
        ],
        [
         2019,
         "Brighton",
         3,
         3,
         3,
         10,
         12
        ],
        [
         2023,
         "Arsenal",
         10,
         0,
         1,
         30,
         6
        ],
        [
         2023,
         "Manchester City",
         8,
         1,
         2,
         33,
         8
        ],
        [
         2021,
         "Birmingham City",
         1,
         1,
         9,
         5,
         20
        ],
        [
         2022,
         "West Ham",
         3,
         3,
         5,
         12,
         18
        ],
        [
         2019,
         "Tottenham",
         3,
         1,
         3,
         7,
         12
        ]
       ],
       "datasetInfos": [],
       "dbfsResultPath": null,
       "isJsonSchema": true,
       "metadata": {},
       "overflow": false,
       "plotOptions": {
        "customPlotOptions": {},
        "displayType": "table",
        "pivotAggregation": null,
        "pivotColumns": null,
        "xColumns": null,
        "yColumns": null
       },
       "removedWidgets": [],
       "schema": [
        {
         "metadata": "{}",
         "name": "Season",
         "type": "\"integer\""
        },
        {
         "metadata": "{}",
         "name": "Team",
         "type": "\"string\""
        },
        {
         "metadata": "{}",
         "name": "TotalHomeWins",
         "type": "\"long\""
        },
        {
         "metadata": "{}",
         "name": "TotalHomeDraws",
         "type": "\"long\""
        },
        {
         "metadata": "{}",
         "name": "TotalHomeLosses",
         "type": "\"long\""
        },
        {
         "metadata": "{}",
         "name": "TotalHomeGoalsScored",
         "type": "\"long\""
        },
        {
         "metadata": "{}",
         "name": "TotalHomeGoalsConceded",
         "type": "\"long\""
        }
       ],
       "type": "table"
      }
     },
     "output_type": "display_data"
    }
   ],
   "source": [
    "# Grouping the filtered WSL matches by season and home team, aggregating various statistics such as wins, draws, losses, goals scored, and conceded.\n",
    "\n",
    "dfWSLHomeMatches = dfWomenSoccerLeague.groupBy('Season', 'HomeTeam') \\\n",
    "    .agg(\n",
    "        sum('HomeWin').alias('TotalHomeWins'),\n",
    "        sum('Draw').alias('TotalHomeDraws'),\n",
    "        sum('AwayWin').alias('TotalHomeLosses'),\n",
    "        sum('HomeTeamGoals').alias('TotalHomeGoalsScored'),\n",
    "        sum('AwayTeamGoals').alias('TotalHomeGoalsConceded')\n",
    "    ) \\\n",
    "    .withColumnRenamed('HomeTeam', 'Team')\n",
    "\n",
    "display(dfWSLHomeMatches.limit(20))"
   ]
  },
  {
   "cell_type": "code",
   "execution_count": 0,
   "metadata": {
    "application/vnd.databricks.v1+cell": {
     "cellMetadata": {
      "byteLimit": 2048000,
      "rowLimit": 10000
     },
     "inputWidgets": {},
     "nuid": "85f39091-7efc-455e-9af9-f5ae89b45cf6",
     "showTitle": false,
     "title": ""
    }
   },
   "outputs": [
    {
     "output_type": "display_data",
     "data": {
      "text/html": [
       "<style scoped>\n",
       "  .table-result-container {\n",
       "    max-height: 300px;\n",
       "    overflow: auto;\n",
       "  }\n",
       "  table, th, td {\n",
       "    border: 1px solid black;\n",
       "    border-collapse: collapse;\n",
       "  }\n",
       "  th, td {\n",
       "    padding: 5px;\n",
       "  }\n",
       "  th {\n",
       "    text-align: left;\n",
       "  }\n",
       "</style><div class='table-result-container'><table class='table-result'><thead style='background-color: white'><tr><th>Season</th><th>Team</th><th>TotalAwayWins</th><th>TotalAwayDraws</th><th>TotalAwayLosses</th><th>TotalAwayGoalsScored</th><th>TotalAwayGoalsConceded</th></tr></thead><tbody><tr><td>2020</td><td>West Ham</td><td>3</td><td>2</td><td>6</td><td>15</td><td>17</td></tr><tr><td>2023</td><td>Liverpool</td><td>6</td><td>3</td><td>2</td><td>17</td><td>14</td></tr><tr><td>2020</td><td>Aston Villa</td><td>2</td><td>3</td><td>6</td><td>10</td><td>22</td></tr><tr><td>2022</td><td>Arsenal</td><td>7</td><td>1</td><td>3</td><td>25</td><td>8</td></tr><tr><td>2019</td><td>Everton</td><td>2</td><td>1</td><td>4</td><td>8</td><td>12</td></tr><tr><td>2021</td><td>West Ham</td><td>4</td><td>2</td><td>5</td><td>9</td><td>18</td></tr><tr><td>2022</td><td>Aston Villa</td><td>7</td><td>2</td><td>2</td><td>25</td><td>15</td></tr><tr><td>2022</td><td>Leicester City</td><td>2</td><td>0</td><td>9</td><td>4</td><td>26</td></tr><tr><td>2020</td><td>Reading</td><td>3</td><td>4</td><td>4</td><td>14</td><td>21</td></tr><tr><td>2023</td><td>Aston Villa</td><td>6</td><td>0</td><td>5</td><td>14</td><td>15</td></tr><tr><td>2020</td><td>Bristol City</td><td>0</td><td>5</td><td>6</td><td>10</td><td>39</td></tr><tr><td>2022</td><td>Brighton</td><td>1</td><td>3</td><td>7</td><td>14</td><td>30</td></tr><tr><td>2019</td><td>Liverpool</td><td>1</td><td>0</td><td>7</td><td>3</td><td>12</td></tr><tr><td>2021</td><td>Leicester City</td><td>1</td><td>0</td><td>10</td><td>5</td><td>27</td></tr><tr><td>2019</td><td>Brighton</td><td>0</td><td>1</td><td>6</td><td>1</td><td>18</td></tr><tr><td>2023</td><td>Manchester City</td><td>10</td><td>0</td><td>1</td><td>28</td><td>7</td></tr><tr><td>2023</td><td>Arsenal</td><td>6</td><td>2</td><td>3</td><td>23</td><td>14</td></tr><tr><td>2021</td><td>Birmingham City</td><td>2</td><td>1</td><td>8</td><td>10</td><td>31</td></tr><tr><td>2022</td><td>West Ham</td><td>3</td><td>0</td><td>8</td><td>11</td><td>26</td></tr><tr><td>2019</td><td>Tottenham</td><td>3</td><td>1</td><td>4</td><td>8</td><td>12</td></tr></tbody></table></div>"
      ]
     },
     "metadata": {
      "application/vnd.databricks.v1+output": {
       "addedWidgets": {},
       "aggData": [],
       "aggError": "",
       "aggOverflow": false,
       "aggSchema": [],
       "aggSeriesLimitReached": false,
       "aggType": "",
       "arguments": {},
       "columnCustomDisplayInfos": {},
       "data": [
        [
         2020,
         "West Ham",
         3,
         2,
         6,
         15,
         17
        ],
        [
         2023,
         "Liverpool",
         6,
         3,
         2,
         17,
         14
        ],
        [
         2020,
         "Aston Villa",
         2,
         3,
         6,
         10,
         22
        ],
        [
         2022,
         "Arsenal",
         7,
         1,
         3,
         25,
         8
        ],
        [
         2019,
         "Everton",
         2,
         1,
         4,
         8,
         12
        ],
        [
         2021,
         "West Ham",
         4,
         2,
         5,
         9,
         18
        ],
        [
         2022,
         "Aston Villa",
         7,
         2,
         2,
         25,
         15
        ],
        [
         2022,
         "Leicester City",
         2,
         0,
         9,
         4,
         26
        ],
        [
         2020,
         "Reading",
         3,
         4,
         4,
         14,
         21
        ],
        [
         2023,
         "Aston Villa",
         6,
         0,
         5,
         14,
         15
        ],
        [
         2020,
         "Bristol City",
         0,
         5,
         6,
         10,
         39
        ],
        [
         2022,
         "Brighton",
         1,
         3,
         7,
         14,
         30
        ],
        [
         2019,
         "Liverpool",
         1,
         0,
         7,
         3,
         12
        ],
        [
         2021,
         "Leicester City",
         1,
         0,
         10,
         5,
         27
        ],
        [
         2019,
         "Brighton",
         0,
         1,
         6,
         1,
         18
        ],
        [
         2023,
         "Manchester City",
         10,
         0,
         1,
         28,
         7
        ],
        [
         2023,
         "Arsenal",
         6,
         2,
         3,
         23,
         14
        ],
        [
         2021,
         "Birmingham City",
         2,
         1,
         8,
         10,
         31
        ],
        [
         2022,
         "West Ham",
         3,
         0,
         8,
         11,
         26
        ],
        [
         2019,
         "Tottenham",
         3,
         1,
         4,
         8,
         12
        ]
       ],
       "datasetInfos": [],
       "dbfsResultPath": null,
       "isJsonSchema": true,
       "metadata": {},
       "overflow": false,
       "plotOptions": {
        "customPlotOptions": {},
        "displayType": "table",
        "pivotAggregation": null,
        "pivotColumns": null,
        "xColumns": null,
        "yColumns": null
       },
       "removedWidgets": [],
       "schema": [
        {
         "metadata": "{}",
         "name": "Season",
         "type": "\"integer\""
        },
        {
         "metadata": "{}",
         "name": "Team",
         "type": "\"string\""
        },
        {
         "metadata": "{}",
         "name": "TotalAwayWins",
         "type": "\"long\""
        },
        {
         "metadata": "{}",
         "name": "TotalAwayDraws",
         "type": "\"long\""
        },
        {
         "metadata": "{}",
         "name": "TotalAwayLosses",
         "type": "\"long\""
        },
        {
         "metadata": "{}",
         "name": "TotalAwayGoalsScored",
         "type": "\"long\""
        },
        {
         "metadata": "{}",
         "name": "TotalAwayGoalsConceded",
         "type": "\"long\""
        }
       ],
       "type": "table"
      }
     },
     "output_type": "display_data"
    }
   ],
   "source": [
    "# Grouping the filtered WSL matches by season and away team, aggregating various statistics such as wins, draws, losses, goals scored, and conceded.\n",
    "\n",
    "dfWSLAwayMatches = dfWomenSoccerLeague.groupBy('Season', 'AwayTeam') \\\n",
    "    .agg(\n",
    "        sum('AwayWin').alias('TotalAwayWins'),\n",
    "        sum('Draw').alias('TotalAwayDraws'),\n",
    "        sum('HomeWin').alias('TotalAwayLosses'),\n",
    "        sum('AwayTeamGoals').alias('TotalAwayGoalsScored'),\n",
    "        sum('HomeTeamGoals').alias('TotalAwayGoalsConceded'),\n",
    "    ) \\\n",
    "    .withColumnRenamed('AwayTeam', 'Team')\n",
    "\n",
    "display(dfWSLAwayMatches.limit(20))"
   ]
  },
  {
   "cell_type": "markdown",
   "metadata": {
    "application/vnd.databricks.v1+cell": {
     "cellMetadata": {
      "byteLimit": 2048000,
      "rowLimit": 10000
     },
     "inputWidgets": {},
     "nuid": "9683ddb4-d3b3-4e2e-b46a-901b1810f36c",
     "showTitle": false,
     "title": ""
    }
   },
   "source": [
    "### 5. Combine Aggregated Data\n",
    "\n",
    "Join home and away match data to create a comprehensive view of each team's performance."
   ]
  },
  {
   "cell_type": "code",
   "execution_count": 0,
   "metadata": {
    "application/vnd.databricks.v1+cell": {
     "cellMetadata": {
      "byteLimit": 2048000,
      "rowLimit": 10000
     },
     "inputWidgets": {},
     "nuid": "1ed93ba2-3501-4d49-a07c-24d1146009bb",
     "showTitle": false,
     "title": ""
    }
   },
   "outputs": [
    {
     "output_type": "display_data",
     "data": {
      "text/html": [
       "<style scoped>\n",
       "  .table-result-container {\n",
       "    max-height: 300px;\n",
       "    overflow: auto;\n",
       "  }\n",
       "  table, th, td {\n",
       "    border: 1px solid black;\n",
       "    border-collapse: collapse;\n",
       "  }\n",
       "  th, td {\n",
       "    padding: 5px;\n",
       "  }\n",
       "  th {\n",
       "    text-align: left;\n",
       "  }\n",
       "</style><div class='table-result-container'><table class='table-result'><thead style='background-color: white'><tr><th>Season</th><th>Team</th><th>TotalHomeWins</th><th>TotalHomeDraws</th><th>TotalHomeLosses</th><th>TotalHomeGoalsScored</th><th>TotalHomeGoalsConceded</th><th>TotalAwayWins</th><th>TotalAwayDraws</th><th>TotalAwayLosses</th><th>TotalAwayGoalsScored</th><th>TotalAwayGoalsConceded</th></tr></thead><tbody><tr><td>2020</td><td>West Ham</td><td>0</td><td>4</td><td>7</td><td>6</td><td>22</td><td>3</td><td>2</td><td>6</td><td>15</td><td>17</td></tr><tr><td>2023</td><td>Liverpool</td><td>6</td><td>2</td><td>3</td><td>19</td><td>14</td><td>6</td><td>3</td><td>2</td><td>17</td><td>14</td></tr><tr><td>2020</td><td>Aston Villa</td><td>1</td><td>3</td><td>7</td><td>5</td><td>25</td><td>2</td><td>3</td><td>6</td><td>10</td><td>22</td></tr><tr><td>2022</td><td>Arsenal</td><td>8</td><td>1</td><td>2</td><td>24</td><td>8</td><td>7</td><td>1</td><td>3</td><td>25</td><td>8</td></tr><tr><td>2019</td><td>Everton</td><td>4</td><td>0</td><td>3</td><td>13</td><td>9</td><td>2</td><td>1</td><td>4</td><td>8</td><td>12</td></tr><tr><td>2021</td><td>West Ham</td><td>3</td><td>4</td><td>4</td><td>14</td><td>15</td><td>4</td><td>2</td><td>5</td><td>9</td><td>18</td></tr><tr><td>2022</td><td>Aston Villa</td><td>4</td><td>2</td><td>5</td><td>22</td><td>22</td><td>7</td><td>2</td><td>2</td><td>25</td><td>15</td></tr><tr><td>2022</td><td>Leicester City</td><td>3</td><td>1</td><td>7</td><td>11</td><td>22</td><td>2</td><td>0</td><td>9</td><td>4</td><td>26</td></tr><tr><td>2020</td><td>Reading</td><td>2</td><td>5</td><td>4</td><td>11</td><td>20</td><td>3</td><td>4</td><td>4</td><td>14</td><td>21</td></tr><tr><td>2023</td><td>Aston Villa</td><td>1</td><td>3</td><td>7</td><td>13</td><td>28</td><td>6</td><td>0</td><td>5</td><td>14</td><td>15</td></tr><tr><td>2020</td><td>Bristol City</td><td>2</td><td>1</td><td>8</td><td>8</td><td>33</td><td>0</td><td>5</td><td>6</td><td>10</td><td>39</td></tr><tr><td>2022</td><td>Brighton</td><td>3</td><td>1</td><td>7</td><td>12</td><td>33</td><td>1</td><td>3</td><td>7</td><td>14</td><td>30</td></tr><tr><td>2019</td><td>Liverpool</td><td>0</td><td>3</td><td>3</td><td>5</td><td>8</td><td>1</td><td>0</td><td>7</td><td>3</td><td>12</td></tr><tr><td>2021</td><td>Leicester City</td><td>3</td><td>1</td><td>7</td><td>9</td><td>26</td><td>1</td><td>0</td><td>10</td><td>5</td><td>27</td></tr><tr><td>2019</td><td>Brighton</td><td>3</td><td>3</td><td>3</td><td>10</td><td>12</td><td>0</td><td>1</td><td>6</td><td>1</td><td>18</td></tr><tr><td>2023</td><td>Arsenal</td><td>10</td><td>0</td><td>1</td><td>30</td><td>6</td><td>6</td><td>2</td><td>3</td><td>23</td><td>14</td></tr><tr><td>2023</td><td>Manchester City</td><td>8</td><td>1</td><td>2</td><td>33</td><td>8</td><td>10</td><td>0</td><td>1</td><td>28</td><td>7</td></tr><tr><td>2021</td><td>Birmingham City</td><td>1</td><td>1</td><td>9</td><td>5</td><td>20</td><td>2</td><td>1</td><td>8</td><td>10</td><td>31</td></tr><tr><td>2022</td><td>West Ham</td><td>3</td><td>3</td><td>5</td><td>12</td><td>18</td><td>3</td><td>0</td><td>8</td><td>11</td><td>26</td></tr><tr><td>2019</td><td>Tottenham</td><td>3</td><td>1</td><td>3</td><td>7</td><td>12</td><td>3</td><td>1</td><td>4</td><td>8</td><td>12</td></tr><tr><td>2020</td><td>Tottenham</td><td>3</td><td>3</td><td>5</td><td>11</td><td>17</td><td>2</td><td>2</td><td>7</td><td>7</td><td>24</td></tr><tr><td>2021</td><td>Arsenal</td><td>10</td><td>1</td><td>0</td><td>40</td><td>6</td><td>7</td><td>3</td><td>1</td><td>25</td><td>4</td></tr><tr><td>2019</td><td>Chelsea</td><td>8</td><td>0</td><td>0</td><td>25</td><td>4</td><td>4</td><td>3</td><td>0</td><td>22</td><td>7</td></tr><tr><td>2019</td><td>Arsenal</td><td>6</td><td>0</td><td>1</td><td>22</td><td>6</td><td>6</td><td>0</td><td>2</td><td>18</td><td>7</td></tr><tr><td>2023</td><td>West Ham</td><td>1</td><td>4</td><td>6</td><td>12</td><td>19</td><td>2</td><td>2</td><td>7</td><td>8</td><td>26</td></tr><tr><td>2021</td><td>Manchester Utd</td><td>8</td><td>1</td><td>2</td><td>29</td><td>11</td><td>4</td><td>5</td><td>2</td><td>16</td><td>11</td></tr><tr><td>2020</td><td>Everton</td><td>4</td><td>3</td><td>4</td><td>16</td><td>16</td><td>5</td><td>2</td><td>4</td><td>23</td><td>14</td></tr><tr><td>2021</td><td>Chelsea</td><td>10</td><td>1</td><td>0</td><td>29</td><td>4</td><td>8</td><td>1</td><td>2</td><td>33</td><td>7</td></tr><tr><td>2021</td><td>Brighton</td><td>4</td><td>2</td><td>5</td><td>11</td><td>18</td><td>4</td><td>0</td><td>7</td><td>13</td><td>20</td></tr><tr><td>2023</td><td>Chelsea</td><td>10</td><td>0</td><td>1</td><td>38</td><td>9</td><td>8</td><td>1</td><td>2</td><td>33</td><td>9</td></tr><tr><td>2021</td><td>Aston Villa</td><td>1</td><td>2</td><td>8</td><td>5</td><td>17</td><td>5</td><td>1</td><td>5</td><td>8</td><td>23</td></tr><tr><td>2020</td><td>Birmingham City</td><td>0</td><td>4</td><td>7</td><td>6</td><td>24</td><td>3</td><td>2</td><td>6</td><td>9</td><td>20</td></tr><tr><td>2020</td><td>Manchester City</td><td>9</td><td>2</td><td>0</td><td>36</td><td>5</td><td>8</td><td>2</td><td>1</td><td>29</td><td>8</td></tr><tr><td>2020</td><td>Chelsea</td><td>10</td><td>0</td><td>1</td><td>42</td><td>6</td><td>8</td><td>3</td><td>0</td><td>27</td><td>4</td></tr><tr><td>2023</td><td>Brighton</td><td>1</td><td>2</td><td>8</td><td>10</td><td>25</td><td>4</td><td>2</td><td>5</td><td>16</td><td>23</td></tr><tr><td>2020</td><td>Arsenal</td><td>8</td><td>2</td><td>1</td><td>30</td><td>6</td><td>7</td><td>1</td><td>3</td><td>33</td><td>9</td></tr><tr><td>2021</td><td>Manchester City</td><td>7</td><td>1</td><td>3</td><td>31</td><td>11</td><td>8</td><td>1</td><td>2</td><td>29</td><td>11</td></tr><tr><td>2019</td><td>West Ham</td><td>4</td><td>0</td><td>3</td><td>13</td><td>13</td><td>1</td><td>1</td><td>5</td><td>6</td><td>21</td></tr><tr><td>2023</td><td>Bristol City</td><td>0</td><td>0</td><td>11</td><td>7</td><td>32</td><td>1</td><td>3</td><td>7</td><td>13</td><td>38</td></tr><tr><td>2019</td><td>Bristol City</td><td>0</td><td>1</td><td>5</td><td>1</td><td>14</td><td>2</td><td>2</td><td>4</td><td>8</td><td>24</td></tr><tr><td>2021</td><td>Tottenham</td><td>5</td><td>3</td><td>3</td><td>12</td><td>8</td><td>4</td><td>2</td><td>5</td><td>12</td><td>15</td></tr><tr><td>2022</td><td>Manchester Utd</td><td>9</td><td>1</td><td>1</td><td>35</td><td>5</td><td>9</td><td>1</td><td>1</td><td>21</td><td>7</td></tr><tr><td>2023</td><td>Everton</td><td>1</td><td>4</td><td>6</td><td>10</td><td>22</td><td>5</td><td>1</td><td>5</td><td>14</td><td>15</td></tr><tr><td>2023</td><td>Manchester Utd</td><td>5</td><td>3</td><td>3</td><td>22</td><td>18</td><td>5</td><td>2</td><td>4</td><td>20</td><td>14</td></tr><tr><td>2023</td><td>Tottenham</td><td>4</td><td>3</td><td>4</td><td>12</td><td>14</td><td>4</td><td>4</td><td>3</td><td>19</td><td>22</td></tr><tr><td>2022</td><td>Reading</td><td>3</td><td>2</td><td>6</td><td>12</td><td>23</td><td>0</td><td>0</td><td>11</td><td>11</td><td>34</td></tr><tr><td>2022</td><td>Chelsea</td><td>11</td><td>0</td><td>0</td><td>35</td><td>6</td><td>8</td><td>1</td><td>2</td><td>31</td><td>9</td></tr><tr><td>2022</td><td>Manchester City</td><td>9</td><td>2</td><td>0</td><td>31</td><td>11</td><td>6</td><td>0</td><td>5</td><td>19</td><td>14</td></tr><tr><td>2022</td><td>Liverpool</td><td>6</td><td>0</td><td>5</td><td>12</td><td>12</td><td>0</td><td>5</td><td>6</td><td>12</td><td>27</td></tr><tr><td>2022</td><td>Everton</td><td>5</td><td>1</td><td>5</td><td>15</td><td>19</td><td>4</td><td>2</td><td>5</td><td>14</td><td>17</td></tr><tr><td>2020</td><td>Brighton</td><td>5</td><td>0</td><td>6</td><td>11</td><td>24</td><td>3</td><td>3</td><td>5</td><td>10</td><td>17</td></tr><tr><td>2019</td><td>Reading</td><td>4</td><td>2</td><td>2</td><td>13</td><td>12</td><td>2</td><td>1</td><td>3</td><td>8</td><td>12</td></tr><tr><td>2022</td><td>Tottenham</td><td>3</td><td>2</td><td>6</td><td>15</td><td>24</td><td>2</td><td>1</td><td>8</td><td>16</td><td>23</td></tr><tr><td>2020</td><td>Manchester Utd</td><td>8</td><td>2</td><td>1</td><td>26</td><td>7</td><td>7</td><td>0</td><td>4</td><td>18</td><td>13</td></tr><tr><td>2021</td><td>Reading</td><td>5</td><td>1</td><td>5</td><td>12</td><td>18</td><td>2</td><td>3</td><td>6</td><td>9</td><td>22</td></tr><tr><td>2019</td><td>Manchester City</td><td>8</td><td>1</td><td>0</td><td>24</td><td>5</td><td>5</td><td>0</td><td>2</td><td>15</td><td>4</td></tr><tr><td>2019</td><td>Birmingham City</td><td>1</td><td>1</td><td>4</td><td>3</td><td>11</td><td>1</td><td>0</td><td>6</td><td>2</td><td>12</td></tr><tr><td>2021</td><td>Everton</td><td>2</td><td>3</td><td>6</td><td>11</td><td>22</td><td>3</td><td>2</td><td>6</td><td>7</td><td>19</td></tr><tr><td>2019</td><td>Manchester Utd</td><td>5</td><td>0</td><td>2</td><td>14</td><td>3</td><td>2</td><td>2</td><td>3</td><td>10</td><td>9</td></tr><tr><td>2023</td><td>Leicester City</td><td>2</td><td>2</td><td>7</td><td>12</td><td>24</td><td>2</td><td>4</td><td>5</td><td>14</td><td>21</td></tr></tbody></table></div>"
      ]
     },
     "metadata": {
      "application/vnd.databricks.v1+output": {
       "addedWidgets": {},
       "aggData": [],
       "aggError": "",
       "aggOverflow": false,
       "aggSchema": [],
       "aggSeriesLimitReached": false,
       "aggType": "",
       "arguments": {},
       "columnCustomDisplayInfos": {},
       "data": [
        [
         2020,
         "West Ham",
         0,
         4,
         7,
         6,
         22,
         3,
         2,
         6,
         15,
         17
        ],
        [
         2023,
         "Liverpool",
         6,
         2,
         3,
         19,
         14,
         6,
         3,
         2,
         17,
         14
        ],
        [
         2020,
         "Aston Villa",
         1,
         3,
         7,
         5,
         25,
         2,
         3,
         6,
         10,
         22
        ],
        [
         2022,
         "Arsenal",
         8,
         1,
         2,
         24,
         8,
         7,
         1,
         3,
         25,
         8
        ],
        [
         2019,
         "Everton",
         4,
         0,
         3,
         13,
         9,
         2,
         1,
         4,
         8,
         12
        ],
        [
         2021,
         "West Ham",
         3,
         4,
         4,
         14,
         15,
         4,
         2,
         5,
         9,
         18
        ],
        [
         2022,
         "Aston Villa",
         4,
         2,
         5,
         22,
         22,
         7,
         2,
         2,
         25,
         15
        ],
        [
         2022,
         "Leicester City",
         3,
         1,
         7,
         11,
         22,
         2,
         0,
         9,
         4,
         26
        ],
        [
         2020,
         "Reading",
         2,
         5,
         4,
         11,
         20,
         3,
         4,
         4,
         14,
         21
        ],
        [
         2023,
         "Aston Villa",
         1,
         3,
         7,
         13,
         28,
         6,
         0,
         5,
         14,
         15
        ],
        [
         2020,
         "Bristol City",
         2,
         1,
         8,
         8,
         33,
         0,
         5,
         6,
         10,
         39
        ],
        [
         2022,
         "Brighton",
         3,
         1,
         7,
         12,
         33,
         1,
         3,
         7,
         14,
         30
        ],
        [
         2019,
         "Liverpool",
         0,
         3,
         3,
         5,
         8,
         1,
         0,
         7,
         3,
         12
        ],
        [
         2021,
         "Leicester City",
         3,
         1,
         7,
         9,
         26,
         1,
         0,
         10,
         5,
         27
        ],
        [
         2019,
         "Brighton",
         3,
         3,
         3,
         10,
         12,
         0,
         1,
         6,
         1,
         18
        ],
        [
         2023,
         "Arsenal",
         10,
         0,
         1,
         30,
         6,
         6,
         2,
         3,
         23,
         14
        ],
        [
         2023,
         "Manchester City",
         8,
         1,
         2,
         33,
         8,
         10,
         0,
         1,
         28,
         7
        ],
        [
         2021,
         "Birmingham City",
         1,
         1,
         9,
         5,
         20,
         2,
         1,
         8,
         10,
         31
        ],
        [
         2022,
         "West Ham",
         3,
         3,
         5,
         12,
         18,
         3,
         0,
         8,
         11,
         26
        ],
        [
         2019,
         "Tottenham",
         3,
         1,
         3,
         7,
         12,
         3,
         1,
         4,
         8,
         12
        ],
        [
         2020,
         "Tottenham",
         3,
         3,
         5,
         11,
         17,
         2,
         2,
         7,
         7,
         24
        ],
        [
         2021,
         "Arsenal",
         10,
         1,
         0,
         40,
         6,
         7,
         3,
         1,
         25,
         4
        ],
        [
         2019,
         "Chelsea",
         8,
         0,
         0,
         25,
         4,
         4,
         3,
         0,
         22,
         7
        ],
        [
         2019,
         "Arsenal",
         6,
         0,
         1,
         22,
         6,
         6,
         0,
         2,
         18,
         7
        ],
        [
         2023,
         "West Ham",
         1,
         4,
         6,
         12,
         19,
         2,
         2,
         7,
         8,
         26
        ],
        [
         2021,
         "Manchester Utd",
         8,
         1,
         2,
         29,
         11,
         4,
         5,
         2,
         16,
         11
        ],
        [
         2020,
         "Everton",
         4,
         3,
         4,
         16,
         16,
         5,
         2,
         4,
         23,
         14
        ],
        [
         2021,
         "Chelsea",
         10,
         1,
         0,
         29,
         4,
         8,
         1,
         2,
         33,
         7
        ],
        [
         2021,
         "Brighton",
         4,
         2,
         5,
         11,
         18,
         4,
         0,
         7,
         13,
         20
        ],
        [
         2023,
         "Chelsea",
         10,
         0,
         1,
         38,
         9,
         8,
         1,
         2,
         33,
         9
        ],
        [
         2021,
         "Aston Villa",
         1,
         2,
         8,
         5,
         17,
         5,
         1,
         5,
         8,
         23
        ],
        [
         2020,
         "Birmingham City",
         0,
         4,
         7,
         6,
         24,
         3,
         2,
         6,
         9,
         20
        ],
        [
         2020,
         "Manchester City",
         9,
         2,
         0,
         36,
         5,
         8,
         2,
         1,
         29,
         8
        ],
        [
         2020,
         "Chelsea",
         10,
         0,
         1,
         42,
         6,
         8,
         3,
         0,
         27,
         4
        ],
        [
         2023,
         "Brighton",
         1,
         2,
         8,
         10,
         25,
         4,
         2,
         5,
         16,
         23
        ],
        [
         2020,
         "Arsenal",
         8,
         2,
         1,
         30,
         6,
         7,
         1,
         3,
         33,
         9
        ],
        [
         2021,
         "Manchester City",
         7,
         1,
         3,
         31,
         11,
         8,
         1,
         2,
         29,
         11
        ],
        [
         2019,
         "West Ham",
         4,
         0,
         3,
         13,
         13,
         1,
         1,
         5,
         6,
         21
        ],
        [
         2023,
         "Bristol City",
         0,
         0,
         11,
         7,
         32,
         1,
         3,
         7,
         13,
         38
        ],
        [
         2019,
         "Bristol City",
         0,
         1,
         5,
         1,
         14,
         2,
         2,
         4,
         8,
         24
        ],
        [
         2021,
         "Tottenham",
         5,
         3,
         3,
         12,
         8,
         4,
         2,
         5,
         12,
         15
        ],
        [
         2022,
         "Manchester Utd",
         9,
         1,
         1,
         35,
         5,
         9,
         1,
         1,
         21,
         7
        ],
        [
         2023,
         "Everton",
         1,
         4,
         6,
         10,
         22,
         5,
         1,
         5,
         14,
         15
        ],
        [
         2023,
         "Manchester Utd",
         5,
         3,
         3,
         22,
         18,
         5,
         2,
         4,
         20,
         14
        ],
        [
         2023,
         "Tottenham",
         4,
         3,
         4,
         12,
         14,
         4,
         4,
         3,
         19,
         22
        ],
        [
         2022,
         "Reading",
         3,
         2,
         6,
         12,
         23,
         0,
         0,
         11,
         11,
         34
        ],
        [
         2022,
         "Chelsea",
         11,
         0,
         0,
         35,
         6,
         8,
         1,
         2,
         31,
         9
        ],
        [
         2022,
         "Manchester City",
         9,
         2,
         0,
         31,
         11,
         6,
         0,
         5,
         19,
         14
        ],
        [
         2022,
         "Liverpool",
         6,
         0,
         5,
         12,
         12,
         0,
         5,
         6,
         12,
         27
        ],
        [
         2022,
         "Everton",
         5,
         1,
         5,
         15,
         19,
         4,
         2,
         5,
         14,
         17
        ],
        [
         2020,
         "Brighton",
         5,
         0,
         6,
         11,
         24,
         3,
         3,
         5,
         10,
         17
        ],
        [
         2019,
         "Reading",
         4,
         2,
         2,
         13,
         12,
         2,
         1,
         3,
         8,
         12
        ],
        [
         2022,
         "Tottenham",
         3,
         2,
         6,
         15,
         24,
         2,
         1,
         8,
         16,
         23
        ],
        [
         2020,
         "Manchester Utd",
         8,
         2,
         1,
         26,
         7,
         7,
         0,
         4,
         18,
         13
        ],
        [
         2021,
         "Reading",
         5,
         1,
         5,
         12,
         18,
         2,
         3,
         6,
         9,
         22
        ],
        [
         2019,
         "Manchester City",
         8,
         1,
         0,
         24,
         5,
         5,
         0,
         2,
         15,
         4
        ],
        [
         2019,
         "Birmingham City",
         1,
         1,
         4,
         3,
         11,
         1,
         0,
         6,
         2,
         12
        ],
        [
         2021,
         "Everton",
         2,
         3,
         6,
         11,
         22,
         3,
         2,
         6,
         7,
         19
        ],
        [
         2019,
         "Manchester Utd",
         5,
         0,
         2,
         14,
         3,
         2,
         2,
         3,
         10,
         9
        ],
        [
         2023,
         "Leicester City",
         2,
         2,
         7,
         12,
         24,
         2,
         4,
         5,
         14,
         21
        ]
       ],
       "datasetInfos": [],
       "dbfsResultPath": null,
       "isJsonSchema": true,
       "metadata": {},
       "overflow": false,
       "plotOptions": {
        "customPlotOptions": {},
        "displayType": "table",
        "pivotAggregation": null,
        "pivotColumns": null,
        "xColumns": null,
        "yColumns": null
       },
       "removedWidgets": [],
       "schema": [
        {
         "metadata": "{}",
         "name": "Season",
         "type": "\"integer\""
        },
        {
         "metadata": "{}",
         "name": "Team",
         "type": "\"string\""
        },
        {
         "metadata": "{}",
         "name": "TotalHomeWins",
         "type": "\"long\""
        },
        {
         "metadata": "{}",
         "name": "TotalHomeDraws",
         "type": "\"long\""
        },
        {
         "metadata": "{}",
         "name": "TotalHomeLosses",
         "type": "\"long\""
        },
        {
         "metadata": "{}",
         "name": "TotalHomeGoalsScored",
         "type": "\"long\""
        },
        {
         "metadata": "{}",
         "name": "TotalHomeGoalsConceded",
         "type": "\"long\""
        },
        {
         "metadata": "{}",
         "name": "TotalAwayWins",
         "type": "\"long\""
        },
        {
         "metadata": "{}",
         "name": "TotalAwayDraws",
         "type": "\"long\""
        },
        {
         "metadata": "{}",
         "name": "TotalAwayLosses",
         "type": "\"long\""
        },
        {
         "metadata": "{}",
         "name": "TotalAwayGoalsScored",
         "type": "\"long\""
        },
        {
         "metadata": "{}",
         "name": "TotalAwayGoalsConceded",
         "type": "\"long\""
        }
       ],
       "type": "table"
      }
     },
     "output_type": "display_data"
    }
   ],
   "source": [
    "# Joining the aggregated home and away match dataframes on season and team names to create a comprehensive view of each team's performance across seasons.\n",
    "\n",
    "dfWSLTable = dfWSLHomeMatches.join(dfWSLAwayMatches, ['Season', 'Team'], 'inner')\n",
    "\n",
    "display(dfWSLTable)"
   ]
  },
  {
   "cell_type": "markdown",
   "metadata": {
    "application/vnd.databricks.v1+cell": {
     "cellMetadata": {
      "byteLimit": 2048000,
      "rowLimit": 10000
     },
     "inputWidgets": {},
     "nuid": "6f00126c-738d-4e5e-85ac-33433cd9f209",
     "showTitle": false,
     "title": ""
    }
   },
   "source": [
    "### 6. Calculate Performance Metrics\n",
    "\n",
    "Add calculated columns for total games played, won, drawn, lost, goals scored, and conceded."
   ]
  },
  {
   "cell_type": "code",
   "execution_count": 0,
   "metadata": {
    "application/vnd.databricks.v1+cell": {
     "cellMetadata": {
      "byteLimit": 2048000,
      "rowLimit": 10000
     },
     "inputWidgets": {},
     "nuid": "09e17fbc-faeb-4b63-a2de-0d25e141d39b",
     "showTitle": false,
     "title": ""
    }
   },
   "outputs": [
    {
     "output_type": "display_data",
     "data": {
      "text/html": [
       "<style scoped>\n",
       "  .table-result-container {\n",
       "    max-height: 300px;\n",
       "    overflow: auto;\n",
       "  }\n",
       "  table, th, td {\n",
       "    border: 1px solid black;\n",
       "    border-collapse: collapse;\n",
       "  }\n",
       "  th, td {\n",
       "    padding: 5px;\n",
       "  }\n",
       "  th {\n",
       "    text-align: left;\n",
       "  }\n",
       "</style><div class='table-result-container'><table class='table-result'><thead style='background-color: white'><tr><th>Season</th><th>Team</th><th>TotalHomeWins</th><th>TotalHomeDraws</th><th>TotalHomeLosses</th><th>TotalHomeGoalsScored</th><th>TotalHomeGoalsConceded</th><th>TotalAwayWins</th><th>TotalAwayDraws</th><th>TotalAwayLosses</th><th>TotalAwayGoalsScored</th><th>TotalAwayGoalsConceded</th><th>Played</th><th>Won</th><th>Drawn</th><th>Lost</th><th>For</th><th>Against</th></tr></thead><tbody><tr><td>2020</td><td>West Ham</td><td>0</td><td>4</td><td>7</td><td>6</td><td>22</td><td>3</td><td>2</td><td>6</td><td>15</td><td>17</td><td>22</td><td>3</td><td>6</td><td>13</td><td>21</td><td>39</td></tr><tr><td>2023</td><td>Liverpool</td><td>6</td><td>2</td><td>3</td><td>19</td><td>14</td><td>6</td><td>3</td><td>2</td><td>17</td><td>14</td><td>22</td><td>12</td><td>5</td><td>5</td><td>36</td><td>28</td></tr><tr><td>2020</td><td>Aston Villa</td><td>1</td><td>3</td><td>7</td><td>5</td><td>25</td><td>2</td><td>3</td><td>6</td><td>10</td><td>22</td><td>22</td><td>3</td><td>6</td><td>13</td><td>15</td><td>47</td></tr><tr><td>2022</td><td>Arsenal</td><td>8</td><td>1</td><td>2</td><td>24</td><td>8</td><td>7</td><td>1</td><td>3</td><td>25</td><td>8</td><td>22</td><td>15</td><td>2</td><td>5</td><td>49</td><td>16</td></tr><tr><td>2019</td><td>Everton</td><td>4</td><td>0</td><td>3</td><td>13</td><td>9</td><td>2</td><td>1</td><td>4</td><td>8</td><td>12</td><td>14</td><td>6</td><td>1</td><td>7</td><td>21</td><td>21</td></tr><tr><td>2021</td><td>West Ham</td><td>3</td><td>4</td><td>4</td><td>14</td><td>15</td><td>4</td><td>2</td><td>5</td><td>9</td><td>18</td><td>22</td><td>7</td><td>6</td><td>9</td><td>23</td><td>33</td></tr><tr><td>2022</td><td>Aston Villa</td><td>4</td><td>2</td><td>5</td><td>22</td><td>22</td><td>7</td><td>2</td><td>2</td><td>25</td><td>15</td><td>22</td><td>11</td><td>4</td><td>7</td><td>47</td><td>37</td></tr><tr><td>2022</td><td>Leicester City</td><td>3</td><td>1</td><td>7</td><td>11</td><td>22</td><td>2</td><td>0</td><td>9</td><td>4</td><td>26</td><td>22</td><td>5</td><td>1</td><td>16</td><td>15</td><td>48</td></tr><tr><td>2020</td><td>Reading</td><td>2</td><td>5</td><td>4</td><td>11</td><td>20</td><td>3</td><td>4</td><td>4</td><td>14</td><td>21</td><td>22</td><td>5</td><td>9</td><td>8</td><td>25</td><td>41</td></tr><tr><td>2023</td><td>Aston Villa</td><td>1</td><td>3</td><td>7</td><td>13</td><td>28</td><td>6</td><td>0</td><td>5</td><td>14</td><td>15</td><td>22</td><td>7</td><td>3</td><td>12</td><td>27</td><td>43</td></tr><tr><td>2020</td><td>Bristol City</td><td>2</td><td>1</td><td>8</td><td>8</td><td>33</td><td>0</td><td>5</td><td>6</td><td>10</td><td>39</td><td>22</td><td>2</td><td>6</td><td>14</td><td>18</td><td>72</td></tr><tr><td>2022</td><td>Brighton</td><td>3</td><td>1</td><td>7</td><td>12</td><td>33</td><td>1</td><td>3</td><td>7</td><td>14</td><td>30</td><td>22</td><td>4</td><td>4</td><td>14</td><td>26</td><td>63</td></tr><tr><td>2019</td><td>Liverpool</td><td>0</td><td>3</td><td>3</td><td>5</td><td>8</td><td>1</td><td>0</td><td>7</td><td>3</td><td>12</td><td>14</td><td>1</td><td>3</td><td>10</td><td>8</td><td>20</td></tr><tr><td>2021</td><td>Leicester City</td><td>3</td><td>1</td><td>7</td><td>9</td><td>26</td><td>1</td><td>0</td><td>10</td><td>5</td><td>27</td><td>22</td><td>4</td><td>1</td><td>17</td><td>14</td><td>53</td></tr><tr><td>2019</td><td>Brighton</td><td>3</td><td>3</td><td>3</td><td>10</td><td>12</td><td>0</td><td>1</td><td>6</td><td>1</td><td>18</td><td>16</td><td>3</td><td>4</td><td>9</td><td>11</td><td>30</td></tr><tr><td>2023</td><td>Arsenal</td><td>10</td><td>0</td><td>1</td><td>30</td><td>6</td><td>6</td><td>2</td><td>3</td><td>23</td><td>14</td><td>22</td><td>16</td><td>2</td><td>4</td><td>53</td><td>20</td></tr><tr><td>2023</td><td>Manchester City</td><td>8</td><td>1</td><td>2</td><td>33</td><td>8</td><td>10</td><td>0</td><td>1</td><td>28</td><td>7</td><td>22</td><td>18</td><td>1</td><td>3</td><td>61</td><td>15</td></tr><tr><td>2021</td><td>Birmingham City</td><td>1</td><td>1</td><td>9</td><td>5</td><td>20</td><td>2</td><td>1</td><td>8</td><td>10</td><td>31</td><td>22</td><td>3</td><td>2</td><td>17</td><td>15</td><td>51</td></tr><tr><td>2022</td><td>West Ham</td><td>3</td><td>3</td><td>5</td><td>12</td><td>18</td><td>3</td><td>0</td><td>8</td><td>11</td><td>26</td><td>22</td><td>6</td><td>3</td><td>13</td><td>23</td><td>44</td></tr><tr><td>2019</td><td>Tottenham</td><td>3</td><td>1</td><td>3</td><td>7</td><td>12</td><td>3</td><td>1</td><td>4</td><td>8</td><td>12</td><td>15</td><td>6</td><td>2</td><td>7</td><td>15</td><td>24</td></tr></tbody></table></div>"
      ]
     },
     "metadata": {
      "application/vnd.databricks.v1+output": {
       "addedWidgets": {},
       "aggData": [],
       "aggError": "",
       "aggOverflow": false,
       "aggSchema": [],
       "aggSeriesLimitReached": false,
       "aggType": "",
       "arguments": {},
       "columnCustomDisplayInfos": {},
       "data": [
        [
         2020,
         "West Ham",
         0,
         4,
         7,
         6,
         22,
         3,
         2,
         6,
         15,
         17,
         22,
         3,
         6,
         13,
         21,
         39
        ],
        [
         2023,
         "Liverpool",
         6,
         2,
         3,
         19,
         14,
         6,
         3,
         2,
         17,
         14,
         22,
         12,
         5,
         5,
         36,
         28
        ],
        [
         2020,
         "Aston Villa",
         1,
         3,
         7,
         5,
         25,
         2,
         3,
         6,
         10,
         22,
         22,
         3,
         6,
         13,
         15,
         47
        ],
        [
         2022,
         "Arsenal",
         8,
         1,
         2,
         24,
         8,
         7,
         1,
         3,
         25,
         8,
         22,
         15,
         2,
         5,
         49,
         16
        ],
        [
         2019,
         "Everton",
         4,
         0,
         3,
         13,
         9,
         2,
         1,
         4,
         8,
         12,
         14,
         6,
         1,
         7,
         21,
         21
        ],
        [
         2021,
         "West Ham",
         3,
         4,
         4,
         14,
         15,
         4,
         2,
         5,
         9,
         18,
         22,
         7,
         6,
         9,
         23,
         33
        ],
        [
         2022,
         "Aston Villa",
         4,
         2,
         5,
         22,
         22,
         7,
         2,
         2,
         25,
         15,
         22,
         11,
         4,
         7,
         47,
         37
        ],
        [
         2022,
         "Leicester City",
         3,
         1,
         7,
         11,
         22,
         2,
         0,
         9,
         4,
         26,
         22,
         5,
         1,
         16,
         15,
         48
        ],
        [
         2020,
         "Reading",
         2,
         5,
         4,
         11,
         20,
         3,
         4,
         4,
         14,
         21,
         22,
         5,
         9,
         8,
         25,
         41
        ],
        [
         2023,
         "Aston Villa",
         1,
         3,
         7,
         13,
         28,
         6,
         0,
         5,
         14,
         15,
         22,
         7,
         3,
         12,
         27,
         43
        ],
        [
         2020,
         "Bristol City",
         2,
         1,
         8,
         8,
         33,
         0,
         5,
         6,
         10,
         39,
         22,
         2,
         6,
         14,
         18,
         72
        ],
        [
         2022,
         "Brighton",
         3,
         1,
         7,
         12,
         33,
         1,
         3,
         7,
         14,
         30,
         22,
         4,
         4,
         14,
         26,
         63
        ],
        [
         2019,
         "Liverpool",
         0,
         3,
         3,
         5,
         8,
         1,
         0,
         7,
         3,
         12,
         14,
         1,
         3,
         10,
         8,
         20
        ],
        [
         2021,
         "Leicester City",
         3,
         1,
         7,
         9,
         26,
         1,
         0,
         10,
         5,
         27,
         22,
         4,
         1,
         17,
         14,
         53
        ],
        [
         2019,
         "Brighton",
         3,
         3,
         3,
         10,
         12,
         0,
         1,
         6,
         1,
         18,
         16,
         3,
         4,
         9,
         11,
         30
        ],
        [
         2023,
         "Arsenal",
         10,
         0,
         1,
         30,
         6,
         6,
         2,
         3,
         23,
         14,
         22,
         16,
         2,
         4,
         53,
         20
        ],
        [
         2023,
         "Manchester City",
         8,
         1,
         2,
         33,
         8,
         10,
         0,
         1,
         28,
         7,
         22,
         18,
         1,
         3,
         61,
         15
        ],
        [
         2021,
         "Birmingham City",
         1,
         1,
         9,
         5,
         20,
         2,
         1,
         8,
         10,
         31,
         22,
         3,
         2,
         17,
         15,
         51
        ],
        [
         2022,
         "West Ham",
         3,
         3,
         5,
         12,
         18,
         3,
         0,
         8,
         11,
         26,
         22,
         6,
         3,
         13,
         23,
         44
        ],
        [
         2019,
         "Tottenham",
         3,
         1,
         3,
         7,
         12,
         3,
         1,
         4,
         8,
         12,
         15,
         6,
         2,
         7,
         15,
         24
        ]
       ],
       "datasetInfos": [],
       "dbfsResultPath": null,
       "isJsonSchema": true,
       "metadata": {},
       "overflow": false,
       "plotOptions": {
        "customPlotOptions": {},
        "displayType": "table",
        "pivotAggregation": null,
        "pivotColumns": null,
        "xColumns": null,
        "yColumns": null
       },
       "removedWidgets": [],
       "schema": [
        {
         "metadata": "{}",
         "name": "Season",
         "type": "\"integer\""
        },
        {
         "metadata": "{}",
         "name": "Team",
         "type": "\"string\""
        },
        {
         "metadata": "{}",
         "name": "TotalHomeWins",
         "type": "\"long\""
        },
        {
         "metadata": "{}",
         "name": "TotalHomeDraws",
         "type": "\"long\""
        },
        {
         "metadata": "{}",
         "name": "TotalHomeLosses",
         "type": "\"long\""
        },
        {
         "metadata": "{}",
         "name": "TotalHomeGoalsScored",
         "type": "\"long\""
        },
        {
         "metadata": "{}",
         "name": "TotalHomeGoalsConceded",
         "type": "\"long\""
        },
        {
         "metadata": "{}",
         "name": "TotalAwayWins",
         "type": "\"long\""
        },
        {
         "metadata": "{}",
         "name": "TotalAwayDraws",
         "type": "\"long\""
        },
        {
         "metadata": "{}",
         "name": "TotalAwayLosses",
         "type": "\"long\""
        },
        {
         "metadata": "{}",
         "name": "TotalAwayGoalsScored",
         "type": "\"long\""
        },
        {
         "metadata": "{}",
         "name": "TotalAwayGoalsConceded",
         "type": "\"long\""
        },
        {
         "metadata": "{}",
         "name": "Played",
         "type": "\"long\""
        },
        {
         "metadata": "{}",
         "name": "Won",
         "type": "\"long\""
        },
        {
         "metadata": "{}",
         "name": "Drawn",
         "type": "\"long\""
        },
        {
         "metadata": "{}",
         "name": "Lost",
         "type": "\"long\""
        },
        {
         "metadata": "{}",
         "name": "For",
         "type": "\"long\""
        },
        {
         "metadata": "{}",
         "name": "Against",
         "type": "\"long\""
        }
       ],
       "type": "table"
      }
     },
     "output_type": "display_data"
    }
   ],
   "source": [
    "# Adding calculated columns for total games played, won, drawn, lost, goals scored ('For'), and goals conceded ('Against').\n",
    "\n",
    "dfWSLTable = dfWSLTable.withColumn('Played', col('TotalHomeWins') + col('TotalAwayWins') \\\n",
    "    + col('TotalHomeDraws') + col('TotalAwayDraws') + col('TotalHomeLosses') + col('TotalAwayLosses')) \\\n",
    "    .withColumn('Won', col('TotalHomeWins') + col('TotalAwayWins')) \\\n",
    "    .withColumn('Drawn', col('TotalHomeDraws') + col('TotalAwayDraws')) \\\n",
    "    .withColumn('Lost', col('TotalHomeLosses') + col('TotalAwayLosses')) \\\n",
    "    .withColumn('For', col('TotalHomeGoalsScored') + col('TotalAwayGoalsScored')) \\\n",
    "    .withColumn('Against', col('TotalHomeGoalsConceded') + col('TotalAwayGoalsConceded')) \\\n",
    " \n",
    "display(dfWSLTable.limit(20))"
   ]
  },
  {
   "cell_type": "markdown",
   "metadata": {
    "application/vnd.databricks.v1+cell": {
     "cellMetadata": {
      "byteLimit": 2048000,
      "rowLimit": 10000
     },
     "inputWidgets": {},
     "nuid": "ebcb97e9-5eaa-4a62-b86e-701a81c7a311",
     "showTitle": false,
     "title": ""
    }
   },
   "source": [
    "### 7. Clean Up and Sort\n",
    "\n",
    "Remove intermediate aggregation columns and sort the table by season."
   ]
  },
  {
   "cell_type": "code",
   "execution_count": 0,
   "metadata": {
    "application/vnd.databricks.v1+cell": {
     "cellMetadata": {
      "byteLimit": 2048000,
      "rowLimit": 10000
     },
     "inputWidgets": {},
     "nuid": "d4058f13-a85c-4f80-8b99-50ee450df773",
     "showTitle": false,
     "title": ""
    }
   },
   "outputs": [
    {
     "output_type": "display_data",
     "data": {
      "text/html": [
       "<style scoped>\n",
       "  .table-result-container {\n",
       "    max-height: 300px;\n",
       "    overflow: auto;\n",
       "  }\n",
       "  table, th, td {\n",
       "    border: 1px solid black;\n",
       "    border-collapse: collapse;\n",
       "  }\n",
       "  th, td {\n",
       "    padding: 5px;\n",
       "  }\n",
       "  th {\n",
       "    text-align: left;\n",
       "  }\n",
       "</style><div class='table-result-container'><table class='table-result'><thead style='background-color: white'><tr><th>Season</th><th>Team</th><th>Played</th><th>Won</th><th>Drawn</th><th>Lost</th><th>For</th><th>Against</th></tr></thead><tbody><tr><td>2023</td><td>Manchester City</td><td>22</td><td>18</td><td>1</td><td>3</td><td>61</td><td>15</td></tr><tr><td>2023</td><td>Liverpool</td><td>22</td><td>12</td><td>5</td><td>5</td><td>36</td><td>28</td></tr><tr><td>2023</td><td>Aston Villa</td><td>22</td><td>7</td><td>3</td><td>12</td><td>27</td><td>43</td></tr><tr><td>2023</td><td>Arsenal</td><td>22</td><td>16</td><td>2</td><td>4</td><td>53</td><td>20</td></tr><tr><td>2023</td><td>Manchester Utd</td><td>22</td><td>10</td><td>5</td><td>7</td><td>42</td><td>32</td></tr><tr><td>2023</td><td>Chelsea</td><td>22</td><td>18</td><td>1</td><td>3</td><td>71</td><td>18</td></tr><tr><td>2023</td><td>Brighton</td><td>22</td><td>5</td><td>4</td><td>13</td><td>26</td><td>48</td></tr><tr><td>2023</td><td>Leicester City</td><td>22</td><td>4</td><td>6</td><td>12</td><td>26</td><td>45</td></tr><tr><td>2023</td><td>West Ham</td><td>22</td><td>3</td><td>6</td><td>13</td><td>20</td><td>45</td></tr><tr><td>2023</td><td>Bristol City</td><td>22</td><td>1</td><td>3</td><td>18</td><td>20</td><td>70</td></tr><tr><td>2023</td><td>Tottenham</td><td>22</td><td>8</td><td>7</td><td>7</td><td>31</td><td>36</td></tr><tr><td>2023</td><td>Everton</td><td>22</td><td>6</td><td>5</td><td>11</td><td>24</td><td>37</td></tr><tr><td>2022</td><td>Aston Villa</td><td>22</td><td>11</td><td>4</td><td>7</td><td>47</td><td>37</td></tr><tr><td>2022</td><td>Brighton</td><td>22</td><td>4</td><td>4</td><td>14</td><td>26</td><td>63</td></tr><tr><td>2022</td><td>West Ham</td><td>22</td><td>6</td><td>3</td><td>13</td><td>23</td><td>44</td></tr><tr><td>2022</td><td>Arsenal</td><td>22</td><td>15</td><td>2</td><td>5</td><td>49</td><td>16</td></tr><tr><td>2022</td><td>Reading</td><td>22</td><td>3</td><td>2</td><td>17</td><td>23</td><td>57</td></tr><tr><td>2022</td><td>Chelsea</td><td>22</td><td>19</td><td>1</td><td>2</td><td>66</td><td>15</td></tr><tr><td>2022</td><td>Manchester Utd</td><td>22</td><td>18</td><td>2</td><td>2</td><td>56</td><td>12</td></tr><tr><td>2022</td><td>Leicester City</td><td>22</td><td>5</td><td>1</td><td>16</td><td>15</td><td>48</td></tr></tbody></table></div>"
      ]
     },
     "metadata": {
      "application/vnd.databricks.v1+output": {
       "addedWidgets": {},
       "aggData": [],
       "aggError": "",
       "aggOverflow": false,
       "aggSchema": [],
       "aggSeriesLimitReached": false,
       "aggType": "",
       "arguments": {},
       "columnCustomDisplayInfos": {},
       "data": [
        [
         2023,
         "Manchester City",
         22,
         18,
         1,
         3,
         61,
         15
        ],
        [
         2023,
         "Liverpool",
         22,
         12,
         5,
         5,
         36,
         28
        ],
        [
         2023,
         "Aston Villa",
         22,
         7,
         3,
         12,
         27,
         43
        ],
        [
         2023,
         "Arsenal",
         22,
         16,
         2,
         4,
         53,
         20
        ],
        [
         2023,
         "Manchester Utd",
         22,
         10,
         5,
         7,
         42,
         32
        ],
        [
         2023,
         "Chelsea",
         22,
         18,
         1,
         3,
         71,
         18
        ],
        [
         2023,
         "Brighton",
         22,
         5,
         4,
         13,
         26,
         48
        ],
        [
         2023,
         "Leicester City",
         22,
         4,
         6,
         12,
         26,
         45
        ],
        [
         2023,
         "West Ham",
         22,
         3,
         6,
         13,
         20,
         45
        ],
        [
         2023,
         "Bristol City",
         22,
         1,
         3,
         18,
         20,
         70
        ],
        [
         2023,
         "Tottenham",
         22,
         8,
         7,
         7,
         31,
         36
        ],
        [
         2023,
         "Everton",
         22,
         6,
         5,
         11,
         24,
         37
        ],
        [
         2022,
         "Aston Villa",
         22,
         11,
         4,
         7,
         47,
         37
        ],
        [
         2022,
         "Brighton",
         22,
         4,
         4,
         14,
         26,
         63
        ],
        [
         2022,
         "West Ham",
         22,
         6,
         3,
         13,
         23,
         44
        ],
        [
         2022,
         "Arsenal",
         22,
         15,
         2,
         5,
         49,
         16
        ],
        [
         2022,
         "Reading",
         22,
         3,
         2,
         17,
         23,
         57
        ],
        [
         2022,
         "Chelsea",
         22,
         19,
         1,
         2,
         66,
         15
        ],
        [
         2022,
         "Manchester Utd",
         22,
         18,
         2,
         2,
         56,
         12
        ],
        [
         2022,
         "Leicester City",
         22,
         5,
         1,
         16,
         15,
         48
        ]
       ],
       "datasetInfos": [],
       "dbfsResultPath": null,
       "isJsonSchema": true,
       "metadata": {},
       "overflow": false,
       "plotOptions": {
        "customPlotOptions": {},
        "displayType": "table",
        "pivotAggregation": null,
        "pivotColumns": null,
        "xColumns": null,
        "yColumns": null
       },
       "removedWidgets": [],
       "schema": [
        {
         "metadata": "{}",
         "name": "Season",
         "type": "\"integer\""
        },
        {
         "metadata": "{}",
         "name": "Team",
         "type": "\"string\""
        },
        {
         "metadata": "{}",
         "name": "Played",
         "type": "\"long\""
        },
        {
         "metadata": "{}",
         "name": "Won",
         "type": "\"long\""
        },
        {
         "metadata": "{}",
         "name": "Drawn",
         "type": "\"long\""
        },
        {
         "metadata": "{}",
         "name": "Lost",
         "type": "\"long\""
        },
        {
         "metadata": "{}",
         "name": "For",
         "type": "\"long\""
        },
        {
         "metadata": "{}",
         "name": "Against",
         "type": "\"long\""
        }
       ],
       "type": "table"
      }
     },
     "output_type": "display_data"
    }
   ],
   "source": [
    "# Removing unnecessary intermediate aggregation columns and sorting the final table by season in descending order.\n",
    "\n",
    "removeCols = ['TotalHomeWins', 'TotalHomeDraws', 'TotalHomeLosses', 'TotalHomeGoalsScored', 'TotalHomeGoalsConceded',\n",
    "              'TotalAwayWins', 'TotalAwayDraws', 'TotalAwayLosses', 'TotalAwayGoalsScored', 'TotalAwayGoalsConceded'\n",
    "             ]\n",
    "\n",
    "dfWSLTable = dfWSLTable.drop(*removeCols).sort(col('Season').desc())\n",
    "\n",
    "display(dfWSLTable.limit(20))"
   ]
  },
  {
   "cell_type": "markdown",
   "metadata": {
    "application/vnd.databricks.v1+cell": {
     "cellMetadata": {
      "byteLimit": 2048000,
      "rowLimit": 10000
     },
     "inputWidgets": {},
     "nuid": "993fb0c6-62bf-42b3-8be9-d4b779ada286",
     "showTitle": false,
     "title": ""
    }
   },
   "source": [
    "### 8. Goal Difference and Points\n",
    "\n",
    "Calculate goal difference and points based on wins and draws."
   ]
  },
  {
   "cell_type": "code",
   "execution_count": 0,
   "metadata": {
    "application/vnd.databricks.v1+cell": {
     "cellMetadata": {
      "byteLimit": 2048000,
      "rowLimit": 10000
     },
     "inputWidgets": {},
     "nuid": "692d8c7a-13ad-46e7-95ba-643caf26e7e0",
     "showTitle": false,
     "title": ""
    }
   },
   "outputs": [
    {
     "output_type": "display_data",
     "data": {
      "text/html": [
       "<style scoped>\n",
       "  .table-result-container {\n",
       "    max-height: 300px;\n",
       "    overflow: auto;\n",
       "  }\n",
       "  table, th, td {\n",
       "    border: 1px solid black;\n",
       "    border-collapse: collapse;\n",
       "  }\n",
       "  th, td {\n",
       "    padding: 5px;\n",
       "  }\n",
       "  th {\n",
       "    text-align: left;\n",
       "  }\n",
       "</style><div class='table-result-container'><table class='table-result'><thead style='background-color: white'><tr><th>Season</th><th>Team</th><th>Played</th><th>Won</th><th>Drawn</th><th>Lost</th><th>For</th><th>Against</th><th>GD</th></tr></thead><tbody><tr><td>2023</td><td>Arsenal</td><td>22</td><td>16</td><td>2</td><td>4</td><td>53</td><td>20</td><td>33</td></tr><tr><td>2023</td><td>Liverpool</td><td>22</td><td>12</td><td>5</td><td>5</td><td>36</td><td>28</td><td>8</td></tr><tr><td>2023</td><td>Aston Villa</td><td>22</td><td>7</td><td>3</td><td>12</td><td>27</td><td>43</td><td>-16</td></tr><tr><td>2023</td><td>Manchester City</td><td>22</td><td>18</td><td>1</td><td>3</td><td>61</td><td>15</td><td>46</td></tr><tr><td>2023</td><td>Everton</td><td>22</td><td>6</td><td>5</td><td>11</td><td>24</td><td>37</td><td>-13</td></tr><tr><td>2023</td><td>Chelsea</td><td>22</td><td>18</td><td>1</td><td>3</td><td>71</td><td>18</td><td>53</td></tr><tr><td>2023</td><td>Brighton</td><td>22</td><td>5</td><td>4</td><td>13</td><td>26</td><td>48</td><td>-22</td></tr><tr><td>2023</td><td>Leicester City</td><td>22</td><td>4</td><td>6</td><td>12</td><td>26</td><td>45</td><td>-19</td></tr><tr><td>2023</td><td>West Ham</td><td>22</td><td>3</td><td>6</td><td>13</td><td>20</td><td>45</td><td>-25</td></tr><tr><td>2023</td><td>Bristol City</td><td>22</td><td>1</td><td>3</td><td>18</td><td>20</td><td>70</td><td>-50</td></tr><tr><td>2023</td><td>Tottenham</td><td>22</td><td>8</td><td>7</td><td>7</td><td>31</td><td>36</td><td>-5</td></tr><tr><td>2023</td><td>Manchester Utd</td><td>22</td><td>10</td><td>5</td><td>7</td><td>42</td><td>32</td><td>10</td></tr><tr><td>2022</td><td>Aston Villa</td><td>22</td><td>11</td><td>4</td><td>7</td><td>47</td><td>37</td><td>10</td></tr><tr><td>2022</td><td>Brighton</td><td>22</td><td>4</td><td>4</td><td>14</td><td>26</td><td>63</td><td>-37</td></tr><tr><td>2022</td><td>West Ham</td><td>22</td><td>6</td><td>3</td><td>13</td><td>23</td><td>44</td><td>-21</td></tr><tr><td>2022</td><td>Arsenal</td><td>22</td><td>15</td><td>2</td><td>5</td><td>49</td><td>16</td><td>33</td></tr><tr><td>2022</td><td>Reading</td><td>22</td><td>3</td><td>2</td><td>17</td><td>23</td><td>57</td><td>-34</td></tr><tr><td>2022</td><td>Chelsea</td><td>22</td><td>19</td><td>1</td><td>2</td><td>66</td><td>15</td><td>51</td></tr><tr><td>2022</td><td>Manchester Utd</td><td>22</td><td>18</td><td>2</td><td>2</td><td>56</td><td>12</td><td>44</td></tr><tr><td>2022</td><td>Leicester City</td><td>22</td><td>5</td><td>1</td><td>16</td><td>15</td><td>48</td><td>-33</td></tr></tbody></table></div>"
      ]
     },
     "metadata": {
      "application/vnd.databricks.v1+output": {
       "addedWidgets": {},
       "aggData": [],
       "aggError": "",
       "aggOverflow": false,
       "aggSchema": [],
       "aggSeriesLimitReached": false,
       "aggType": "",
       "arguments": {},
       "columnCustomDisplayInfos": {},
       "data": [
        [
         2023,
         "Arsenal",
         22,
         16,
         2,
         4,
         53,
         20,
         33
        ],
        [
         2023,
         "Liverpool",
         22,
         12,
         5,
         5,
         36,
         28,
         8
        ],
        [
         2023,
         "Aston Villa",
         22,
         7,
         3,
         12,
         27,
         43,
         -16
        ],
        [
         2023,
         "Manchester City",
         22,
         18,
         1,
         3,
         61,
         15,
         46
        ],
        [
         2023,
         "Everton",
         22,
         6,
         5,
         11,
         24,
         37,
         -13
        ],
        [
         2023,
         "Chelsea",
         22,
         18,
         1,
         3,
         71,
         18,
         53
        ],
        [
         2023,
         "Brighton",
         22,
         5,
         4,
         13,
         26,
         48,
         -22
        ],
        [
         2023,
         "Leicester City",
         22,
         4,
         6,
         12,
         26,
         45,
         -19
        ],
        [
         2023,
         "West Ham",
         22,
         3,
         6,
         13,
         20,
         45,
         -25
        ],
        [
         2023,
         "Bristol City",
         22,
         1,
         3,
         18,
         20,
         70,
         -50
        ],
        [
         2023,
         "Tottenham",
         22,
         8,
         7,
         7,
         31,
         36,
         -5
        ],
        [
         2023,
         "Manchester Utd",
         22,
         10,
         5,
         7,
         42,
         32,
         10
        ],
        [
         2022,
         "Aston Villa",
         22,
         11,
         4,
         7,
         47,
         37,
         10
        ],
        [
         2022,
         "Brighton",
         22,
         4,
         4,
         14,
         26,
         63,
         -37
        ],
        [
         2022,
         "West Ham",
         22,
         6,
         3,
         13,
         23,
         44,
         -21
        ],
        [
         2022,
         "Arsenal",
         22,
         15,
         2,
         5,
         49,
         16,
         33
        ],
        [
         2022,
         "Reading",
         22,
         3,
         2,
         17,
         23,
         57,
         -34
        ],
        [
         2022,
         "Chelsea",
         22,
         19,
         1,
         2,
         66,
         15,
         51
        ],
        [
         2022,
         "Manchester Utd",
         22,
         18,
         2,
         2,
         56,
         12,
         44
        ],
        [
         2022,
         "Leicester City",
         22,
         5,
         1,
         16,
         15,
         48,
         -33
        ]
       ],
       "datasetInfos": [],
       "dbfsResultPath": null,
       "isJsonSchema": true,
       "metadata": {},
       "overflow": false,
       "plotOptions": {
        "customPlotOptions": {},
        "displayType": "table",
        "pivotAggregation": null,
        "pivotColumns": null,
        "xColumns": null,
        "yColumns": null
       },
       "removedWidgets": [],
       "schema": [
        {
         "metadata": "{}",
         "name": "Season",
         "type": "\"integer\""
        },
        {
         "metadata": "{}",
         "name": "Team",
         "type": "\"string\""
        },
        {
         "metadata": "{}",
         "name": "Played",
         "type": "\"long\""
        },
        {
         "metadata": "{}",
         "name": "Won",
         "type": "\"long\""
        },
        {
         "metadata": "{}",
         "name": "Drawn",
         "type": "\"long\""
        },
        {
         "metadata": "{}",
         "name": "Lost",
         "type": "\"long\""
        },
        {
         "metadata": "{}",
         "name": "For",
         "type": "\"long\""
        },
        {
         "metadata": "{}",
         "name": "Against",
         "type": "\"long\""
        },
        {
         "metadata": "{}",
         "name": "GD",
         "type": "\"long\""
        }
       ],
       "type": "table"
      }
     },
     "output_type": "display_data"
    }
   ],
   "source": [
    "# Adding a new column 'GD' to represent the goal difference, calculated as the difference between goals scored ('For') and goals conceded ('Against').\n",
    "\n",
    "dfWSLTable = dfWSLTable.withColumn('GD', col('For') - col('Against'))\n",
    "\n",
    "display(dfWSLTable.limit(20))"
   ]
  },
  {
   "cell_type": "code",
   "execution_count": 0,
   "metadata": {
    "application/vnd.databricks.v1+cell": {
     "cellMetadata": {
      "byteLimit": 2048000,
      "rowLimit": 10000
     },
     "inputWidgets": {},
     "nuid": "369eb1b5-5f4b-48d3-aedc-4f7c575798b4",
     "showTitle": false,
     "title": ""
    }
   },
   "outputs": [
    {
     "output_type": "display_data",
     "data": {
      "text/html": [
       "<style scoped>\n",
       "  .table-result-container {\n",
       "    max-height: 300px;\n",
       "    overflow: auto;\n",
       "  }\n",
       "  table, th, td {\n",
       "    border: 1px solid black;\n",
       "    border-collapse: collapse;\n",
       "  }\n",
       "  th, td {\n",
       "    padding: 5px;\n",
       "  }\n",
       "  th {\n",
       "    text-align: left;\n",
       "  }\n",
       "</style><div class='table-result-container'><table class='table-result'><thead style='background-color: white'><tr><th>Season</th><th>Team</th><th>Played</th><th>Won</th><th>Drawn</th><th>Lost</th><th>For</th><th>Against</th><th>GD</th><th>Points</th></tr></thead><tbody><tr><td>2023</td><td>Manchester City</td><td>22</td><td>18</td><td>1</td><td>3</td><td>61</td><td>15</td><td>46</td><td>55</td></tr><tr><td>2023</td><td>Liverpool</td><td>22</td><td>12</td><td>5</td><td>5</td><td>36</td><td>28</td><td>8</td><td>41</td></tr><tr><td>2023</td><td>Aston Villa</td><td>22</td><td>7</td><td>3</td><td>12</td><td>27</td><td>43</td><td>-16</td><td>24</td></tr><tr><td>2023</td><td>Arsenal</td><td>22</td><td>16</td><td>2</td><td>4</td><td>53</td><td>20</td><td>33</td><td>50</td></tr><tr><td>2023</td><td>Manchester Utd</td><td>22</td><td>10</td><td>5</td><td>7</td><td>42</td><td>32</td><td>10</td><td>35</td></tr><tr><td>2023</td><td>Chelsea</td><td>22</td><td>18</td><td>1</td><td>3</td><td>71</td><td>18</td><td>53</td><td>55</td></tr><tr><td>2023</td><td>Brighton</td><td>22</td><td>5</td><td>4</td><td>13</td><td>26</td><td>48</td><td>-22</td><td>19</td></tr><tr><td>2023</td><td>Leicester City</td><td>22</td><td>4</td><td>6</td><td>12</td><td>26</td><td>45</td><td>-19</td><td>18</td></tr><tr><td>2023</td><td>West Ham</td><td>22</td><td>3</td><td>6</td><td>13</td><td>20</td><td>45</td><td>-25</td><td>15</td></tr><tr><td>2023</td><td>Bristol City</td><td>22</td><td>1</td><td>3</td><td>18</td><td>20</td><td>70</td><td>-50</td><td>6</td></tr><tr><td>2023</td><td>Tottenham</td><td>22</td><td>8</td><td>7</td><td>7</td><td>31</td><td>36</td><td>-5</td><td>31</td></tr><tr><td>2023</td><td>Everton</td><td>22</td><td>6</td><td>5</td><td>11</td><td>24</td><td>37</td><td>-13</td><td>23</td></tr><tr><td>2022</td><td>Aston Villa</td><td>22</td><td>11</td><td>4</td><td>7</td><td>47</td><td>37</td><td>10</td><td>37</td></tr><tr><td>2022</td><td>Brighton</td><td>22</td><td>4</td><td>4</td><td>14</td><td>26</td><td>63</td><td>-37</td><td>16</td></tr><tr><td>2022</td><td>West Ham</td><td>22</td><td>6</td><td>3</td><td>13</td><td>23</td><td>44</td><td>-21</td><td>21</td></tr><tr><td>2022</td><td>Arsenal</td><td>22</td><td>15</td><td>2</td><td>5</td><td>49</td><td>16</td><td>33</td><td>47</td></tr><tr><td>2022</td><td>Reading</td><td>22</td><td>3</td><td>2</td><td>17</td><td>23</td><td>57</td><td>-34</td><td>11</td></tr><tr><td>2022</td><td>Chelsea</td><td>22</td><td>19</td><td>1</td><td>2</td><td>66</td><td>15</td><td>51</td><td>58</td></tr><tr><td>2022</td><td>Manchester Utd</td><td>22</td><td>18</td><td>2</td><td>2</td><td>56</td><td>12</td><td>44</td><td>56</td></tr><tr><td>2022</td><td>Leicester City</td><td>22</td><td>5</td><td>1</td><td>16</td><td>15</td><td>48</td><td>-33</td><td>16</td></tr></tbody></table></div>"
      ]
     },
     "metadata": {
      "application/vnd.databricks.v1+output": {
       "addedWidgets": {},
       "aggData": [],
       "aggError": "",
       "aggOverflow": false,
       "aggSchema": [],
       "aggSeriesLimitReached": false,
       "aggType": "",
       "arguments": {},
       "columnCustomDisplayInfos": {},
       "data": [
        [
         2023,
         "Manchester City",
         22,
         18,
         1,
         3,
         61,
         15,
         46,
         55
        ],
        [
         2023,
         "Liverpool",
         22,
         12,
         5,
         5,
         36,
         28,
         8,
         41
        ],
        [
         2023,
         "Aston Villa",
         22,
         7,
         3,
         12,
         27,
         43,
         -16,
         24
        ],
        [
         2023,
         "Arsenal",
         22,
         16,
         2,
         4,
         53,
         20,
         33,
         50
        ],
        [
         2023,
         "Manchester Utd",
         22,
         10,
         5,
         7,
         42,
         32,
         10,
         35
        ],
        [
         2023,
         "Chelsea",
         22,
         18,
         1,
         3,
         71,
         18,
         53,
         55
        ],
        [
         2023,
         "Brighton",
         22,
         5,
         4,
         13,
         26,
         48,
         -22,
         19
        ],
        [
         2023,
         "Leicester City",
         22,
         4,
         6,
         12,
         26,
         45,
         -19,
         18
        ],
        [
         2023,
         "West Ham",
         22,
         3,
         6,
         13,
         20,
         45,
         -25,
         15
        ],
        [
         2023,
         "Bristol City",
         22,
         1,
         3,
         18,
         20,
         70,
         -50,
         6
        ],
        [
         2023,
         "Tottenham",
         22,
         8,
         7,
         7,
         31,
         36,
         -5,
         31
        ],
        [
         2023,
         "Everton",
         22,
         6,
         5,
         11,
         24,
         37,
         -13,
         23
        ],
        [
         2022,
         "Aston Villa",
         22,
         11,
         4,
         7,
         47,
         37,
         10,
         37
        ],
        [
         2022,
         "Brighton",
         22,
         4,
         4,
         14,
         26,
         63,
         -37,
         16
        ],
        [
         2022,
         "West Ham",
         22,
         6,
         3,
         13,
         23,
         44,
         -21,
         21
        ],
        [
         2022,
         "Arsenal",
         22,
         15,
         2,
         5,
         49,
         16,
         33,
         47
        ],
        [
         2022,
         "Reading",
         22,
         3,
         2,
         17,
         23,
         57,
         -34,
         11
        ],
        [
         2022,
         "Chelsea",
         22,
         19,
         1,
         2,
         66,
         15,
         51,
         58
        ],
        [
         2022,
         "Manchester Utd",
         22,
         18,
         2,
         2,
         56,
         12,
         44,
         56
        ],
        [
         2022,
         "Leicester City",
         22,
         5,
         1,
         16,
         15,
         48,
         -33,
         16
        ]
       ],
       "datasetInfos": [],
       "dbfsResultPath": null,
       "isJsonSchema": true,
       "metadata": {},
       "overflow": false,
       "plotOptions": {
        "customPlotOptions": {},
        "displayType": "table",
        "pivotAggregation": null,
        "pivotColumns": null,
        "xColumns": null,
        "yColumns": null
       },
       "removedWidgets": [],
       "schema": [
        {
         "metadata": "{}",
         "name": "Season",
         "type": "\"integer\""
        },
        {
         "metadata": "{}",
         "name": "Team",
         "type": "\"string\""
        },
        {
         "metadata": "{}",
         "name": "Played",
         "type": "\"long\""
        },
        {
         "metadata": "{}",
         "name": "Won",
         "type": "\"long\""
        },
        {
         "metadata": "{}",
         "name": "Drawn",
         "type": "\"long\""
        },
        {
         "metadata": "{}",
         "name": "Lost",
         "type": "\"long\""
        },
        {
         "metadata": "{}",
         "name": "For",
         "type": "\"long\""
        },
        {
         "metadata": "{}",
         "name": "Against",
         "type": "\"long\""
        },
        {
         "metadata": "{}",
         "name": "GD",
         "type": "\"long\""
        },
        {
         "metadata": "{}",
         "name": "Points",
         "type": "\"long\""
        }
       ],
       "type": "table"
      }
     },
     "output_type": "display_data"
    }
   ],
   "source": [
    "# Calculating a 'Points' column based on the number of wins and draws, following the standard scoring system where three points are awarded for a win and one point for a draw.\n",
    "\n",
    "dfWSLTable = dfWSLTable.withColumn('Points', (col('Won') * 3) + (col('Drawn') * 1))\n",
    "\n",
    "display(dfWSLTable.limit(20))"
   ]
  },
  {
   "cell_type": "markdown",
   "metadata": {
    "application/vnd.databricks.v1+cell": {
     "cellMetadata": {
      "byteLimit": 2048000,
      "rowLimit": 10000
     },
     "inputWidgets": {},
     "nuid": "461ef7d8-8dd1-447a-9d5e-1a38ad34cc4f",
     "showTitle": false,
     "title": ""
    }
   },
   "source": [
    "### 9. Rank Teams\n",
    "\n",
    "Assign positions to teams within each season based on points, goal difference, and goals scored."
   ]
  },
  {
   "cell_type": "code",
   "execution_count": 0,
   "metadata": {
    "application/vnd.databricks.v1+cell": {
     "cellMetadata": {
      "byteLimit": 2048000,
      "rowLimit": 10000
     },
     "inputWidgets": {},
     "nuid": "bd8047ec-7929-48da-93d4-70711f02bab4",
     "showTitle": false,
     "title": ""
    }
   },
   "outputs": [
    {
     "output_type": "display_data",
     "data": {
      "text/html": [
       "<style scoped>\n",
       "  .table-result-container {\n",
       "    max-height: 300px;\n",
       "    overflow: auto;\n",
       "  }\n",
       "  table, th, td {\n",
       "    border: 1px solid black;\n",
       "    border-collapse: collapse;\n",
       "  }\n",
       "  th, td {\n",
       "    padding: 5px;\n",
       "  }\n",
       "  th {\n",
       "    text-align: left;\n",
       "  }\n",
       "</style><div class='table-result-container'><table class='table-result'><thead style='background-color: white'><tr><th>Position</th><th>Season</th><th>Team</th><th>Played</th><th>Won</th><th>Drawn</th><th>Lost</th><th>For</th><th>Against</th><th>GD</th><th>Points</th></tr></thead><tbody><tr><td>1</td><td>2019</td><td>Manchester City</td><td>16</td><td>13</td><td>1</td><td>2</td><td>39</td><td>9</td><td>30</td><td>40</td></tr><tr><td>2</td><td>2019</td><td>Chelsea</td><td>15</td><td>12</td><td>3</td><td>0</td><td>47</td><td>11</td><td>36</td><td>39</td></tr><tr><td>3</td><td>2019</td><td>Arsenal</td><td>15</td><td>12</td><td>0</td><td>3</td><td>40</td><td>13</td><td>27</td><td>36</td></tr><tr><td>4</td><td>2019</td><td>Manchester Utd</td><td>14</td><td>7</td><td>2</td><td>5</td><td>24</td><td>12</td><td>12</td><td>23</td></tr><tr><td>5</td><td>2019</td><td>Reading</td><td>14</td><td>6</td><td>3</td><td>5</td><td>21</td><td>24</td><td>-3</td><td>21</td></tr><tr><td>6</td><td>2019</td><td>Tottenham</td><td>15</td><td>6</td><td>2</td><td>7</td><td>15</td><td>24</td><td>-9</td><td>20</td></tr><tr><td>7</td><td>2019</td><td>Everton</td><td>14</td><td>6</td><td>1</td><td>7</td><td>21</td><td>21</td><td>0</td><td>19</td></tr><tr><td>8</td><td>2019</td><td>West Ham</td><td>14</td><td>5</td><td>1</td><td>8</td><td>19</td><td>34</td><td>-15</td><td>16</td></tr><tr><td>9</td><td>2019</td><td>Brighton</td><td>16</td><td>3</td><td>4</td><td>9</td><td>11</td><td>30</td><td>-19</td><td>13</td></tr><tr><td>10</td><td>2019</td><td>Bristol City</td><td>14</td><td>2</td><td>3</td><td>9</td><td>9</td><td>38</td><td>-29</td><td>9</td></tr><tr><td>11</td><td>2019</td><td>Birmingham City</td><td>13</td><td>2</td><td>1</td><td>10</td><td>5</td><td>23</td><td>-18</td><td>7</td></tr><tr><td>12</td><td>2019</td><td>Liverpool</td><td>14</td><td>1</td><td>3</td><td>10</td><td>8</td><td>20</td><td>-12</td><td>6</td></tr><tr><td>1</td><td>2020</td><td>Chelsea</td><td>22</td><td>18</td><td>3</td><td>1</td><td>69</td><td>10</td><td>59</td><td>57</td></tr><tr><td>2</td><td>2020</td><td>Manchester City</td><td>22</td><td>17</td><td>4</td><td>1</td><td>65</td><td>13</td><td>52</td><td>55</td></tr><tr><td>3</td><td>2020</td><td>Arsenal</td><td>22</td><td>15</td><td>3</td><td>4</td><td>63</td><td>15</td><td>48</td><td>48</td></tr><tr><td>4</td><td>2020</td><td>Manchester Utd</td><td>22</td><td>15</td><td>2</td><td>5</td><td>44</td><td>20</td><td>24</td><td>47</td></tr><tr><td>5</td><td>2020</td><td>Everton</td><td>22</td><td>9</td><td>5</td><td>8</td><td>39</td><td>30</td><td>9</td><td>32</td></tr><tr><td>6</td><td>2020</td><td>Brighton</td><td>22</td><td>8</td><td>3</td><td>11</td><td>21</td><td>41</td><td>-20</td><td>27</td></tr><tr><td>7</td><td>2020</td><td>Reading</td><td>22</td><td>5</td><td>9</td><td>8</td><td>25</td><td>41</td><td>-16</td><td>24</td></tr><tr><td>8</td><td>2020</td><td>Tottenham</td><td>22</td><td>5</td><td>5</td><td>12</td><td>18</td><td>41</td><td>-23</td><td>20</td></tr></tbody></table></div>"
      ]
     },
     "metadata": {
      "application/vnd.databricks.v1+output": {
       "addedWidgets": {},
       "aggData": [],
       "aggError": "",
       "aggOverflow": false,
       "aggSchema": [],
       "aggSeriesLimitReached": false,
       "aggType": "",
       "arguments": {},
       "columnCustomDisplayInfos": {},
       "data": [
        [
         1,
         2019,
         "Manchester City",
         16,
         13,
         1,
         2,
         39,
         9,
         30,
         40
        ],
        [
         2,
         2019,
         "Chelsea",
         15,
         12,
         3,
         0,
         47,
         11,
         36,
         39
        ],
        [
         3,
         2019,
         "Arsenal",
         15,
         12,
         0,
         3,
         40,
         13,
         27,
         36
        ],
        [
         4,
         2019,
         "Manchester Utd",
         14,
         7,
         2,
         5,
         24,
         12,
         12,
         23
        ],
        [
         5,
         2019,
         "Reading",
         14,
         6,
         3,
         5,
         21,
         24,
         -3,
         21
        ],
        [
         6,
         2019,
         "Tottenham",
         15,
         6,
         2,
         7,
         15,
         24,
         -9,
         20
        ],
        [
         7,
         2019,
         "Everton",
         14,
         6,
         1,
         7,
         21,
         21,
         0,
         19
        ],
        [
         8,
         2019,
         "West Ham",
         14,
         5,
         1,
         8,
         19,
         34,
         -15,
         16
        ],
        [
         9,
         2019,
         "Brighton",
         16,
         3,
         4,
         9,
         11,
         30,
         -19,
         13
        ],
        [
         10,
         2019,
         "Bristol City",
         14,
         2,
         3,
         9,
         9,
         38,
         -29,
         9
        ],
        [
         11,
         2019,
         "Birmingham City",
         13,
         2,
         1,
         10,
         5,
         23,
         -18,
         7
        ],
        [
         12,
         2019,
         "Liverpool",
         14,
         1,
         3,
         10,
         8,
         20,
         -12,
         6
        ],
        [
         1,
         2020,
         "Chelsea",
         22,
         18,
         3,
         1,
         69,
         10,
         59,
         57
        ],
        [
         2,
         2020,
         "Manchester City",
         22,
         17,
         4,
         1,
         65,
         13,
         52,
         55
        ],
        [
         3,
         2020,
         "Arsenal",
         22,
         15,
         3,
         4,
         63,
         15,
         48,
         48
        ],
        [
         4,
         2020,
         "Manchester Utd",
         22,
         15,
         2,
         5,
         44,
         20,
         24,
         47
        ],
        [
         5,
         2020,
         "Everton",
         22,
         9,
         5,
         8,
         39,
         30,
         9,
         32
        ],
        [
         6,
         2020,
         "Brighton",
         22,
         8,
         3,
         11,
         21,
         41,
         -20,
         27
        ],
        [
         7,
         2020,
         "Reading",
         22,
         5,
         9,
         8,
         25,
         41,
         -16,
         24
        ],
        [
         8,
         2020,
         "Tottenham",
         22,
         5,
         5,
         12,
         18,
         41,
         -23,
         20
        ]
       ],
       "datasetInfos": [],
       "dbfsResultPath": null,
       "isJsonSchema": true,
       "metadata": {},
       "overflow": false,
       "plotOptions": {
        "customPlotOptions": {},
        "displayType": "table",
        "pivotAggregation": null,
        "pivotColumns": null,
        "xColumns": null,
        "yColumns": null
       },
       "removedWidgets": [],
       "schema": [
        {
         "metadata": "{}",
         "name": "Position",
         "type": "\"integer\""
        },
        {
         "metadata": "{}",
         "name": "Season",
         "type": "\"integer\""
        },
        {
         "metadata": "{}",
         "name": "Team",
         "type": "\"string\""
        },
        {
         "metadata": "{}",
         "name": "Played",
         "type": "\"long\""
        },
        {
         "metadata": "{}",
         "name": "Won",
         "type": "\"long\""
        },
        {
         "metadata": "{}",
         "name": "Drawn",
         "type": "\"long\""
        },
        {
         "metadata": "{}",
         "name": "Lost",
         "type": "\"long\""
        },
        {
         "metadata": "{}",
         "name": "For",
         "type": "\"long\""
        },
        {
         "metadata": "{}",
         "name": "Against",
         "type": "\"long\""
        },
        {
         "metadata": "{}",
         "name": "GD",
         "type": "\"long\""
        },
        {
         "metadata": "{}",
         "name": "Points",
         "type": "\"long\""
        }
       ],
       "type": "table"
      }
     },
     "output_type": "display_data"
    }
   ],
   "source": [
    "# Assigning positions to teams within each season based on points, goal difference, and goals scored, using a window specification. \n",
    "\n",
    "windowSpec = Window.partitionBy('Season').orderBy(\n",
    "    desc('Points'),\n",
    "    desc('GD'),\n",
    "    desc('For')\n",
    ")\n",
    "\n",
    "dfWSLTable = dfWSLTable.withColumn('Position', rank().over(windowSpec))\n",
    "\n",
    "dfWSLTable = dfWSLTable.select('Position', 'Season', 'Team', 'Played', 'Won', 'Drawn', 'Lost', 'For', 'Against', 'GD', 'Points')\n",
    "\n",
    "display(dfWSLTable.limit(20))"
   ]
  },
  {
   "cell_type": "markdown",
   "metadata": {
    "application/vnd.databricks.v1+cell": {
     "cellMetadata": {
      "byteLimit": 2048000,
      "rowLimit": 10000
     },
     "inputWidgets": {},
     "nuid": "99bed012-48aa-4e71-8655-66efd2e42226",
     "showTitle": false,
     "title": ""
    }
   },
   "source": [
    "### 10. Save Processed Data\n",
    "\n",
    "Save the final processed league table DataFrame to Delta Lake, overwriting existing data."
   ]
  },
  {
   "cell_type": "code",
   "execution_count": 0,
   "metadata": {
    "application/vnd.databricks.v1+cell": {
     "cellMetadata": {
      "byteLimit": 2048000,
      "rowLimit": 10000
     },
     "inputWidgets": {},
     "nuid": "ac19ffb3-2e24-42a2-a1f5-0d6c5143c20d",
     "showTitle": false,
     "title": ""
    }
   },
   "outputs": [],
   "source": [
    "# Saving the final processed league table DataFrame to a Delta Lake format file, overwriting any existing data at the specified path.\n",
    "\n",
    "dfWSLTable.write.format('delta').mode('overwrite').save(silverMountPoint + '/WSL/' + 'league_table')"
   ]
  }
 ],
 "metadata": {
  "application/vnd.databricks.v1+notebook": {
   "dashboards": [],
   "environmentMetadata": null,
   "language": "python",
   "notebookMetadata": {
    "pythonIndentUnit": 4
   },
   "notebookName": "03-wsl-matches",
   "widgets": {}
  }
 },
 "nbformat": 4,
 "nbformat_minor": 0
}
