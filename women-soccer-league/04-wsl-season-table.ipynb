{
 "cells": [
  {
   "cell_type": "markdown",
   "metadata": {
    "application/vnd.databricks.v1+cell": {
     "cellMetadata": {
      "byteLimit": 2048000,
      "rowLimit": 10000
     },
     "inputWidgets": {},
     "nuid": "4f707543-d15a-4839-8f79-e2259ea6c31a",
     "showTitle": false,
     "title": ""
    }
   },
   "source": [
    "# Seasonal Segmentation of Women's Soccer League (WSL) Data Using Spark"
   ]
  },
  {
   "cell_type": "markdown",
   "metadata": {
    "application/vnd.databricks.v1+cell": {
     "cellMetadata": {
      "byteLimit": 2048000,
      "rowLimit": 10000
     },
     "inputWidgets": {},
     "nuid": "3853baf2-059a-47a5-8f5d-43142970c6d9",
     "showTitle": false,
     "title": ""
    }
   },
   "source": [
    "## Overview\n",
    "\n",
    "This notebook processes and filters league table data for the Women's Super League (WSL). The data is extracted from a silver data lake, filtered by season, and then saved to a gold data lake. \n",
    "\n",
    "This process ensures that each season's data is readily available in a separate Delta table, facilitating easier access to specific seasons' data, enhancing the usability of the dataset for historical comparisons, trend analysis, and performance evaluations."
   ]
  },
  {
   "cell_type": "markdown",
   "metadata": {
    "application/vnd.databricks.v1+cell": {
     "cellMetadata": {
      "byteLimit": 2048000,
      "rowLimit": 10000
     },
     "inputWidgets": {},
     "nuid": "a9c4a261-bab5-402a-bd81-c78db18ab437",
     "showTitle": false,
     "title": ""
    }
   },
   "source": [
    "## Steps"
   ]
  },
  {
   "cell_type": "markdown",
   "metadata": {
    "application/vnd.databricks.v1+cell": {
     "cellMetadata": {
      "byteLimit": 2048000,
      "rowLimit": 10000
     },
     "inputWidgets": {},
     "nuid": "5c552ad9-e293-4682-bb88-a73b4eba948c",
     "showTitle": false,
     "title": ""
    }
   },
   "source": [
    "### 1. Retrieve Configuration Details\n",
    "\n",
    "Get the mount points for the silver and gold data lakes from the 'config' notebook to facilitate data retrieval and storage."
   ]
  },
  {
   "cell_type": "code",
   "execution_count": 0,
   "metadata": {
    "application/vnd.databricks.v1+cell": {
     "cellMetadata": {
      "byteLimit": 2048000,
      "rowLimit": 10000
     },
     "inputWidgets": {},
     "nuid": "615fc4be-fe8d-4cf8-bd05-a051eff191a8",
     "showTitle": false,
     "title": ""
    }
   },
   "outputs": [],
   "source": [
    "# Retrieve configuration details, including mount points for silver and gold data lakes\n",
    "\n",
    "config = dbutils.notebook.run('../storage/01-config', 180)\n",
    "config_dict = eval(config)\n",
    "\n",
    "silverMountPoint = config_dict[\"silverMountPoint\"]\n",
    "goldMountPoint = config_dict[\"goldMountPoint\"]"
   ]
  },
  {
   "cell_type": "markdown",
   "metadata": {
    "application/vnd.databricks.v1+cell": {
     "cellMetadata": {
      "byteLimit": 2048000,
      "rowLimit": 10000
     },
     "inputWidgets": {},
     "nuid": "7a7346dd-65d7-40d5-92ea-999bf805572c",
     "showTitle": false,
     "title": ""
    }
   },
   "source": [
    "### 2. Load and Display the League Table\n",
    "\n",
    "Load the previously saved WSL league table from the silver data lake and display its contents along with the schema for verification."
   ]
  },
  {
   "cell_type": "code",
   "execution_count": 0,
   "metadata": {
    "application/vnd.databricks.v1+cell": {
     "cellMetadata": {
      "byteLimit": 2048000,
      "rowLimit": 10000
     },
     "inputWidgets": {},
     "nuid": "44eb4835-770e-4ba2-9f52-f673b231824d",
     "showTitle": false,
     "title": ""
    }
   },
   "outputs": [],
   "source": [
    "from pyspark.sql.functions import col, substring, lit, concat, when"
   ]
  },
  {
   "cell_type": "code",
   "execution_count": 0,
   "metadata": {
    "application/vnd.databricks.v1+cell": {
     "cellMetadata": {
      "byteLimit": 2048000,
      "rowLimit": 10000
     },
     "inputWidgets": {},
     "nuid": "191d4420-7c28-4a7c-a928-8d3eb0fe8620",
     "showTitle": false,
     "title": ""
    }
   },
   "outputs": [
    {
     "output_type": "display_data",
     "data": {
      "text/html": [
       "<style scoped>\n",
       "  .table-result-container {\n",
       "    max-height: 300px;\n",
       "    overflow: auto;\n",
       "  }\n",
       "  table, th, td {\n",
       "    border: 1px solid black;\n",
       "    border-collapse: collapse;\n",
       "  }\n",
       "  th, td {\n",
       "    padding: 5px;\n",
       "  }\n",
       "  th {\n",
       "    text-align: left;\n",
       "  }\n",
       "</style><div class='table-result-container'><table class='table-result'><thead style='background-color: white'><tr><th>Position</th><th>Season</th><th>Team</th><th>Played</th><th>Won</th><th>Drawn</th><th>Lost</th><th>For</th><th>Against</th><th>GD</th><th>Points</th></tr></thead><tbody><tr><td>1</td><td>2019</td><td>Manchester City</td><td>16</td><td>13</td><td>1</td><td>2</td><td>39</td><td>9</td><td>30</td><td>40</td></tr><tr><td>2</td><td>2019</td><td>Chelsea</td><td>15</td><td>12</td><td>3</td><td>0</td><td>47</td><td>11</td><td>36</td><td>39</td></tr><tr><td>3</td><td>2019</td><td>Arsenal</td><td>15</td><td>12</td><td>0</td><td>3</td><td>40</td><td>13</td><td>27</td><td>36</td></tr><tr><td>4</td><td>2019</td><td>Manchester Utd</td><td>14</td><td>7</td><td>2</td><td>5</td><td>24</td><td>12</td><td>12</td><td>23</td></tr><tr><td>5</td><td>2019</td><td>Reading</td><td>14</td><td>6</td><td>3</td><td>5</td><td>21</td><td>24</td><td>-3</td><td>21</td></tr><tr><td>6</td><td>2019</td><td>Tottenham</td><td>15</td><td>6</td><td>2</td><td>7</td><td>15</td><td>24</td><td>-9</td><td>20</td></tr><tr><td>7</td><td>2019</td><td>Everton</td><td>14</td><td>6</td><td>1</td><td>7</td><td>21</td><td>21</td><td>0</td><td>19</td></tr><tr><td>8</td><td>2019</td><td>West Ham</td><td>14</td><td>5</td><td>1</td><td>8</td><td>19</td><td>34</td><td>-15</td><td>16</td></tr><tr><td>9</td><td>2019</td><td>Brighton</td><td>16</td><td>3</td><td>4</td><td>9</td><td>11</td><td>30</td><td>-19</td><td>13</td></tr><tr><td>10</td><td>2019</td><td>Bristol City</td><td>14</td><td>2</td><td>3</td><td>9</td><td>9</td><td>38</td><td>-29</td><td>9</td></tr><tr><td>11</td><td>2019</td><td>Birmingham City</td><td>13</td><td>2</td><td>1</td><td>10</td><td>5</td><td>23</td><td>-18</td><td>7</td></tr><tr><td>12</td><td>2019</td><td>Liverpool</td><td>14</td><td>1</td><td>3</td><td>10</td><td>8</td><td>20</td><td>-12</td><td>6</td></tr><tr><td>1</td><td>2020</td><td>Chelsea</td><td>22</td><td>18</td><td>3</td><td>1</td><td>69</td><td>10</td><td>59</td><td>57</td></tr><tr><td>2</td><td>2020</td><td>Manchester City</td><td>22</td><td>17</td><td>4</td><td>1</td><td>65</td><td>13</td><td>52</td><td>55</td></tr><tr><td>3</td><td>2020</td><td>Arsenal</td><td>22</td><td>15</td><td>3</td><td>4</td><td>63</td><td>15</td><td>48</td><td>48</td></tr><tr><td>4</td><td>2020</td><td>Manchester Utd</td><td>22</td><td>15</td><td>2</td><td>5</td><td>44</td><td>20</td><td>24</td><td>47</td></tr><tr><td>5</td><td>2020</td><td>Everton</td><td>22</td><td>9</td><td>5</td><td>8</td><td>39</td><td>30</td><td>9</td><td>32</td></tr><tr><td>6</td><td>2020</td><td>Brighton</td><td>22</td><td>8</td><td>3</td><td>11</td><td>21</td><td>41</td><td>-20</td><td>27</td></tr><tr><td>7</td><td>2020</td><td>Reading</td><td>22</td><td>5</td><td>9</td><td>8</td><td>25</td><td>41</td><td>-16</td><td>24</td></tr><tr><td>8</td><td>2020</td><td>Tottenham</td><td>22</td><td>5</td><td>5</td><td>12</td><td>18</td><td>41</td><td>-23</td><td>20</td></tr></tbody></table></div>"
      ]
     },
     "metadata": {
      "application/vnd.databricks.v1+output": {
       "addedWidgets": {},
       "aggData": [],
       "aggError": "",
       "aggOverflow": false,
       "aggSchema": [],
       "aggSeriesLimitReached": false,
       "aggType": "",
       "arguments": {},
       "columnCustomDisplayInfos": {},
       "data": [
        [
         1,
         2019,
         "Manchester City",
         16,
         13,
         1,
         2,
         39,
         9,
         30,
         40
        ],
        [
         2,
         2019,
         "Chelsea",
         15,
         12,
         3,
         0,
         47,
         11,
         36,
         39
        ],
        [
         3,
         2019,
         "Arsenal",
         15,
         12,
         0,
         3,
         40,
         13,
         27,
         36
        ],
        [
         4,
         2019,
         "Manchester Utd",
         14,
         7,
         2,
         5,
         24,
         12,
         12,
         23
        ],
        [
         5,
         2019,
         "Reading",
         14,
         6,
         3,
         5,
         21,
         24,
         -3,
         21
        ],
        [
         6,
         2019,
         "Tottenham",
         15,
         6,
         2,
         7,
         15,
         24,
         -9,
         20
        ],
        [
         7,
         2019,
         "Everton",
         14,
         6,
         1,
         7,
         21,
         21,
         0,
         19
        ],
        [
         8,
         2019,
         "West Ham",
         14,
         5,
         1,
         8,
         19,
         34,
         -15,
         16
        ],
        [
         9,
         2019,
         "Brighton",
         16,
         3,
         4,
         9,
         11,
         30,
         -19,
         13
        ],
        [
         10,
         2019,
         "Bristol City",
         14,
         2,
         3,
         9,
         9,
         38,
         -29,
         9
        ],
        [
         11,
         2019,
         "Birmingham City",
         13,
         2,
         1,
         10,
         5,
         23,
         -18,
         7
        ],
        [
         12,
         2019,
         "Liverpool",
         14,
         1,
         3,
         10,
         8,
         20,
         -12,
         6
        ],
        [
         1,
         2020,
         "Chelsea",
         22,
         18,
         3,
         1,
         69,
         10,
         59,
         57
        ],
        [
         2,
         2020,
         "Manchester City",
         22,
         17,
         4,
         1,
         65,
         13,
         52,
         55
        ],
        [
         3,
         2020,
         "Arsenal",
         22,
         15,
         3,
         4,
         63,
         15,
         48,
         48
        ],
        [
         4,
         2020,
         "Manchester Utd",
         22,
         15,
         2,
         5,
         44,
         20,
         24,
         47
        ],
        [
         5,
         2020,
         "Everton",
         22,
         9,
         5,
         8,
         39,
         30,
         9,
         32
        ],
        [
         6,
         2020,
         "Brighton",
         22,
         8,
         3,
         11,
         21,
         41,
         -20,
         27
        ],
        [
         7,
         2020,
         "Reading",
         22,
         5,
         9,
         8,
         25,
         41,
         -16,
         24
        ],
        [
         8,
         2020,
         "Tottenham",
         22,
         5,
         5,
         12,
         18,
         41,
         -23,
         20
        ]
       ],
       "datasetInfos": [],
       "dbfsResultPath": null,
       "isJsonSchema": true,
       "metadata": {},
       "overflow": false,
       "plotOptions": {
        "customPlotOptions": {},
        "displayType": "table",
        "pivotAggregation": null,
        "pivotColumns": null,
        "xColumns": null,
        "yColumns": null
       },
       "removedWidgets": [],
       "schema": [
        {
         "metadata": "{}",
         "name": "Position",
         "type": "\"integer\""
        },
        {
         "metadata": "{}",
         "name": "Season",
         "type": "\"integer\""
        },
        {
         "metadata": "{}",
         "name": "Team",
         "type": "\"string\""
        },
        {
         "metadata": "{}",
         "name": "Played",
         "type": "\"long\""
        },
        {
         "metadata": "{}",
         "name": "Won",
         "type": "\"long\""
        },
        {
         "metadata": "{}",
         "name": "Drawn",
         "type": "\"long\""
        },
        {
         "metadata": "{}",
         "name": "Lost",
         "type": "\"long\""
        },
        {
         "metadata": "{}",
         "name": "For",
         "type": "\"long\""
        },
        {
         "metadata": "{}",
         "name": "Against",
         "type": "\"long\""
        },
        {
         "metadata": "{}",
         "name": "GD",
         "type": "\"long\""
        },
        {
         "metadata": "{}",
         "name": "Points",
         "type": "\"long\""
        }
       ],
       "type": "table"
      }
     },
     "output_type": "display_data"
    },
    {
     "output_type": "stream",
     "name": "stdout",
     "output_type": "stream",
     "text": [
      "root\n |-- Position: integer (nullable = true)\n |-- Season: integer (nullable = true)\n |-- Team: string (nullable = true)\n |-- Played: long (nullable = true)\n |-- Won: long (nullable = true)\n |-- Drawn: long (nullable = true)\n |-- Lost: long (nullable = true)\n |-- For: long (nullable = true)\n |-- Against: long (nullable = true)\n |-- GD: long (nullable = true)\n |-- Points: long (nullable = true)\n\n"
     ]
    }
   ],
   "source": [
    "dfWSLTable = spark.read.format('delta').load(silverMountPoint + '/WSL/' + 'league_table')\n",
    "display(dfWSLTable.limit(20))\n",
    "\n",
    "dfWSLTable.printSchema()"
   ]
  },
  {
   "cell_type": "markdown",
   "metadata": {
    "application/vnd.databricks.v1+cell": {
     "cellMetadata": {
      "byteLimit": 2048000,
      "rowLimit": 10000
     },
     "inputWidgets": {},
     "nuid": "f7ae64f3-bbb0-4717-9f3d-31422ff0e1c6",
     "showTitle": false,
     "title": ""
    }
   },
   "source": [
    "### 3. Filter and Save Seasonal Data"
   ]
  },
  {
   "cell_type": "markdown",
   "metadata": {
    "application/vnd.databricks.v1+cell": {
     "cellMetadata": {
      "byteLimit": 2048000,
      "rowLimit": 10000
     },
     "inputWidgets": {},
     "nuid": "f08430c8-78d7-4065-9001-6f51a4e37b4f",
     "showTitle": false,
     "title": ""
    }
   },
   "source": [
    "#### 2023 WSL Season\n",
    "\n",
    "Filter the league table for the 2023 season, remove the redundant 'Season' column, and save the result to the gold data lake."
   ]
  },
  {
   "cell_type": "code",
   "execution_count": 0,
   "metadata": {
    "application/vnd.databricks.v1+cell": {
     "cellMetadata": {
      "byteLimit": 2048000,
      "rowLimit": 10000
     },
     "inputWidgets": {},
     "nuid": "67d39c5a-8a37-4b4a-9b39-71b0780b112f",
     "showTitle": false,
     "title": ""
    }
   },
   "outputs": [
    {
     "output_type": "display_data",
     "data": {
      "text/html": [
       "<style scoped>\n",
       "  .table-result-container {\n",
       "    max-height: 300px;\n",
       "    overflow: auto;\n",
       "  }\n",
       "  table, th, td {\n",
       "    border: 1px solid black;\n",
       "    border-collapse: collapse;\n",
       "  }\n",
       "  th, td {\n",
       "    padding: 5px;\n",
       "  }\n",
       "  th {\n",
       "    text-align: left;\n",
       "  }\n",
       "</style><div class='table-result-container'><table class='table-result'><thead style='background-color: white'><tr><th>Position</th><th>Team</th><th>Played</th><th>Won</th><th>Drawn</th><th>Lost</th><th>For</th><th>Against</th><th>GD</th><th>Points</th></tr></thead><tbody><tr><td>1</td><td>Chelsea</td><td>22</td><td>18</td><td>1</td><td>3</td><td>71</td><td>18</td><td>53</td><td>55</td></tr><tr><td>2</td><td>Manchester City</td><td>22</td><td>18</td><td>1</td><td>3</td><td>61</td><td>15</td><td>46</td><td>55</td></tr><tr><td>3</td><td>Arsenal</td><td>22</td><td>16</td><td>2</td><td>4</td><td>53</td><td>20</td><td>33</td><td>50</td></tr><tr><td>4</td><td>Liverpool</td><td>22</td><td>12</td><td>5</td><td>5</td><td>36</td><td>28</td><td>8</td><td>41</td></tr><tr><td>5</td><td>Manchester Utd</td><td>22</td><td>10</td><td>5</td><td>7</td><td>42</td><td>32</td><td>10</td><td>35</td></tr><tr><td>6</td><td>Tottenham</td><td>22</td><td>8</td><td>7</td><td>7</td><td>31</td><td>36</td><td>-5</td><td>31</td></tr><tr><td>7</td><td>Aston Villa</td><td>22</td><td>7</td><td>3</td><td>12</td><td>27</td><td>43</td><td>-16</td><td>24</td></tr><tr><td>8</td><td>Everton</td><td>22</td><td>6</td><td>5</td><td>11</td><td>24</td><td>37</td><td>-13</td><td>23</td></tr><tr><td>9</td><td>Brighton</td><td>22</td><td>5</td><td>4</td><td>13</td><td>26</td><td>48</td><td>-22</td><td>19</td></tr><tr><td>10</td><td>Leicester City</td><td>22</td><td>4</td><td>6</td><td>12</td><td>26</td><td>45</td><td>-19</td><td>18</td></tr><tr><td>11</td><td>West Ham</td><td>22</td><td>3</td><td>6</td><td>13</td><td>20</td><td>45</td><td>-25</td><td>15</td></tr><tr><td>12</td><td>Bristol City</td><td>22</td><td>1</td><td>3</td><td>18</td><td>20</td><td>70</td><td>-50</td><td>6</td></tr></tbody></table></div>"
      ]
     },
     "metadata": {
      "application/vnd.databricks.v1+output": {
       "addedWidgets": {},
       "aggData": [],
       "aggError": "",
       "aggOverflow": false,
       "aggSchema": [],
       "aggSeriesLimitReached": false,
       "aggType": "",
       "arguments": {},
       "columnCustomDisplayInfos": {},
       "data": [
        [
         1,
         "Chelsea",
         22,
         18,
         1,
         3,
         71,
         18,
         53,
         55
        ],
        [
         2,
         "Manchester City",
         22,
         18,
         1,
         3,
         61,
         15,
         46,
         55
        ],
        [
         3,
         "Arsenal",
         22,
         16,
         2,
         4,
         53,
         20,
         33,
         50
        ],
        [
         4,
         "Liverpool",
         22,
         12,
         5,
         5,
         36,
         28,
         8,
         41
        ],
        [
         5,
         "Manchester Utd",
         22,
         10,
         5,
         7,
         42,
         32,
         10,
         35
        ],
        [
         6,
         "Tottenham",
         22,
         8,
         7,
         7,
         31,
         36,
         -5,
         31
        ],
        [
         7,
         "Aston Villa",
         22,
         7,
         3,
         12,
         27,
         43,
         -16,
         24
        ],
        [
         8,
         "Everton",
         22,
         6,
         5,
         11,
         24,
         37,
         -13,
         23
        ],
        [
         9,
         "Brighton",
         22,
         5,
         4,
         13,
         26,
         48,
         -22,
         19
        ],
        [
         10,
         "Leicester City",
         22,
         4,
         6,
         12,
         26,
         45,
         -19,
         18
        ],
        [
         11,
         "West Ham",
         22,
         3,
         6,
         13,
         20,
         45,
         -25,
         15
        ],
        [
         12,
         "Bristol City",
         22,
         1,
         3,
         18,
         20,
         70,
         -50,
         6
        ]
       ],
       "datasetInfos": [],
       "dbfsResultPath": null,
       "isJsonSchema": true,
       "metadata": {},
       "overflow": false,
       "plotOptions": {
        "customPlotOptions": {},
        "displayType": "table",
        "pivotAggregation": null,
        "pivotColumns": null,
        "xColumns": null,
        "yColumns": null
       },
       "removedWidgets": [],
       "schema": [
        {
         "metadata": "{}",
         "name": "Position",
         "type": "\"integer\""
        },
        {
         "metadata": "{}",
         "name": "Team",
         "type": "\"string\""
        },
        {
         "metadata": "{}",
         "name": "Played",
         "type": "\"long\""
        },
        {
         "metadata": "{}",
         "name": "Won",
         "type": "\"long\""
        },
        {
         "metadata": "{}",
         "name": "Drawn",
         "type": "\"long\""
        },
        {
         "metadata": "{}",
         "name": "Lost",
         "type": "\"long\""
        },
        {
         "metadata": "{}",
         "name": "For",
         "type": "\"long\""
        },
        {
         "metadata": "{}",
         "name": "Against",
         "type": "\"long\""
        },
        {
         "metadata": "{}",
         "name": "GD",
         "type": "\"long\""
        },
        {
         "metadata": "{}",
         "name": "Points",
         "type": "\"long\""
        }
       ],
       "type": "table"
      }
     },
     "output_type": "display_data"
    }
   ],
   "source": [
    "# Filtering the DataFrame to show only the data for the 2023 season.\n",
    "\n",
    "dfWSL2023Table = dfWSLTable.where(col('Season') == 2023).drop(col('Season'))\n",
    "\n",
    "display(dfWSL2023Table)"
   ]
  },
  {
   "cell_type": "code",
   "execution_count": 0,
   "metadata": {
    "application/vnd.databricks.v1+cell": {
     "cellMetadata": {
      "byteLimit": 2048000,
      "rowLimit": 10000
     },
     "inputWidgets": {},
     "nuid": "2be249c4-b8bd-4b4f-acb6-81022006fe09",
     "showTitle": false,
     "title": ""
    }
   },
   "outputs": [],
   "source": [
    "dfWSL2023Table.write.format('delta').mode('overwrite').save(goldMountPoint + '/WSL/' + '2023_league_table')"
   ]
  },
  {
   "cell_type": "markdown",
   "metadata": {
    "application/vnd.databricks.v1+cell": {
     "cellMetadata": {
      "byteLimit": 2048000,
      "rowLimit": 10000
     },
     "inputWidgets": {},
     "nuid": "750297d7-e2aa-4187-a9e7-dee0469fcf63",
     "showTitle": false,
     "title": ""
    }
   },
   "source": [
    "#### 2022 WSL Season\n",
    "\n",
    "Filter the league table for the 2022 season, remove the redundant 'Season' column, and save the result to the gold data lake."
   ]
  },
  {
   "cell_type": "code",
   "execution_count": 0,
   "metadata": {
    "application/vnd.databricks.v1+cell": {
     "cellMetadata": {
      "byteLimit": 2048000,
      "rowLimit": 10000
     },
     "inputWidgets": {},
     "nuid": "c35a6d7e-638b-458a-9a0f-d8c92304d31b",
     "showTitle": false,
     "title": ""
    }
   },
   "outputs": [
    {
     "output_type": "display_data",
     "data": {
      "text/html": [
       "<style scoped>\n",
       "  .table-result-container {\n",
       "    max-height: 300px;\n",
       "    overflow: auto;\n",
       "  }\n",
       "  table, th, td {\n",
       "    border: 1px solid black;\n",
       "    border-collapse: collapse;\n",
       "  }\n",
       "  th, td {\n",
       "    padding: 5px;\n",
       "  }\n",
       "  th {\n",
       "    text-align: left;\n",
       "  }\n",
       "</style><div class='table-result-container'><table class='table-result'><thead style='background-color: white'><tr><th>Position</th><th>Team</th><th>Played</th><th>Won</th><th>Drawn</th><th>Lost</th><th>For</th><th>Against</th><th>GD</th><th>Points</th></tr></thead><tbody><tr><td>1</td><td>Chelsea</td><td>22</td><td>19</td><td>1</td><td>2</td><td>66</td><td>15</td><td>51</td><td>58</td></tr><tr><td>2</td><td>Manchester Utd</td><td>22</td><td>18</td><td>2</td><td>2</td><td>56</td><td>12</td><td>44</td><td>56</td></tr><tr><td>3</td><td>Arsenal</td><td>22</td><td>15</td><td>2</td><td>5</td><td>49</td><td>16</td><td>33</td><td>47</td></tr><tr><td>4</td><td>Manchester City</td><td>22</td><td>15</td><td>2</td><td>5</td><td>50</td><td>25</td><td>25</td><td>47</td></tr><tr><td>5</td><td>Aston Villa</td><td>22</td><td>11</td><td>4</td><td>7</td><td>47</td><td>37</td><td>10</td><td>37</td></tr><tr><td>6</td><td>Everton</td><td>22</td><td>9</td><td>3</td><td>10</td><td>29</td><td>36</td><td>-7</td><td>30</td></tr><tr><td>7</td><td>Liverpool</td><td>22</td><td>6</td><td>5</td><td>11</td><td>24</td><td>39</td><td>-15</td><td>23</td></tr><tr><td>8</td><td>West Ham</td><td>22</td><td>6</td><td>3</td><td>13</td><td>23</td><td>44</td><td>-21</td><td>21</td></tr><tr><td>9</td><td>Tottenham</td><td>22</td><td>5</td><td>3</td><td>14</td><td>31</td><td>47</td><td>-16</td><td>18</td></tr><tr><td>10</td><td>Leicester City</td><td>22</td><td>5</td><td>1</td><td>16</td><td>15</td><td>48</td><td>-33</td><td>16</td></tr><tr><td>11</td><td>Brighton</td><td>22</td><td>4</td><td>4</td><td>14</td><td>26</td><td>63</td><td>-37</td><td>16</td></tr><tr><td>12</td><td>Reading</td><td>22</td><td>3</td><td>2</td><td>17</td><td>23</td><td>57</td><td>-34</td><td>11</td></tr></tbody></table></div>"
      ]
     },
     "metadata": {
      "application/vnd.databricks.v1+output": {
       "addedWidgets": {},
       "aggData": [],
       "aggError": "",
       "aggOverflow": false,
       "aggSchema": [],
       "aggSeriesLimitReached": false,
       "aggType": "",
       "arguments": {},
       "columnCustomDisplayInfos": {},
       "data": [
        [
         1,
         "Chelsea",
         22,
         19,
         1,
         2,
         66,
         15,
         51,
         58
        ],
        [
         2,
         "Manchester Utd",
         22,
         18,
         2,
         2,
         56,
         12,
         44,
         56
        ],
        [
         3,
         "Arsenal",
         22,
         15,
         2,
         5,
         49,
         16,
         33,
         47
        ],
        [
         4,
         "Manchester City",
         22,
         15,
         2,
         5,
         50,
         25,
         25,
         47
        ],
        [
         5,
         "Aston Villa",
         22,
         11,
         4,
         7,
         47,
         37,
         10,
         37
        ],
        [
         6,
         "Everton",
         22,
         9,
         3,
         10,
         29,
         36,
         -7,
         30
        ],
        [
         7,
         "Liverpool",
         22,
         6,
         5,
         11,
         24,
         39,
         -15,
         23
        ],
        [
         8,
         "West Ham",
         22,
         6,
         3,
         13,
         23,
         44,
         -21,
         21
        ],
        [
         9,
         "Tottenham",
         22,
         5,
         3,
         14,
         31,
         47,
         -16,
         18
        ],
        [
         10,
         "Leicester City",
         22,
         5,
         1,
         16,
         15,
         48,
         -33,
         16
        ],
        [
         11,
         "Brighton",
         22,
         4,
         4,
         14,
         26,
         63,
         -37,
         16
        ],
        [
         12,
         "Reading",
         22,
         3,
         2,
         17,
         23,
         57,
         -34,
         11
        ]
       ],
       "datasetInfos": [],
       "dbfsResultPath": null,
       "isJsonSchema": true,
       "metadata": {},
       "overflow": false,
       "plotOptions": {
        "customPlotOptions": {},
        "displayType": "table",
        "pivotAggregation": null,
        "pivotColumns": null,
        "xColumns": null,
        "yColumns": null
       },
       "removedWidgets": [],
       "schema": [
        {
         "metadata": "{}",
         "name": "Position",
         "type": "\"integer\""
        },
        {
         "metadata": "{}",
         "name": "Team",
         "type": "\"string\""
        },
        {
         "metadata": "{}",
         "name": "Played",
         "type": "\"long\""
        },
        {
         "metadata": "{}",
         "name": "Won",
         "type": "\"long\""
        },
        {
         "metadata": "{}",
         "name": "Drawn",
         "type": "\"long\""
        },
        {
         "metadata": "{}",
         "name": "Lost",
         "type": "\"long\""
        },
        {
         "metadata": "{}",
         "name": "For",
         "type": "\"long\""
        },
        {
         "metadata": "{}",
         "name": "Against",
         "type": "\"long\""
        },
        {
         "metadata": "{}",
         "name": "GD",
         "type": "\"long\""
        },
        {
         "metadata": "{}",
         "name": "Points",
         "type": "\"long\""
        }
       ],
       "type": "table"
      }
     },
     "output_type": "display_data"
    }
   ],
   "source": [
    "# Filtering the DataFrame to show only the data for the 2022 season.\n",
    "\n",
    "dfWSL2022Table = dfWSLTable.where(col('Season') == 2022).drop(col('Season'))\n",
    "\n",
    "display(dfWSL2022Table)"
   ]
  },
  {
   "cell_type": "code",
   "execution_count": 0,
   "metadata": {
    "application/vnd.databricks.v1+cell": {
     "cellMetadata": {
      "byteLimit": 2048000,
      "rowLimit": 10000
     },
     "inputWidgets": {},
     "nuid": "f4a2fa7f-5859-4088-a6f5-f10dae0874dc",
     "showTitle": false,
     "title": ""
    }
   },
   "outputs": [],
   "source": [
    "dfWSL2022Table.write.format('delta').mode('overwrite').save(goldMountPoint + '/WSL/' + '2022_league_table')"
   ]
  },
  {
   "cell_type": "markdown",
   "metadata": {
    "application/vnd.databricks.v1+cell": {
     "cellMetadata": {
      "byteLimit": 2048000,
      "rowLimit": 10000
     },
     "inputWidgets": {},
     "nuid": "39e8d5ae-d3cc-4395-8c7d-b4912afaace7",
     "showTitle": false,
     "title": ""
    }
   },
   "source": [
    "#### 2021 WSL Season\n",
    "\n",
    "Filter the league table for the 2021 season, remove the redundant 'Season' column, and save the result to the gold data lake."
   ]
  },
  {
   "cell_type": "code",
   "execution_count": 0,
   "metadata": {
    "application/vnd.databricks.v1+cell": {
     "cellMetadata": {
      "byteLimit": 2048000,
      "rowLimit": 10000
     },
     "inputWidgets": {},
     "nuid": "9a8d9cd5-d1ac-4cae-af6b-8639f0850708",
     "showTitle": false,
     "title": ""
    }
   },
   "outputs": [
    {
     "output_type": "display_data",
     "data": {
      "text/html": [
       "<style scoped>\n",
       "  .table-result-container {\n",
       "    max-height: 300px;\n",
       "    overflow: auto;\n",
       "  }\n",
       "  table, th, td {\n",
       "    border: 1px solid black;\n",
       "    border-collapse: collapse;\n",
       "  }\n",
       "  th, td {\n",
       "    padding: 5px;\n",
       "  }\n",
       "  th {\n",
       "    text-align: left;\n",
       "  }\n",
       "</style><div class='table-result-container'><table class='table-result'><thead style='background-color: white'><tr><th>Position</th><th>Team</th><th>Played</th><th>Won</th><th>Drawn</th><th>Lost</th><th>For</th><th>Against</th><th>GD</th><th>Points</th></tr></thead><tbody><tr><td>1</td><td>Chelsea</td><td>22</td><td>18</td><td>2</td><td>2</td><td>62</td><td>11</td><td>51</td><td>56</td></tr><tr><td>2</td><td>Arsenal</td><td>22</td><td>17</td><td>4</td><td>1</td><td>65</td><td>10</td><td>55</td><td>55</td></tr><tr><td>3</td><td>Manchester City</td><td>22</td><td>15</td><td>2</td><td>5</td><td>60</td><td>22</td><td>38</td><td>47</td></tr><tr><td>4</td><td>Manchester Utd</td><td>22</td><td>12</td><td>6</td><td>4</td><td>45</td><td>22</td><td>23</td><td>42</td></tr><tr><td>5</td><td>Tottenham</td><td>22</td><td>9</td><td>5</td><td>8</td><td>24</td><td>23</td><td>1</td><td>32</td></tr><tr><td>6</td><td>West Ham</td><td>22</td><td>7</td><td>6</td><td>9</td><td>23</td><td>33</td><td>-10</td><td>27</td></tr><tr><td>7</td><td>Brighton</td><td>22</td><td>8</td><td>2</td><td>12</td><td>24</td><td>38</td><td>-14</td><td>26</td></tr><tr><td>8</td><td>Reading</td><td>22</td><td>7</td><td>4</td><td>11</td><td>21</td><td>40</td><td>-19</td><td>25</td></tr><tr><td>9</td><td>Aston Villa</td><td>22</td><td>6</td><td>3</td><td>13</td><td>13</td><td>40</td><td>-27</td><td>21</td></tr><tr><td>10</td><td>Everton</td><td>22</td><td>5</td><td>5</td><td>12</td><td>18</td><td>41</td><td>-23</td><td>20</td></tr><tr><td>11</td><td>Leicester City</td><td>22</td><td>4</td><td>1</td><td>17</td><td>14</td><td>53</td><td>-39</td><td>13</td></tr><tr><td>12</td><td>Birmingham City</td><td>22</td><td>3</td><td>2</td><td>17</td><td>15</td><td>51</td><td>-36</td><td>11</td></tr></tbody></table></div>"
      ]
     },
     "metadata": {
      "application/vnd.databricks.v1+output": {
       "addedWidgets": {},
       "aggData": [],
       "aggError": "",
       "aggOverflow": false,
       "aggSchema": [],
       "aggSeriesLimitReached": false,
       "aggType": "",
       "arguments": {},
       "columnCustomDisplayInfos": {},
       "data": [
        [
         1,
         "Chelsea",
         22,
         18,
         2,
         2,
         62,
         11,
         51,
         56
        ],
        [
         2,
         "Arsenal",
         22,
         17,
         4,
         1,
         65,
         10,
         55,
         55
        ],
        [
         3,
         "Manchester City",
         22,
         15,
         2,
         5,
         60,
         22,
         38,
         47
        ],
        [
         4,
         "Manchester Utd",
         22,
         12,
         6,
         4,
         45,
         22,
         23,
         42
        ],
        [
         5,
         "Tottenham",
         22,
         9,
         5,
         8,
         24,
         23,
         1,
         32
        ],
        [
         6,
         "West Ham",
         22,
         7,
         6,
         9,
         23,
         33,
         -10,
         27
        ],
        [
         7,
         "Brighton",
         22,
         8,
         2,
         12,
         24,
         38,
         -14,
         26
        ],
        [
         8,
         "Reading",
         22,
         7,
         4,
         11,
         21,
         40,
         -19,
         25
        ],
        [
         9,
         "Aston Villa",
         22,
         6,
         3,
         13,
         13,
         40,
         -27,
         21
        ],
        [
         10,
         "Everton",
         22,
         5,
         5,
         12,
         18,
         41,
         -23,
         20
        ],
        [
         11,
         "Leicester City",
         22,
         4,
         1,
         17,
         14,
         53,
         -39,
         13
        ],
        [
         12,
         "Birmingham City",
         22,
         3,
         2,
         17,
         15,
         51,
         -36,
         11
        ]
       ],
       "datasetInfos": [],
       "dbfsResultPath": null,
       "isJsonSchema": true,
       "metadata": {},
       "overflow": false,
       "plotOptions": {
        "customPlotOptions": {},
        "displayType": "table",
        "pivotAggregation": null,
        "pivotColumns": null,
        "xColumns": null,
        "yColumns": null
       },
       "removedWidgets": [],
       "schema": [
        {
         "metadata": "{}",
         "name": "Position",
         "type": "\"integer\""
        },
        {
         "metadata": "{}",
         "name": "Team",
         "type": "\"string\""
        },
        {
         "metadata": "{}",
         "name": "Played",
         "type": "\"long\""
        },
        {
         "metadata": "{}",
         "name": "Won",
         "type": "\"long\""
        },
        {
         "metadata": "{}",
         "name": "Drawn",
         "type": "\"long\""
        },
        {
         "metadata": "{}",
         "name": "Lost",
         "type": "\"long\""
        },
        {
         "metadata": "{}",
         "name": "For",
         "type": "\"long\""
        },
        {
         "metadata": "{}",
         "name": "Against",
         "type": "\"long\""
        },
        {
         "metadata": "{}",
         "name": "GD",
         "type": "\"long\""
        },
        {
         "metadata": "{}",
         "name": "Points",
         "type": "\"long\""
        }
       ],
       "type": "table"
      }
     },
     "output_type": "display_data"
    }
   ],
   "source": [
    "# Filtering the DataFrame to show only the data for the 2021 season.\n",
    "\n",
    "dfWSL2021Table = dfWSLTable.where(col('Season') == 2021).drop(col('Season'))\n",
    "\n",
    "display(dfWSL2021Table)"
   ]
  },
  {
   "cell_type": "code",
   "execution_count": 0,
   "metadata": {
    "application/vnd.databricks.v1+cell": {
     "cellMetadata": {
      "byteLimit": 2048000,
      "rowLimit": 10000
     },
     "inputWidgets": {},
     "nuid": "a0967996-4f08-4ada-ac9b-bebaacf405e8",
     "showTitle": false,
     "title": ""
    }
   },
   "outputs": [],
   "source": [
    "dfWSL2021Table.write.format('delta').mode('overwrite').save(goldMountPoint + '/WSL/' + '2021_league_table')"
   ]
  },
  {
   "cell_type": "markdown",
   "metadata": {
    "application/vnd.databricks.v1+cell": {
     "cellMetadata": {
      "byteLimit": 2048000,
      "rowLimit": 10000
     },
     "inputWidgets": {},
     "nuid": "e82ff0d0-6075-405a-b73b-cf9b7c0cdabd",
     "showTitle": false,
     "title": ""
    }
   },
   "source": [
    "#### 2020 WSL Season\n",
    "\n",
    "Filter the league table for the 2020 season, remove the redundant 'Season' column, and save the result to the gold data lake."
   ]
  },
  {
   "cell_type": "code",
   "execution_count": 0,
   "metadata": {
    "application/vnd.databricks.v1+cell": {
     "cellMetadata": {
      "byteLimit": 2048000,
      "rowLimit": 10000
     },
     "inputWidgets": {},
     "nuid": "3a0b3faa-511e-4289-956b-09c1fe2ba68b",
     "showTitle": false,
     "title": ""
    }
   },
   "outputs": [
    {
     "output_type": "display_data",
     "data": {
      "text/html": [
       "<style scoped>\n",
       "  .table-result-container {\n",
       "    max-height: 300px;\n",
       "    overflow: auto;\n",
       "  }\n",
       "  table, th, td {\n",
       "    border: 1px solid black;\n",
       "    border-collapse: collapse;\n",
       "  }\n",
       "  th, td {\n",
       "    padding: 5px;\n",
       "  }\n",
       "  th {\n",
       "    text-align: left;\n",
       "  }\n",
       "</style><div class='table-result-container'><table class='table-result'><thead style='background-color: white'><tr><th>Position</th><th>Team</th><th>Played</th><th>Won</th><th>Drawn</th><th>Lost</th><th>For</th><th>Against</th><th>GD</th><th>Points</th></tr></thead><tbody><tr><td>1</td><td>Chelsea</td><td>22</td><td>18</td><td>3</td><td>1</td><td>69</td><td>10</td><td>59</td><td>57</td></tr><tr><td>2</td><td>Manchester City</td><td>22</td><td>17</td><td>4</td><td>1</td><td>65</td><td>13</td><td>52</td><td>55</td></tr><tr><td>3</td><td>Arsenal</td><td>22</td><td>15</td><td>3</td><td>4</td><td>63</td><td>15</td><td>48</td><td>48</td></tr><tr><td>4</td><td>Manchester Utd</td><td>22</td><td>15</td><td>2</td><td>5</td><td>44</td><td>20</td><td>24</td><td>47</td></tr><tr><td>5</td><td>Everton</td><td>22</td><td>9</td><td>5</td><td>8</td><td>39</td><td>30</td><td>9</td><td>32</td></tr><tr><td>6</td><td>Brighton</td><td>22</td><td>8</td><td>3</td><td>11</td><td>21</td><td>41</td><td>-20</td><td>27</td></tr><tr><td>7</td><td>Reading</td><td>22</td><td>5</td><td>9</td><td>8</td><td>25</td><td>41</td><td>-16</td><td>24</td></tr><tr><td>8</td><td>Tottenham</td><td>22</td><td>5</td><td>5</td><td>12</td><td>18</td><td>41</td><td>-23</td><td>20</td></tr><tr><td>9</td><td>West Ham</td><td>22</td><td>3</td><td>6</td><td>13</td><td>21</td><td>39</td><td>-18</td><td>15</td></tr><tr><td>10</td><td>Birmingham City</td><td>22</td><td>3</td><td>6</td><td>13</td><td>15</td><td>44</td><td>-29</td><td>15</td></tr><tr><td>11</td><td>Aston Villa</td><td>22</td><td>3</td><td>6</td><td>13</td><td>15</td><td>47</td><td>-32</td><td>15</td></tr><tr><td>12</td><td>Bristol City</td><td>22</td><td>2</td><td>6</td><td>14</td><td>18</td><td>72</td><td>-54</td><td>12</td></tr></tbody></table></div>"
      ]
     },
     "metadata": {
      "application/vnd.databricks.v1+output": {
       "addedWidgets": {},
       "aggData": [],
       "aggError": "",
       "aggOverflow": false,
       "aggSchema": [],
       "aggSeriesLimitReached": false,
       "aggType": "",
       "arguments": {},
       "columnCustomDisplayInfos": {},
       "data": [
        [
         1,
         "Chelsea",
         22,
         18,
         3,
         1,
         69,
         10,
         59,
         57
        ],
        [
         2,
         "Manchester City",
         22,
         17,
         4,
         1,
         65,
         13,
         52,
         55
        ],
        [
         3,
         "Arsenal",
         22,
         15,
         3,
         4,
         63,
         15,
         48,
         48
        ],
        [
         4,
         "Manchester Utd",
         22,
         15,
         2,
         5,
         44,
         20,
         24,
         47
        ],
        [
         5,
         "Everton",
         22,
         9,
         5,
         8,
         39,
         30,
         9,
         32
        ],
        [
         6,
         "Brighton",
         22,
         8,
         3,
         11,
         21,
         41,
         -20,
         27
        ],
        [
         7,
         "Reading",
         22,
         5,
         9,
         8,
         25,
         41,
         -16,
         24
        ],
        [
         8,
         "Tottenham",
         22,
         5,
         5,
         12,
         18,
         41,
         -23,
         20
        ],
        [
         9,
         "West Ham",
         22,
         3,
         6,
         13,
         21,
         39,
         -18,
         15
        ],
        [
         10,
         "Birmingham City",
         22,
         3,
         6,
         13,
         15,
         44,
         -29,
         15
        ],
        [
         11,
         "Aston Villa",
         22,
         3,
         6,
         13,
         15,
         47,
         -32,
         15
        ],
        [
         12,
         "Bristol City",
         22,
         2,
         6,
         14,
         18,
         72,
         -54,
         12
        ]
       ],
       "datasetInfos": [],
       "dbfsResultPath": null,
       "isJsonSchema": true,
       "metadata": {},
       "overflow": false,
       "plotOptions": {
        "customPlotOptions": {},
        "displayType": "table",
        "pivotAggregation": null,
        "pivotColumns": null,
        "xColumns": null,
        "yColumns": null
       },
       "removedWidgets": [],
       "schema": [
        {
         "metadata": "{}",
         "name": "Position",
         "type": "\"integer\""
        },
        {
         "metadata": "{}",
         "name": "Team",
         "type": "\"string\""
        },
        {
         "metadata": "{}",
         "name": "Played",
         "type": "\"long\""
        },
        {
         "metadata": "{}",
         "name": "Won",
         "type": "\"long\""
        },
        {
         "metadata": "{}",
         "name": "Drawn",
         "type": "\"long\""
        },
        {
         "metadata": "{}",
         "name": "Lost",
         "type": "\"long\""
        },
        {
         "metadata": "{}",
         "name": "For",
         "type": "\"long\""
        },
        {
         "metadata": "{}",
         "name": "Against",
         "type": "\"long\""
        },
        {
         "metadata": "{}",
         "name": "GD",
         "type": "\"long\""
        },
        {
         "metadata": "{}",
         "name": "Points",
         "type": "\"long\""
        }
       ],
       "type": "table"
      }
     },
     "output_type": "display_data"
    }
   ],
   "source": [
    "# Filtering the DataFrame to show only the data for the 2020 season.\n",
    "\n",
    "dfWSL2020Table = dfWSLTable.where(col('Season') == 2020).drop(col('Season'))\n",
    "\n",
    "display(dfWSL2020Table)"
   ]
  },
  {
   "cell_type": "code",
   "execution_count": 0,
   "metadata": {
    "application/vnd.databricks.v1+cell": {
     "cellMetadata": {
      "byteLimit": 2048000,
      "rowLimit": 10000
     },
     "inputWidgets": {},
     "nuid": "14271ab4-64f6-44c5-ac9c-cfc7063f2516",
     "showTitle": false,
     "title": ""
    }
   },
   "outputs": [],
   "source": [
    "dfWSL2020Table.write.format('delta').mode('overwrite').save(goldMountPoint + '/WSL/' + '2020_league_table')"
   ]
  },
  {
   "cell_type": "markdown",
   "metadata": {
    "application/vnd.databricks.v1+cell": {
     "cellMetadata": {
      "byteLimit": 2048000,
      "rowLimit": 10000
     },
     "inputWidgets": {},
     "nuid": "a4559d7d-5d4a-41ed-9c5d-35b9878cebb1",
     "showTitle": false,
     "title": ""
    }
   },
   "source": [
    "#### 2019 WSL Season\n",
    "\n",
    "Filter the league table for the 2019 season, remove the redundant 'Season' column, and save the result to the gold data lake."
   ]
  },
  {
   "cell_type": "code",
   "execution_count": 0,
   "metadata": {
    "application/vnd.databricks.v1+cell": {
     "cellMetadata": {
      "byteLimit": 2048000,
      "rowLimit": 10000
     },
     "inputWidgets": {},
     "nuid": "03844dfe-d86b-41fc-b93b-ecbe36886479",
     "showTitle": false,
     "title": ""
    }
   },
   "outputs": [
    {
     "output_type": "display_data",
     "data": {
      "text/html": [
       "<style scoped>\n",
       "  .table-result-container {\n",
       "    max-height: 300px;\n",
       "    overflow: auto;\n",
       "  }\n",
       "  table, th, td {\n",
       "    border: 1px solid black;\n",
       "    border-collapse: collapse;\n",
       "  }\n",
       "  th, td {\n",
       "    padding: 5px;\n",
       "  }\n",
       "  th {\n",
       "    text-align: left;\n",
       "  }\n",
       "</style><div class='table-result-container'><table class='table-result'><thead style='background-color: white'><tr><th>Position</th><th>Team</th><th>Played</th><th>Won</th><th>Drawn</th><th>Lost</th><th>For</th><th>Against</th><th>GD</th><th>Points</th></tr></thead><tbody><tr><td>1</td><td>Manchester City</td><td>16</td><td>13</td><td>1</td><td>2</td><td>39</td><td>9</td><td>30</td><td>40</td></tr><tr><td>2</td><td>Chelsea</td><td>15</td><td>12</td><td>3</td><td>0</td><td>47</td><td>11</td><td>36</td><td>39</td></tr><tr><td>3</td><td>Arsenal</td><td>15</td><td>12</td><td>0</td><td>3</td><td>40</td><td>13</td><td>27</td><td>36</td></tr><tr><td>4</td><td>Manchester Utd</td><td>14</td><td>7</td><td>2</td><td>5</td><td>24</td><td>12</td><td>12</td><td>23</td></tr><tr><td>5</td><td>Reading</td><td>14</td><td>6</td><td>3</td><td>5</td><td>21</td><td>24</td><td>-3</td><td>21</td></tr><tr><td>6</td><td>Tottenham</td><td>15</td><td>6</td><td>2</td><td>7</td><td>15</td><td>24</td><td>-9</td><td>20</td></tr><tr><td>7</td><td>Everton</td><td>14</td><td>6</td><td>1</td><td>7</td><td>21</td><td>21</td><td>0</td><td>19</td></tr><tr><td>8</td><td>West Ham</td><td>14</td><td>5</td><td>1</td><td>8</td><td>19</td><td>34</td><td>-15</td><td>16</td></tr><tr><td>9</td><td>Brighton</td><td>16</td><td>3</td><td>4</td><td>9</td><td>11</td><td>30</td><td>-19</td><td>13</td></tr><tr><td>10</td><td>Bristol City</td><td>14</td><td>2</td><td>3</td><td>9</td><td>9</td><td>38</td><td>-29</td><td>9</td></tr><tr><td>11</td><td>Birmingham City</td><td>13</td><td>2</td><td>1</td><td>10</td><td>5</td><td>23</td><td>-18</td><td>7</td></tr><tr><td>12</td><td>Liverpool</td><td>14</td><td>1</td><td>3</td><td>10</td><td>8</td><td>20</td><td>-12</td><td>6</td></tr></tbody></table></div>"
      ]
     },
     "metadata": {
      "application/vnd.databricks.v1+output": {
       "addedWidgets": {},
       "aggData": [],
       "aggError": "",
       "aggOverflow": false,
       "aggSchema": [],
       "aggSeriesLimitReached": false,
       "aggType": "",
       "arguments": {},
       "columnCustomDisplayInfos": {},
       "data": [
        [
         1,
         "Manchester City",
         16,
         13,
         1,
         2,
         39,
         9,
         30,
         40
        ],
        [
         2,
         "Chelsea",
         15,
         12,
         3,
         0,
         47,
         11,
         36,
         39
        ],
        [
         3,
         "Arsenal",
         15,
         12,
         0,
         3,
         40,
         13,
         27,
         36
        ],
        [
         4,
         "Manchester Utd",
         14,
         7,
         2,
         5,
         24,
         12,
         12,
         23
        ],
        [
         5,
         "Reading",
         14,
         6,
         3,
         5,
         21,
         24,
         -3,
         21
        ],
        [
         6,
         "Tottenham",
         15,
         6,
         2,
         7,
         15,
         24,
         -9,
         20
        ],
        [
         7,
         "Everton",
         14,
         6,
         1,
         7,
         21,
         21,
         0,
         19
        ],
        [
         8,
         "West Ham",
         14,
         5,
         1,
         8,
         19,
         34,
         -15,
         16
        ],
        [
         9,
         "Brighton",
         16,
         3,
         4,
         9,
         11,
         30,
         -19,
         13
        ],
        [
         10,
         "Bristol City",
         14,
         2,
         3,
         9,
         9,
         38,
         -29,
         9
        ],
        [
         11,
         "Birmingham City",
         13,
         2,
         1,
         10,
         5,
         23,
         -18,
         7
        ],
        [
         12,
         "Liverpool",
         14,
         1,
         3,
         10,
         8,
         20,
         -12,
         6
        ]
       ],
       "datasetInfos": [],
       "dbfsResultPath": null,
       "isJsonSchema": true,
       "metadata": {},
       "overflow": false,
       "plotOptions": {
        "customPlotOptions": {},
        "displayType": "table",
        "pivotAggregation": null,
        "pivotColumns": null,
        "xColumns": null,
        "yColumns": null
       },
       "removedWidgets": [],
       "schema": [
        {
         "metadata": "{}",
         "name": "Position",
         "type": "\"integer\""
        },
        {
         "metadata": "{}",
         "name": "Team",
         "type": "\"string\""
        },
        {
         "metadata": "{}",
         "name": "Played",
         "type": "\"long\""
        },
        {
         "metadata": "{}",
         "name": "Won",
         "type": "\"long\""
        },
        {
         "metadata": "{}",
         "name": "Drawn",
         "type": "\"long\""
        },
        {
         "metadata": "{}",
         "name": "Lost",
         "type": "\"long\""
        },
        {
         "metadata": "{}",
         "name": "For",
         "type": "\"long\""
        },
        {
         "metadata": "{}",
         "name": "Against",
         "type": "\"long\""
        },
        {
         "metadata": "{}",
         "name": "GD",
         "type": "\"long\""
        },
        {
         "metadata": "{}",
         "name": "Points",
         "type": "\"long\""
        }
       ],
       "type": "table"
      }
     },
     "output_type": "display_data"
    }
   ],
   "source": [
    "# Filtering the DataFrame to show only the data for the 2019 season.\n",
    "\n",
    "dfWSL2019Table = dfWSLTable.where(col('Season') == 2019).drop(col('Season'))\n",
    "\n",
    "display(dfWSL2019Table)"
   ]
  },
  {
   "cell_type": "code",
   "execution_count": 0,
   "metadata": {
    "application/vnd.databricks.v1+cell": {
     "cellMetadata": {
      "byteLimit": 2048000,
      "rowLimit": 10000
     },
     "inputWidgets": {},
     "nuid": "b9f8499c-20c1-4596-98fd-de0e03d85f6b",
     "showTitle": false,
     "title": ""
    }
   },
   "outputs": [],
   "source": [
    "dfWSL2019Table.write.format('delta').mode('overwrite').save(goldMountPoint + '/WSL/' + '2019_league_table')"
   ]
  }
 ],
 "metadata": {
  "application/vnd.databricks.v1+notebook": {
   "dashboards": [],
   "environmentMetadata": null,
   "language": "python",
   "notebookMetadata": {
    "pythonIndentUnit": 4
   },
   "notebookName": "04-wsl-season-table",
   "widgets": {}
  }
 },
 "nbformat": 4,
 "nbformat_minor": 0
}
