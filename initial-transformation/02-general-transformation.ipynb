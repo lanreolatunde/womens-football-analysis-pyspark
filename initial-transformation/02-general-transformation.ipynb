{
 "cells": [
  {
   "cell_type": "markdown",
   "metadata": {
    "application/vnd.databricks.v1+cell": {
     "cellMetadata": {
      "byteLimit": 2048000,
      "rowLimit": 10000
     },
     "inputWidgets": {},
     "nuid": "62b6781f-f1ea-4ec6-a7b1-972198279500",
     "showTitle": false,
     "title": ""
    }
   },
   "source": [
    "# Loading and Inspecting Womens Football Matches Data Using Spark"
   ]
  },
  {
   "cell_type": "markdown",
   "metadata": {
    "application/vnd.databricks.v1+cell": {
     "cellMetadata": {
      "byteLimit": 2048000,
      "rowLimit": 10000
     },
     "inputWidgets": {},
     "nuid": "df655f0b-2c59-4779-82ef-c5988a2bbde5",
     "showTitle": false,
     "title": ""
    }
   },
   "source": [
    "## Overview\n",
    "\n",
    "This notebook outlines the process of loading and inspecting a structured dataset of women's football matches into a Spark DataFrame. The dataset is assumed to be in CSV format and is loaded using a predefined schema that specifies the structure and data types of the columns."
   ]
  },
  {
   "cell_type": "markdown",
   "metadata": {
    "application/vnd.databricks.v1+cell": {
     "cellMetadata": {
      "byteLimit": 2048000,
      "rowLimit": 10000
     },
     "inputWidgets": {},
     "nuid": "eee7f252-3800-4908-b0c7-bc4c7fc0b616",
     "showTitle": false,
     "title": ""
    }
   },
   "source": [
    "## Leagues and Seasons\n",
    "\n",
    "- Women Soccer League (2019 - 2023)\n",
    "- Women Serie A (2019 - 2023)\n",
    "- Frauen Bundesliga (2021 - 2023)\n",
    "- Liga F (2022 - 2023)\n",
    "- FFF Feminine (2019 - 2023)"
   ]
  },
  {
   "cell_type": "markdown",
   "metadata": {
    "application/vnd.databricks.v1+cell": {
     "cellMetadata": {
      "byteLimit": 2048000,
      "rowLimit": 10000
     },
     "inputWidgets": {},
     "nuid": "580b7c40-57ce-49c5-98dd-d48cce34af3e",
     "showTitle": false,
     "title": ""
    }
   },
   "source": [
    "## Prerequisites\n",
    "\n",
    "Before starting, ensure you have:\n",
    "\n",
    "- Apache Spark installed and correctly set up.\n",
    "- Access to the dataset file (women_football_matches_main.csv) located in the specified path under the base data lake mount point.\n",
    "- A basic understanding of PySpark, its DataFrame API, and Databricks notebooks.\n",
    "- The 'config' notebook properly configured and accessible in your Databricks workspace."
   ]
  },
  {
   "cell_type": "markdown",
   "metadata": {
    "application/vnd.databricks.v1+cell": {
     "cellMetadata": {
      "byteLimit": 2048000,
      "rowLimit": 10000
     },
     "inputWidgets": {},
     "nuid": "cbc1155c-3dae-4a0e-a1dd-0f0531d51671",
     "showTitle": false,
     "title": ""
    }
   },
   "source": [
    "## Steps"
   ]
  },
  {
   "cell_type": "markdown",
   "metadata": {
    "application/vnd.databricks.v1+cell": {
     "cellMetadata": {
      "byteLimit": 2048000,
      "rowLimit": 10000
     },
     "inputWidgets": {},
     "nuid": "980dd036-9ffa-4c57-8399-fff4df36d5f8",
     "showTitle": false,
     "title": ""
    }
   },
   "source": [
    "### 1. Execute Configuration Notebook\n",
    "\n",
    "Run the 'config' notebook to get the mount points for the base and bronze data lakes."
   ]
  },
  {
   "cell_type": "code",
   "execution_count": 0,
   "metadata": {
    "application/vnd.databricks.v1+cell": {
     "cellMetadata": {
      "byteLimit": 2048000,
      "rowLimit": 10000
     },
     "inputWidgets": {},
     "nuid": "39837c19-b114-4a9b-ad0d-c179ca5ebade",
     "showTitle": false,
     "title": ""
    }
   },
   "outputs": [],
   "source": [
    "# Retrieve configuration details, including mount points for base and bronze data lakes\n",
    "\n",
    "config = dbutils.notebook.run('../storage/01-config', 180)\n",
    "config_dict = eval(config)\n",
    "\n",
    "baseMountPoint = config_dict[\"baseMountPoint\"]\n",
    "bronzeMountPoint = config_dict[\"bronzeMountPoint\"]"
   ]
  },
  {
   "cell_type": "markdown",
   "metadata": {
    "application/vnd.databricks.v1+cell": {
     "cellMetadata": {
      "byteLimit": 2048000,
      "rowLimit": 10000
     },
     "inputWidgets": {},
     "nuid": "cb2c4442-ac9e-4338-b4a5-b8f108beb7bc",
     "showTitle": false,
     "title": ""
    }
   },
   "source": [
    "### 2. Define Schema\n",
    "\n",
    "Then, define a schema for the football matches dataset, specifying column names, types, and nullability."
   ]
  },
  {
   "cell_type": "code",
   "execution_count": 0,
   "metadata": {
    "application/vnd.databricks.v1+cell": {
     "cellMetadata": {
      "byteLimit": 2048000,
      "rowLimit": 10000
     },
     "inputWidgets": {},
     "nuid": "4310d159-0482-403a-81df-7e68d15dde40",
     "showTitle": false,
     "title": ""
    }
   },
   "outputs": [],
   "source": [
    "from pyspark.sql.types import StructType, StructField, IntegerType, StringType, DateType\n",
    "from pyspark.sql.functions import col, substring, lit, concat, when"
   ]
  },
  {
   "cell_type": "code",
   "execution_count": 0,
   "metadata": {
    "application/vnd.databricks.v1+cell": {
     "cellMetadata": {
      "byteLimit": 2048000,
      "rowLimit": 10000
     },
     "inputWidgets": {},
     "nuid": "461facf7-fa78-4128-b4df-3c556a0928f2",
     "showTitle": false,
     "title": ""
    }
   },
   "outputs": [],
   "source": [
    "# Define a schema for the football matches dataset, specifying column names, types, and whether null values are allowed.\n",
    "\n",
    "fixtureSchema = StructType([\n",
    "    StructField('MatchId', IntegerType(), True),\n",
    "    StructField('League', StringType(), True),\n",
    "    StructField('Season', IntegerType(), True),\n",
    "    StructField('MatchDay', StringType(), True),\n",
    "    StructField('HT', StringType(), True),\n",
    "    StructField('AT', StringType(), True),\n",
    "    StructField('FTHG', IntegerType(), True),\n",
    "    StructField('FTAG', IntegerType(), True),\n",
    "    StructField('FTR', StringType(), True),\n",
    "    StructField('ATTD', IntegerType(), True)\n",
    "])"
   ]
  },
  {
   "cell_type": "markdown",
   "metadata": {
    "application/vnd.databricks.v1+cell": {
     "cellMetadata": {
      "byteLimit": 2048000,
      "rowLimit": 10000
     },
     "inputWidgets": {},
     "nuid": "d1f9e9de-b9b5-4356-9ca6-21f09da21547",
     "showTitle": false,
     "title": ""
    }
   },
   "source": [
    "### 3. Load Dataset\n",
    "\n",
    "Use the baseMountPoint to load the CSV file into a Spark DataFrame with the defined schema."
   ]
  },
  {
   "cell_type": "code",
   "execution_count": 0,
   "metadata": {
    "application/vnd.databricks.v1+cell": {
     "cellMetadata": {
      "byteLimit": 2048000,
      "rowLimit": 10000
     },
     "inputWidgets": {},
     "nuid": "c70d17b9-7e04-4f63-8967-40f5e5890909",
     "showTitle": false,
     "title": ""
    }
   },
   "outputs": [
    {
     "output_type": "display_data",
     "data": {
      "text/html": [
       "<style scoped>\n",
       "  .table-result-container {\n",
       "    max-height: 300px;\n",
       "    overflow: auto;\n",
       "  }\n",
       "  table, th, td {\n",
       "    border: 1px solid black;\n",
       "    border-collapse: collapse;\n",
       "  }\n",
       "  th, td {\n",
       "    padding: 5px;\n",
       "  }\n",
       "  th {\n",
       "    text-align: left;\n",
       "  }\n",
       "</style><div class='table-result-container'><table class='table-result'><thead style='background-color: white'><tr><th>MatchId</th><th>League</th><th>Season</th><th>MatchDay</th><th>HT</th><th>AT</th><th>FTHG</th><th>FTAG</th><th>FTR</th><th>ATTD</th></tr></thead><tbody><tr><td>101658</td><td>D1 FFF</td><td>2019</td><td>190824 1330</td><td>Bordeaux</td><td>Fleury</td><td>4</td><td>1</td><td>H</td><td>null</td></tr><tr><td>102633</td><td>D1 FFF</td><td>2019</td><td>190824 1330</td><td>Guingamp</td><td>Metz</td><td>2</td><td>0</td><td>H</td><td>null</td></tr><tr><td>105384</td><td>D1 FFF</td><td>2019</td><td>190824 1330</td><td>Paris FC</td><td>Dijon</td><td>3</td><td>1</td><td>H</td><td>null</td></tr><tr><td>107191</td><td>D1 FFF</td><td>2019</td><td>190824 1330</td><td>Montpellier</td><td>Stade de Reims</td><td>2</td><td>0</td><td>H</td><td>null</td></tr><tr><td>107631</td><td>D1 FFF</td><td>2019</td><td>190824 1430</td><td>Lyon</td><td>Ol. Marseille</td><td>6</td><td>0</td><td>H</td><td>null</td></tr><tr><td>108229</td><td>D1 FFF</td><td>2019</td><td>190825 1345</td><td>Paris S-G</td><td>Soyaux</td><td>7</td><td>0</td><td>H</td><td>null</td></tr><tr><td>109491</td><td>D1 FFF</td><td>2019</td><td>190907 1330</td><td>Fleury</td><td>Montpellier</td><td>1</td><td>3</td><td>A</td><td>null</td></tr><tr><td>109961</td><td>D1 FFF</td><td>2019</td><td>190907 1330</td><td>Ol. Marseille</td><td>Guingamp</td><td>2</td><td>1</td><td>H</td><td>null</td></tr><tr><td>113735</td><td>D1 FFF</td><td>2019</td><td>190907 1330</td><td>Soyaux</td><td>Paris FC</td><td>0</td><td>0</td><td>D</td><td>null</td></tr><tr><td>116885</td><td>D1 FFF</td><td>2019</td><td>190907 1530</td><td>Stade de Reims</td><td>Lyon</td><td>3</td><td>8</td><td>A</td><td>null</td></tr><tr><td>117528</td><td>D1 FFF</td><td>2019</td><td>190907 1530</td><td>Metz</td><td>Paris S-G</td><td>1</td><td>6</td><td>A</td><td>null</td></tr><tr><td>122120</td><td>D1 FFF</td><td>2019</td><td>190908 1345</td><td>Dijon</td><td>Bordeaux</td><td>0</td><td>3</td><td>A</td><td>null</td></tr><tr><td>123042</td><td>D1 FFF</td><td>2019</td><td>190914 1330</td><td>Bordeaux</td><td>Montpellier</td><td>1</td><td>0</td><td>H</td><td>null</td></tr><tr><td>125955</td><td>D1 FFF</td><td>2019</td><td>190914 1330</td><td>Ol. Marseille</td><td>Stade de Reims</td><td>0</td><td>3</td><td>A</td><td>null</td></tr><tr><td>126184</td><td>D1 FFF</td><td>2019</td><td>190914 1330</td><td>Guingamp</td><td>Soyaux</td><td>1</td><td>3</td><td>A</td><td>null</td></tr><tr><td>126283</td><td>D1 FFF</td><td>2019</td><td>190914 1930</td><td>Paris FC</td><td>Metz</td><td>2</td><td>2</td><td>D</td><td>null</td></tr><tr><td>130413</td><td>D1 FFF</td><td>2019</td><td>190915 1530</td><td>Lyon</td><td>Fleury</td><td>6</td><td>0</td><td>H</td><td>null</td></tr><tr><td>133161</td><td>D1 FFF</td><td>2019</td><td>190915 1530</td><td>Paris S-G</td><td>Dijon</td><td>4</td><td>0</td><td>H</td><td>null</td></tr><tr><td>133303</td><td>D1 FFF</td><td>2019</td><td>190928 1330</td><td>Stade de Reims</td><td>Fleury</td><td>0</td><td>1</td><td>A</td><td>null</td></tr><tr><td>136182</td><td>D1 FFF</td><td>2019</td><td>190928 1330</td><td>Montpellier</td><td>Dijon</td><td>6</td><td>0</td><td>H</td><td>null</td></tr><tr><td>136701</td><td>D1 FFF</td><td>2019</td><td>190928 1330</td><td>Paris FC</td><td>Ol. Marseille</td><td>3</td><td>1</td><td>H</td><td>null</td></tr><tr><td>137377</td><td>D1 FFF</td><td>2019</td><td>190928 1330</td><td>Metz</td><td>Soyaux</td><td>0</td><td>2</td><td>A</td><td>null</td></tr><tr><td>137577</td><td>D1 FFF</td><td>2019</td><td>190928 1940</td><td>Guingamp</td><td>Lyon</td><td>1</td><td>5</td><td>A</td><td>null</td></tr><tr><td>141211</td><td>D1 FFF</td><td>2019</td><td>190929 1345</td><td>Paris S-G</td><td>Bordeaux</td><td>3</td><td>0</td><td>H</td><td>null</td></tr><tr><td>142307</td><td>D1 FFF</td><td>2019</td><td>191012 1330</td><td>Lyon</td><td>Paris FC</td><td>4</td><td>0</td><td>H</td><td>null</td></tr><tr><td>142730</td><td>D1 FFF</td><td>2019</td><td>191012 1330</td><td>Fleury</td><td>Paris S-G</td><td>0</td><td>2</td><td>A</td><td>null</td></tr><tr><td>145563</td><td>D1 FFF</td><td>2019</td><td>191012 1330</td><td>Dijon</td><td>Stade de Reims</td><td>1</td><td>1</td><td>D</td><td>null</td></tr><tr><td>146652</td><td>D1 FFF</td><td>2019</td><td>191012 1330</td><td>Ol. Marseille</td><td>Metz</td><td>3</td><td>1</td><td>H</td><td>null</td></tr><tr><td>149877</td><td>D1 FFF</td><td>2019</td><td>191012 1330</td><td>Soyaux</td><td>Montpellier</td><td>1</td><td>1</td><td>D</td><td>null</td></tr><tr><td>150331</td><td>D1 FFF</td><td>2019</td><td>191013 1345</td><td>Bordeaux</td><td>Guingamp</td><td>1</td><td>2</td><td>A</td><td>null</td></tr><tr><td>152297</td><td>D1 FFF</td><td>2019</td><td>191019 1330</td><td>Stade de Reims</td><td>Guingamp</td><td>0</td><td>1</td><td>A</td><td>null</td></tr><tr><td>152550</td><td>D1 FFF</td><td>2019</td><td>191019 1330</td><td>Fleury</td><td>Soyaux</td><td>1</td><td>1</td><td>D</td><td>null</td></tr><tr><td>152955</td><td>D1 FFF</td><td>2019</td><td>191019 1330</td><td>Bordeaux</td><td>Ol. Marseille</td><td>3</td><td>0</td><td>H</td><td>null</td></tr><tr><td>154026</td><td>D1 FFF</td><td>2019</td><td>191019 1330</td><td>Montpellier</td><td>Metz</td><td>3</td><td>0</td><td>H</td><td>null</td></tr><tr><td>156729</td><td>D1 FFF</td><td>2019</td><td>191019 1945</td><td>Paris S-G</td><td>Paris FC</td><td>2</td><td>0</td><td>H</td><td>null</td></tr><tr><td>161069</td><td>D1 FFF</td><td>2019</td><td>191020 1345</td><td>Dijon</td><td>Lyon</td><td>0</td><td>0</td><td>D</td><td>null</td></tr><tr><td>161274</td><td>D1 FFF</td><td>2019</td><td>191026 1330</td><td>Metz</td><td>Stade de Reims</td><td>0</td><td>1</td><td>A</td><td>null</td></tr><tr><td>161537</td><td>D1 FFF</td><td>2019</td><td>191026 1330</td><td>Paris FC</td><td>Montpellier</td><td>2</td><td>5</td><td>A</td><td>null</td></tr><tr><td>162751</td><td>D1 FFF</td><td>2019</td><td>191026 1330</td><td>Guingamp</td><td>Fleury</td><td>0</td><td>1</td><td>A</td><td>null</td></tr><tr><td>164013</td><td>D1 FFF</td><td>2019</td><td>191026 1330</td><td>Soyaux</td><td>Dijon</td><td>0</td><td>0</td><td>D</td><td>null</td></tr><tr><td>164423</td><td>D1 FFF</td><td>2019</td><td>191026 1430</td><td>Lyon</td><td>Bordeaux</td><td>4</td><td>0</td><td>H</td><td>null</td></tr><tr><td>165783</td><td>D1 FFF</td><td>2019</td><td>191027 1345</td><td>Ol. Marseille</td><td>Paris S-G</td><td>0</td><td>5</td><td>A</td><td>null</td></tr><tr><td>169322</td><td>D1 FFF</td><td>2019</td><td>191102 1330</td><td>Dijon</td><td>Metz</td><td>2</td><td>1</td><td>H</td><td>null</td></tr><tr><td>169392</td><td>D1 FFF</td><td>2019</td><td>191102 1330</td><td>Bordeaux</td><td>Soyaux</td><td>4</td><td>1</td><td>H</td><td>null</td></tr><tr><td>169469</td><td>D1 FFF</td><td>2019</td><td>191102 1330</td><td>Stade de Reims</td><td>Paris FC</td><td>0</td><td>1</td><td>A</td><td>null</td></tr><tr><td>170342</td><td>D1 FFF</td><td>2019</td><td>191102 1330</td><td>Fleury</td><td>Ol. Marseille</td><td>4</td><td>1</td><td>H</td><td>null</td></tr><tr><td>170842</td><td>D1 FFF</td><td>2019</td><td>191102 1430</td><td>Montpellier</td><td>Lyon</td><td>0</td><td>3</td><td>A</td><td>null</td></tr><tr><td>171983</td><td>D1 FFF</td><td>2019</td><td>191103 1345</td><td>Paris S-G</td><td>Guingamp</td><td>1</td><td>1</td><td>D</td><td>null</td></tr><tr><td>173611</td><td>D1 FFF</td><td>2019</td><td>191116 1330</td><td>Metz</td><td>Bordeaux</td><td>0</td><td>4</td><td>A</td><td>null</td></tr><tr><td>173761</td><td>D1 FFF</td><td>2019</td><td>191116 1330</td><td>Fleury</td><td>Dijon</td><td>1</td><td>1</td><td>D</td><td>null</td></tr></tbody></table></div>"
      ]
     },
     "metadata": {
      "application/vnd.databricks.v1+output": {
       "addedWidgets": {},
       "aggData": [],
       "aggError": "",
       "aggOverflow": false,
       "aggSchema": [],
       "aggSeriesLimitReached": false,
       "aggType": "",
       "arguments": {},
       "columnCustomDisplayInfos": {},
       "data": [
        [
         101658,
         "D1 FFF",
         2019,
         "190824 1330",
         "Bordeaux",
         "Fleury",
         4,
         1,
         "H",
         null
        ],
        [
         102633,
         "D1 FFF",
         2019,
         "190824 1330",
         "Guingamp",
         "Metz",
         2,
         0,
         "H",
         null
        ],
        [
         105384,
         "D1 FFF",
         2019,
         "190824 1330",
         "Paris FC",
         "Dijon",
         3,
         1,
         "H",
         null
        ],
        [
         107191,
         "D1 FFF",
         2019,
         "190824 1330",
         "Montpellier",
         "Stade de Reims",
         2,
         0,
         "H",
         null
        ],
        [
         107631,
         "D1 FFF",
         2019,
         "190824 1430",
         "Lyon",
         "Ol. Marseille",
         6,
         0,
         "H",
         null
        ],
        [
         108229,
         "D1 FFF",
         2019,
         "190825 1345",
         "Paris S-G",
         "Soyaux",
         7,
         0,
         "H",
         null
        ],
        [
         109491,
         "D1 FFF",
         2019,
         "190907 1330",
         "Fleury",
         "Montpellier",
         1,
         3,
         "A",
         null
        ],
        [
         109961,
         "D1 FFF",
         2019,
         "190907 1330",
         "Ol. Marseille",
         "Guingamp",
         2,
         1,
         "H",
         null
        ],
        [
         113735,
         "D1 FFF",
         2019,
         "190907 1330",
         "Soyaux",
         "Paris FC",
         0,
         0,
         "D",
         null
        ],
        [
         116885,
         "D1 FFF",
         2019,
         "190907 1530",
         "Stade de Reims",
         "Lyon",
         3,
         8,
         "A",
         null
        ],
        [
         117528,
         "D1 FFF",
         2019,
         "190907 1530",
         "Metz",
         "Paris S-G",
         1,
         6,
         "A",
         null
        ],
        [
         122120,
         "D1 FFF",
         2019,
         "190908 1345",
         "Dijon",
         "Bordeaux",
         0,
         3,
         "A",
         null
        ],
        [
         123042,
         "D1 FFF",
         2019,
         "190914 1330",
         "Bordeaux",
         "Montpellier",
         1,
         0,
         "H",
         null
        ],
        [
         125955,
         "D1 FFF",
         2019,
         "190914 1330",
         "Ol. Marseille",
         "Stade de Reims",
         0,
         3,
         "A",
         null
        ],
        [
         126184,
         "D1 FFF",
         2019,
         "190914 1330",
         "Guingamp",
         "Soyaux",
         1,
         3,
         "A",
         null
        ],
        [
         126283,
         "D1 FFF",
         2019,
         "190914 1930",
         "Paris FC",
         "Metz",
         2,
         2,
         "D",
         null
        ],
        [
         130413,
         "D1 FFF",
         2019,
         "190915 1530",
         "Lyon",
         "Fleury",
         6,
         0,
         "H",
         null
        ],
        [
         133161,
         "D1 FFF",
         2019,
         "190915 1530",
         "Paris S-G",
         "Dijon",
         4,
         0,
         "H",
         null
        ],
        [
         133303,
         "D1 FFF",
         2019,
         "190928 1330",
         "Stade de Reims",
         "Fleury",
         0,
         1,
         "A",
         null
        ],
        [
         136182,
         "D1 FFF",
         2019,
         "190928 1330",
         "Montpellier",
         "Dijon",
         6,
         0,
         "H",
         null
        ],
        [
         136701,
         "D1 FFF",
         2019,
         "190928 1330",
         "Paris FC",
         "Ol. Marseille",
         3,
         1,
         "H",
         null
        ],
        [
         137377,
         "D1 FFF",
         2019,
         "190928 1330",
         "Metz",
         "Soyaux",
         0,
         2,
         "A",
         null
        ],
        [
         137577,
         "D1 FFF",
         2019,
         "190928 1940",
         "Guingamp",
         "Lyon",
         1,
         5,
         "A",
         null
        ],
        [
         141211,
         "D1 FFF",
         2019,
         "190929 1345",
         "Paris S-G",
         "Bordeaux",
         3,
         0,
         "H",
         null
        ],
        [
         142307,
         "D1 FFF",
         2019,
         "191012 1330",
         "Lyon",
         "Paris FC",
         4,
         0,
         "H",
         null
        ],
        [
         142730,
         "D1 FFF",
         2019,
         "191012 1330",
         "Fleury",
         "Paris S-G",
         0,
         2,
         "A",
         null
        ],
        [
         145563,
         "D1 FFF",
         2019,
         "191012 1330",
         "Dijon",
         "Stade de Reims",
         1,
         1,
         "D",
         null
        ],
        [
         146652,
         "D1 FFF",
         2019,
         "191012 1330",
         "Ol. Marseille",
         "Metz",
         3,
         1,
         "H",
         null
        ],
        [
         149877,
         "D1 FFF",
         2019,
         "191012 1330",
         "Soyaux",
         "Montpellier",
         1,
         1,
         "D",
         null
        ],
        [
         150331,
         "D1 FFF",
         2019,
         "191013 1345",
         "Bordeaux",
         "Guingamp",
         1,
         2,
         "A",
         null
        ],
        [
         152297,
         "D1 FFF",
         2019,
         "191019 1330",
         "Stade de Reims",
         "Guingamp",
         0,
         1,
         "A",
         null
        ],
        [
         152550,
         "D1 FFF",
         2019,
         "191019 1330",
         "Fleury",
         "Soyaux",
         1,
         1,
         "D",
         null
        ],
        [
         152955,
         "D1 FFF",
         2019,
         "191019 1330",
         "Bordeaux",
         "Ol. Marseille",
         3,
         0,
         "H",
         null
        ],
        [
         154026,
         "D1 FFF",
         2019,
         "191019 1330",
         "Montpellier",
         "Metz",
         3,
         0,
         "H",
         null
        ],
        [
         156729,
         "D1 FFF",
         2019,
         "191019 1945",
         "Paris S-G",
         "Paris FC",
         2,
         0,
         "H",
         null
        ],
        [
         161069,
         "D1 FFF",
         2019,
         "191020 1345",
         "Dijon",
         "Lyon",
         0,
         0,
         "D",
         null
        ],
        [
         161274,
         "D1 FFF",
         2019,
         "191026 1330",
         "Metz",
         "Stade de Reims",
         0,
         1,
         "A",
         null
        ],
        [
         161537,
         "D1 FFF",
         2019,
         "191026 1330",
         "Paris FC",
         "Montpellier",
         2,
         5,
         "A",
         null
        ],
        [
         162751,
         "D1 FFF",
         2019,
         "191026 1330",
         "Guingamp",
         "Fleury",
         0,
         1,
         "A",
         null
        ],
        [
         164013,
         "D1 FFF",
         2019,
         "191026 1330",
         "Soyaux",
         "Dijon",
         0,
         0,
         "D",
         null
        ],
        [
         164423,
         "D1 FFF",
         2019,
         "191026 1430",
         "Lyon",
         "Bordeaux",
         4,
         0,
         "H",
         null
        ],
        [
         165783,
         "D1 FFF",
         2019,
         "191027 1345",
         "Ol. Marseille",
         "Paris S-G",
         0,
         5,
         "A",
         null
        ],
        [
         169322,
         "D1 FFF",
         2019,
         "191102 1330",
         "Dijon",
         "Metz",
         2,
         1,
         "H",
         null
        ],
        [
         169392,
         "D1 FFF",
         2019,
         "191102 1330",
         "Bordeaux",
         "Soyaux",
         4,
         1,
         "H",
         null
        ],
        [
         169469,
         "D1 FFF",
         2019,
         "191102 1330",
         "Stade de Reims",
         "Paris FC",
         0,
         1,
         "A",
         null
        ],
        [
         170342,
         "D1 FFF",
         2019,
         "191102 1330",
         "Fleury",
         "Ol. Marseille",
         4,
         1,
         "H",
         null
        ],
        [
         170842,
         "D1 FFF",
         2019,
         "191102 1430",
         "Montpellier",
         "Lyon",
         0,
         3,
         "A",
         null
        ],
        [
         171983,
         "D1 FFF",
         2019,
         "191103 1345",
         "Paris S-G",
         "Guingamp",
         1,
         1,
         "D",
         null
        ],
        [
         173611,
         "D1 FFF",
         2019,
         "191116 1330",
         "Metz",
         "Bordeaux",
         0,
         4,
         "A",
         null
        ],
        [
         173761,
         "D1 FFF",
         2019,
         "191116 1330",
         "Fleury",
         "Dijon",
         1,
         1,
         "D",
         null
        ]
       ],
       "datasetInfos": [],
       "dbfsResultPath": null,
       "isJsonSchema": true,
       "metadata": {},
       "overflow": false,
       "plotOptions": {
        "customPlotOptions": {},
        "displayType": "table",
        "pivotAggregation": null,
        "pivotColumns": null,
        "xColumns": null,
        "yColumns": null
       },
       "removedWidgets": [],
       "schema": [
        {
         "metadata": "{}",
         "name": "MatchId",
         "type": "\"integer\""
        },
        {
         "metadata": "{}",
         "name": "League",
         "type": "\"string\""
        },
        {
         "metadata": "{}",
         "name": "Season",
         "type": "\"integer\""
        },
        {
         "metadata": "{}",
         "name": "MatchDay",
         "type": "\"string\""
        },
        {
         "metadata": "{}",
         "name": "HT",
         "type": "\"string\""
        },
        {
         "metadata": "{}",
         "name": "AT",
         "type": "\"string\""
        },
        {
         "metadata": "{}",
         "name": "FTHG",
         "type": "\"integer\""
        },
        {
         "metadata": "{}",
         "name": "FTAG",
         "type": "\"integer\""
        },
        {
         "metadata": "{}",
         "name": "FTR",
         "type": "\"string\""
        },
        {
         "metadata": "{}",
         "name": "ATTD",
         "type": "\"integer\""
        }
       ],
       "type": "table"
      }
     },
     "output_type": "display_data"
    },
    {
     "output_type": "stream",
     "name": "stdout",
     "output_type": "stream",
     "text": [
      "root\n |-- MatchId: integer (nullable = true)\n |-- League: string (nullable = true)\n |-- Season: integer (nullable = true)\n |-- MatchDay: string (nullable = true)\n |-- HT: string (nullable = true)\n |-- AT: string (nullable = true)\n |-- FTHG: integer (nullable = true)\n |-- FTAG: integer (nullable = true)\n |-- FTR: string (nullable = true)\n |-- ATTD: integer (nullable = true)\n\n"
     ]
    }
   ],
   "source": [
    "# Load and display the women's football matches data from CSV, adhering to the predefined schema.\n",
    "\n",
    "dfMatches = spark.read.format('csv').schema(fixtureSchema).load(baseMountPoint + '/women_football_matches_main.csv')\n",
    "display(dfMatches.limit(50))\n",
    "\n",
    "dfMatches.printSchema()"
   ]
  },
  {
   "cell_type": "markdown",
   "metadata": {
    "application/vnd.databricks.v1+cell": {
     "cellMetadata": {
      "byteLimit": 2048000,
      "rowLimit": 10000
     },
     "inputWidgets": {},
     "nuid": "43f2da40-6089-44d2-bd3e-3f4ad656bdd2",
     "showTitle": false,
     "title": ""
    }
   },
   "source": [
    "### 4. Data Transformation\n",
    "\n",
    "Implement a series of data transformation to prepare the dataset for further analysis"
   ]
  },
  {
   "cell_type": "code",
   "execution_count": 0,
   "metadata": {
    "application/vnd.databricks.v1+cell": {
     "cellMetadata": {
      "byteLimit": 2048000,
      "rowLimit": 10000
     },
     "inputWidgets": {},
     "nuid": "c7bbdb71-e8bd-455c-be03-db88e2ec3a5c",
     "showTitle": false,
     "title": ""
    }
   },
   "outputs": [
    {
     "output_type": "display_data",
     "data": {
      "text/html": [
       "<style scoped>\n",
       "  .table-result-container {\n",
       "    max-height: 300px;\n",
       "    overflow: auto;\n",
       "  }\n",
       "  table, th, td {\n",
       "    border: 1px solid black;\n",
       "    border-collapse: collapse;\n",
       "  }\n",
       "  th, td {\n",
       "    padding: 5px;\n",
       "  }\n",
       "  th {\n",
       "    text-align: left;\n",
       "  }\n",
       "</style><div class='table-result-container'><table class='table-result'><thead style='background-color: white'><tr><th>MatchId</th><th>League</th><th>Season</th><th>MatchDay</th><th>HT</th><th>AT</th><th>FTHG</th><th>FTAG</th><th>FTR</th><th>ATTD</th><th>MatchDate</th><th>MatchTime</th></tr></thead><tbody><tr><td>101658</td><td>D1 FFF</td><td>2019</td><td>190824 1330</td><td>Bordeaux</td><td>Fleury</td><td>4</td><td>1</td><td>H</td><td>null</td><td>24-08-19</td><td>13:30</td></tr><tr><td>102633</td><td>D1 FFF</td><td>2019</td><td>190824 1330</td><td>Guingamp</td><td>Metz</td><td>2</td><td>0</td><td>H</td><td>null</td><td>24-08-19</td><td>13:30</td></tr><tr><td>105384</td><td>D1 FFF</td><td>2019</td><td>190824 1330</td><td>Paris FC</td><td>Dijon</td><td>3</td><td>1</td><td>H</td><td>null</td><td>24-08-19</td><td>13:30</td></tr><tr><td>107191</td><td>D1 FFF</td><td>2019</td><td>190824 1330</td><td>Montpellier</td><td>Stade de Reims</td><td>2</td><td>0</td><td>H</td><td>null</td><td>24-08-19</td><td>13:30</td></tr><tr><td>107631</td><td>D1 FFF</td><td>2019</td><td>190824 1430</td><td>Lyon</td><td>Ol. Marseille</td><td>6</td><td>0</td><td>H</td><td>null</td><td>24-08-19</td><td>14:30</td></tr><tr><td>108229</td><td>D1 FFF</td><td>2019</td><td>190825 1345</td><td>Paris S-G</td><td>Soyaux</td><td>7</td><td>0</td><td>H</td><td>null</td><td>25-08-19</td><td>13:45</td></tr><tr><td>109491</td><td>D1 FFF</td><td>2019</td><td>190907 1330</td><td>Fleury</td><td>Montpellier</td><td>1</td><td>3</td><td>A</td><td>null</td><td>07-09-19</td><td>13:30</td></tr><tr><td>109961</td><td>D1 FFF</td><td>2019</td><td>190907 1330</td><td>Ol. Marseille</td><td>Guingamp</td><td>2</td><td>1</td><td>H</td><td>null</td><td>07-09-19</td><td>13:30</td></tr><tr><td>113735</td><td>D1 FFF</td><td>2019</td><td>190907 1330</td><td>Soyaux</td><td>Paris FC</td><td>0</td><td>0</td><td>D</td><td>null</td><td>07-09-19</td><td>13:30</td></tr><tr><td>116885</td><td>D1 FFF</td><td>2019</td><td>190907 1530</td><td>Stade de Reims</td><td>Lyon</td><td>3</td><td>8</td><td>A</td><td>null</td><td>07-09-19</td><td>15:30</td></tr><tr><td>117528</td><td>D1 FFF</td><td>2019</td><td>190907 1530</td><td>Metz</td><td>Paris S-G</td><td>1</td><td>6</td><td>A</td><td>null</td><td>07-09-19</td><td>15:30</td></tr><tr><td>122120</td><td>D1 FFF</td><td>2019</td><td>190908 1345</td><td>Dijon</td><td>Bordeaux</td><td>0</td><td>3</td><td>A</td><td>null</td><td>08-09-19</td><td>13:45</td></tr><tr><td>123042</td><td>D1 FFF</td><td>2019</td><td>190914 1330</td><td>Bordeaux</td><td>Montpellier</td><td>1</td><td>0</td><td>H</td><td>null</td><td>14-09-19</td><td>13:30</td></tr><tr><td>125955</td><td>D1 FFF</td><td>2019</td><td>190914 1330</td><td>Ol. Marseille</td><td>Stade de Reims</td><td>0</td><td>3</td><td>A</td><td>null</td><td>14-09-19</td><td>13:30</td></tr><tr><td>126184</td><td>D1 FFF</td><td>2019</td><td>190914 1330</td><td>Guingamp</td><td>Soyaux</td><td>1</td><td>3</td><td>A</td><td>null</td><td>14-09-19</td><td>13:30</td></tr><tr><td>126283</td><td>D1 FFF</td><td>2019</td><td>190914 1930</td><td>Paris FC</td><td>Metz</td><td>2</td><td>2</td><td>D</td><td>null</td><td>14-09-19</td><td>19:30</td></tr><tr><td>130413</td><td>D1 FFF</td><td>2019</td><td>190915 1530</td><td>Lyon</td><td>Fleury</td><td>6</td><td>0</td><td>H</td><td>null</td><td>15-09-19</td><td>15:30</td></tr><tr><td>133161</td><td>D1 FFF</td><td>2019</td><td>190915 1530</td><td>Paris S-G</td><td>Dijon</td><td>4</td><td>0</td><td>H</td><td>null</td><td>15-09-19</td><td>15:30</td></tr><tr><td>133303</td><td>D1 FFF</td><td>2019</td><td>190928 1330</td><td>Stade de Reims</td><td>Fleury</td><td>0</td><td>1</td><td>A</td><td>null</td><td>28-09-19</td><td>13:30</td></tr><tr><td>136182</td><td>D1 FFF</td><td>2019</td><td>190928 1330</td><td>Montpellier</td><td>Dijon</td><td>6</td><td>0</td><td>H</td><td>null</td><td>28-09-19</td><td>13:30</td></tr></tbody></table></div>"
      ]
     },
     "metadata": {
      "application/vnd.databricks.v1+output": {
       "addedWidgets": {},
       "aggData": [],
       "aggError": "",
       "aggOverflow": false,
       "aggSchema": [],
       "aggSeriesLimitReached": false,
       "aggType": "",
       "arguments": {},
       "columnCustomDisplayInfos": {},
       "data": [
        [
         101658,
         "D1 FFF",
         2019,
         "190824 1330",
         "Bordeaux",
         "Fleury",
         4,
         1,
         "H",
         null,
         "24-08-19",
         "13:30"
        ],
        [
         102633,
         "D1 FFF",
         2019,
         "190824 1330",
         "Guingamp",
         "Metz",
         2,
         0,
         "H",
         null,
         "24-08-19",
         "13:30"
        ],
        [
         105384,
         "D1 FFF",
         2019,
         "190824 1330",
         "Paris FC",
         "Dijon",
         3,
         1,
         "H",
         null,
         "24-08-19",
         "13:30"
        ],
        [
         107191,
         "D1 FFF",
         2019,
         "190824 1330",
         "Montpellier",
         "Stade de Reims",
         2,
         0,
         "H",
         null,
         "24-08-19",
         "13:30"
        ],
        [
         107631,
         "D1 FFF",
         2019,
         "190824 1430",
         "Lyon",
         "Ol. Marseille",
         6,
         0,
         "H",
         null,
         "24-08-19",
         "14:30"
        ],
        [
         108229,
         "D1 FFF",
         2019,
         "190825 1345",
         "Paris S-G",
         "Soyaux",
         7,
         0,
         "H",
         null,
         "25-08-19",
         "13:45"
        ],
        [
         109491,
         "D1 FFF",
         2019,
         "190907 1330",
         "Fleury",
         "Montpellier",
         1,
         3,
         "A",
         null,
         "07-09-19",
         "13:30"
        ],
        [
         109961,
         "D1 FFF",
         2019,
         "190907 1330",
         "Ol. Marseille",
         "Guingamp",
         2,
         1,
         "H",
         null,
         "07-09-19",
         "13:30"
        ],
        [
         113735,
         "D1 FFF",
         2019,
         "190907 1330",
         "Soyaux",
         "Paris FC",
         0,
         0,
         "D",
         null,
         "07-09-19",
         "13:30"
        ],
        [
         116885,
         "D1 FFF",
         2019,
         "190907 1530",
         "Stade de Reims",
         "Lyon",
         3,
         8,
         "A",
         null,
         "07-09-19",
         "15:30"
        ],
        [
         117528,
         "D1 FFF",
         2019,
         "190907 1530",
         "Metz",
         "Paris S-G",
         1,
         6,
         "A",
         null,
         "07-09-19",
         "15:30"
        ],
        [
         122120,
         "D1 FFF",
         2019,
         "190908 1345",
         "Dijon",
         "Bordeaux",
         0,
         3,
         "A",
         null,
         "08-09-19",
         "13:45"
        ],
        [
         123042,
         "D1 FFF",
         2019,
         "190914 1330",
         "Bordeaux",
         "Montpellier",
         1,
         0,
         "H",
         null,
         "14-09-19",
         "13:30"
        ],
        [
         125955,
         "D1 FFF",
         2019,
         "190914 1330",
         "Ol. Marseille",
         "Stade de Reims",
         0,
         3,
         "A",
         null,
         "14-09-19",
         "13:30"
        ],
        [
         126184,
         "D1 FFF",
         2019,
         "190914 1330",
         "Guingamp",
         "Soyaux",
         1,
         3,
         "A",
         null,
         "14-09-19",
         "13:30"
        ],
        [
         126283,
         "D1 FFF",
         2019,
         "190914 1930",
         "Paris FC",
         "Metz",
         2,
         2,
         "D",
         null,
         "14-09-19",
         "19:30"
        ],
        [
         130413,
         "D1 FFF",
         2019,
         "190915 1530",
         "Lyon",
         "Fleury",
         6,
         0,
         "H",
         null,
         "15-09-19",
         "15:30"
        ],
        [
         133161,
         "D1 FFF",
         2019,
         "190915 1530",
         "Paris S-G",
         "Dijon",
         4,
         0,
         "H",
         null,
         "15-09-19",
         "15:30"
        ],
        [
         133303,
         "D1 FFF",
         2019,
         "190928 1330",
         "Stade de Reims",
         "Fleury",
         0,
         1,
         "A",
         null,
         "28-09-19",
         "13:30"
        ],
        [
         136182,
         "D1 FFF",
         2019,
         "190928 1330",
         "Montpellier",
         "Dijon",
         6,
         0,
         "H",
         null,
         "28-09-19",
         "13:30"
        ]
       ],
       "datasetInfos": [],
       "dbfsResultPath": null,
       "isJsonSchema": true,
       "metadata": {},
       "overflow": false,
       "plotOptions": {
        "customPlotOptions": {},
        "displayType": "table",
        "pivotAggregation": null,
        "pivotColumns": null,
        "xColumns": null,
        "yColumns": null
       },
       "removedWidgets": [],
       "schema": [
        {
         "metadata": "{}",
         "name": "MatchId",
         "type": "\"integer\""
        },
        {
         "metadata": "{}",
         "name": "League",
         "type": "\"string\""
        },
        {
         "metadata": "{}",
         "name": "Season",
         "type": "\"integer\""
        },
        {
         "metadata": "{}",
         "name": "MatchDay",
         "type": "\"string\""
        },
        {
         "metadata": "{}",
         "name": "HT",
         "type": "\"string\""
        },
        {
         "metadata": "{}",
         "name": "AT",
         "type": "\"string\""
        },
        {
         "metadata": "{}",
         "name": "FTHG",
         "type": "\"integer\""
        },
        {
         "metadata": "{}",
         "name": "FTAG",
         "type": "\"integer\""
        },
        {
         "metadata": "{}",
         "name": "FTR",
         "type": "\"string\""
        },
        {
         "metadata": "{}",
         "name": "ATTD",
         "type": "\"integer\""
        },
        {
         "metadata": "{}",
         "name": "MatchDate",
         "type": "\"string\""
        },
        {
         "metadata": "{}",
         "name": "MatchTime",
         "type": "\"string\""
        }
       ],
       "type": "table"
      }
     },
     "output_type": "display_data"
    }
   ],
   "source": [
    "# Transform the 'MatchDay' column into separate 'MatchDate' and 'MatchTime' columns.\n",
    "\n",
    "dfMatches = dfMatches.withColumn('MatchDate', concat(\n",
    "        substring(col('MatchDay'), 5, 2), lit('-'), \\\n",
    "        substring(col('MatchDay'), 3, 2), lit('-'), \\\n",
    "        substring(col('MatchDay'), 1, 2)\n",
    "        )) \\\n",
    "    .withColumn('MatchTime', concat(\n",
    "        substring(col('MatchDay'), 8, 2), lit(':'), \\\n",
    "        substring(col('MatchDay'), 10, 2)\n",
    "        ))\n",
    "\n",
    "display(dfMatches.limit(20))"
   ]
  },
  {
   "cell_type": "code",
   "execution_count": 0,
   "metadata": {
    "application/vnd.databricks.v1+cell": {
     "cellMetadata": {
      "byteLimit": 2048000,
      "rowLimit": 10000
     },
     "inputWidgets": {},
     "nuid": "c84632b3-5752-48bc-9102-731bdaee8ec0",
     "showTitle": false,
     "title": ""
    }
   },
   "outputs": [
    {
     "output_type": "display_data",
     "data": {
      "text/html": [
       "<style scoped>\n",
       "  .table-result-container {\n",
       "    max-height: 300px;\n",
       "    overflow: auto;\n",
       "  }\n",
       "  table, th, td {\n",
       "    border: 1px solid black;\n",
       "    border-collapse: collapse;\n",
       "  }\n",
       "  th, td {\n",
       "    padding: 5px;\n",
       "  }\n",
       "  th {\n",
       "    text-align: left;\n",
       "  }\n",
       "</style><div class='table-result-container'><table class='table-result'><thead style='background-color: white'><tr><th>MatchId</th><th>League</th><th>Season</th><th>MatchDay</th><th>HomeTeam</th><th>AwayTeam</th><th>HomeTeamGoals</th><th>AwayTeamGoals</th><th>MatchResult</th><th>Attendance</th><th>MatchDate</th><th>MatchTime</th></tr></thead><tbody><tr><td>101658</td><td>D1 FFF</td><td>2019</td><td>190824 1330</td><td>Bordeaux</td><td>Fleury</td><td>4</td><td>1</td><td>H</td><td>null</td><td>24-08-19</td><td>13:30</td></tr><tr><td>102633</td><td>D1 FFF</td><td>2019</td><td>190824 1330</td><td>Guingamp</td><td>Metz</td><td>2</td><td>0</td><td>H</td><td>null</td><td>24-08-19</td><td>13:30</td></tr><tr><td>105384</td><td>D1 FFF</td><td>2019</td><td>190824 1330</td><td>Paris FC</td><td>Dijon</td><td>3</td><td>1</td><td>H</td><td>null</td><td>24-08-19</td><td>13:30</td></tr><tr><td>107191</td><td>D1 FFF</td><td>2019</td><td>190824 1330</td><td>Montpellier</td><td>Stade de Reims</td><td>2</td><td>0</td><td>H</td><td>null</td><td>24-08-19</td><td>13:30</td></tr><tr><td>107631</td><td>D1 FFF</td><td>2019</td><td>190824 1430</td><td>Lyon</td><td>Ol. Marseille</td><td>6</td><td>0</td><td>H</td><td>null</td><td>24-08-19</td><td>14:30</td></tr><tr><td>108229</td><td>D1 FFF</td><td>2019</td><td>190825 1345</td><td>Paris S-G</td><td>Soyaux</td><td>7</td><td>0</td><td>H</td><td>null</td><td>25-08-19</td><td>13:45</td></tr><tr><td>109491</td><td>D1 FFF</td><td>2019</td><td>190907 1330</td><td>Fleury</td><td>Montpellier</td><td>1</td><td>3</td><td>A</td><td>null</td><td>07-09-19</td><td>13:30</td></tr><tr><td>109961</td><td>D1 FFF</td><td>2019</td><td>190907 1330</td><td>Ol. Marseille</td><td>Guingamp</td><td>2</td><td>1</td><td>H</td><td>null</td><td>07-09-19</td><td>13:30</td></tr><tr><td>113735</td><td>D1 FFF</td><td>2019</td><td>190907 1330</td><td>Soyaux</td><td>Paris FC</td><td>0</td><td>0</td><td>D</td><td>null</td><td>07-09-19</td><td>13:30</td></tr><tr><td>116885</td><td>D1 FFF</td><td>2019</td><td>190907 1530</td><td>Stade de Reims</td><td>Lyon</td><td>3</td><td>8</td><td>A</td><td>null</td><td>07-09-19</td><td>15:30</td></tr><tr><td>117528</td><td>D1 FFF</td><td>2019</td><td>190907 1530</td><td>Metz</td><td>Paris S-G</td><td>1</td><td>6</td><td>A</td><td>null</td><td>07-09-19</td><td>15:30</td></tr><tr><td>122120</td><td>D1 FFF</td><td>2019</td><td>190908 1345</td><td>Dijon</td><td>Bordeaux</td><td>0</td><td>3</td><td>A</td><td>null</td><td>08-09-19</td><td>13:45</td></tr><tr><td>123042</td><td>D1 FFF</td><td>2019</td><td>190914 1330</td><td>Bordeaux</td><td>Montpellier</td><td>1</td><td>0</td><td>H</td><td>null</td><td>14-09-19</td><td>13:30</td></tr><tr><td>125955</td><td>D1 FFF</td><td>2019</td><td>190914 1330</td><td>Ol. Marseille</td><td>Stade de Reims</td><td>0</td><td>3</td><td>A</td><td>null</td><td>14-09-19</td><td>13:30</td></tr><tr><td>126184</td><td>D1 FFF</td><td>2019</td><td>190914 1330</td><td>Guingamp</td><td>Soyaux</td><td>1</td><td>3</td><td>A</td><td>null</td><td>14-09-19</td><td>13:30</td></tr><tr><td>126283</td><td>D1 FFF</td><td>2019</td><td>190914 1930</td><td>Paris FC</td><td>Metz</td><td>2</td><td>2</td><td>D</td><td>null</td><td>14-09-19</td><td>19:30</td></tr><tr><td>130413</td><td>D1 FFF</td><td>2019</td><td>190915 1530</td><td>Lyon</td><td>Fleury</td><td>6</td><td>0</td><td>H</td><td>null</td><td>15-09-19</td><td>15:30</td></tr><tr><td>133161</td><td>D1 FFF</td><td>2019</td><td>190915 1530</td><td>Paris S-G</td><td>Dijon</td><td>4</td><td>0</td><td>H</td><td>null</td><td>15-09-19</td><td>15:30</td></tr><tr><td>133303</td><td>D1 FFF</td><td>2019</td><td>190928 1330</td><td>Stade de Reims</td><td>Fleury</td><td>0</td><td>1</td><td>A</td><td>null</td><td>28-09-19</td><td>13:30</td></tr><tr><td>136182</td><td>D1 FFF</td><td>2019</td><td>190928 1330</td><td>Montpellier</td><td>Dijon</td><td>6</td><td>0</td><td>H</td><td>null</td><td>28-09-19</td><td>13:30</td></tr></tbody></table></div>"
      ]
     },
     "metadata": {
      "application/vnd.databricks.v1+output": {
       "addedWidgets": {},
       "aggData": [],
       "aggError": "",
       "aggOverflow": false,
       "aggSchema": [],
       "aggSeriesLimitReached": false,
       "aggType": "",
       "arguments": {},
       "columnCustomDisplayInfos": {},
       "data": [
        [
         101658,
         "D1 FFF",
         2019,
         "190824 1330",
         "Bordeaux",
         "Fleury",
         4,
         1,
         "H",
         null,
         "24-08-19",
         "13:30"
        ],
        [
         102633,
         "D1 FFF",
         2019,
         "190824 1330",
         "Guingamp",
         "Metz",
         2,
         0,
         "H",
         null,
         "24-08-19",
         "13:30"
        ],
        [
         105384,
         "D1 FFF",
         2019,
         "190824 1330",
         "Paris FC",
         "Dijon",
         3,
         1,
         "H",
         null,
         "24-08-19",
         "13:30"
        ],
        [
         107191,
         "D1 FFF",
         2019,
         "190824 1330",
         "Montpellier",
         "Stade de Reims",
         2,
         0,
         "H",
         null,
         "24-08-19",
         "13:30"
        ],
        [
         107631,
         "D1 FFF",
         2019,
         "190824 1430",
         "Lyon",
         "Ol. Marseille",
         6,
         0,
         "H",
         null,
         "24-08-19",
         "14:30"
        ],
        [
         108229,
         "D1 FFF",
         2019,
         "190825 1345",
         "Paris S-G",
         "Soyaux",
         7,
         0,
         "H",
         null,
         "25-08-19",
         "13:45"
        ],
        [
         109491,
         "D1 FFF",
         2019,
         "190907 1330",
         "Fleury",
         "Montpellier",
         1,
         3,
         "A",
         null,
         "07-09-19",
         "13:30"
        ],
        [
         109961,
         "D1 FFF",
         2019,
         "190907 1330",
         "Ol. Marseille",
         "Guingamp",
         2,
         1,
         "H",
         null,
         "07-09-19",
         "13:30"
        ],
        [
         113735,
         "D1 FFF",
         2019,
         "190907 1330",
         "Soyaux",
         "Paris FC",
         0,
         0,
         "D",
         null,
         "07-09-19",
         "13:30"
        ],
        [
         116885,
         "D1 FFF",
         2019,
         "190907 1530",
         "Stade de Reims",
         "Lyon",
         3,
         8,
         "A",
         null,
         "07-09-19",
         "15:30"
        ],
        [
         117528,
         "D1 FFF",
         2019,
         "190907 1530",
         "Metz",
         "Paris S-G",
         1,
         6,
         "A",
         null,
         "07-09-19",
         "15:30"
        ],
        [
         122120,
         "D1 FFF",
         2019,
         "190908 1345",
         "Dijon",
         "Bordeaux",
         0,
         3,
         "A",
         null,
         "08-09-19",
         "13:45"
        ],
        [
         123042,
         "D1 FFF",
         2019,
         "190914 1330",
         "Bordeaux",
         "Montpellier",
         1,
         0,
         "H",
         null,
         "14-09-19",
         "13:30"
        ],
        [
         125955,
         "D1 FFF",
         2019,
         "190914 1330",
         "Ol. Marseille",
         "Stade de Reims",
         0,
         3,
         "A",
         null,
         "14-09-19",
         "13:30"
        ],
        [
         126184,
         "D1 FFF",
         2019,
         "190914 1330",
         "Guingamp",
         "Soyaux",
         1,
         3,
         "A",
         null,
         "14-09-19",
         "13:30"
        ],
        [
         126283,
         "D1 FFF",
         2019,
         "190914 1930",
         "Paris FC",
         "Metz",
         2,
         2,
         "D",
         null,
         "14-09-19",
         "19:30"
        ],
        [
         130413,
         "D1 FFF",
         2019,
         "190915 1530",
         "Lyon",
         "Fleury",
         6,
         0,
         "H",
         null,
         "15-09-19",
         "15:30"
        ],
        [
         133161,
         "D1 FFF",
         2019,
         "190915 1530",
         "Paris S-G",
         "Dijon",
         4,
         0,
         "H",
         null,
         "15-09-19",
         "15:30"
        ],
        [
         133303,
         "D1 FFF",
         2019,
         "190928 1330",
         "Stade de Reims",
         "Fleury",
         0,
         1,
         "A",
         null,
         "28-09-19",
         "13:30"
        ],
        [
         136182,
         "D1 FFF",
         2019,
         "190928 1330",
         "Montpellier",
         "Dijon",
         6,
         0,
         "H",
         null,
         "28-09-19",
         "13:30"
        ]
       ],
       "datasetInfos": [],
       "dbfsResultPath": null,
       "isJsonSchema": true,
       "metadata": {},
       "overflow": false,
       "plotOptions": {
        "customPlotOptions": {},
        "displayType": "table",
        "pivotAggregation": null,
        "pivotColumns": null,
        "xColumns": null,
        "yColumns": null
       },
       "removedWidgets": [],
       "schema": [
        {
         "metadata": "{}",
         "name": "MatchId",
         "type": "\"integer\""
        },
        {
         "metadata": "{}",
         "name": "League",
         "type": "\"string\""
        },
        {
         "metadata": "{}",
         "name": "Season",
         "type": "\"integer\""
        },
        {
         "metadata": "{}",
         "name": "MatchDay",
         "type": "\"string\""
        },
        {
         "metadata": "{}",
         "name": "HomeTeam",
         "type": "\"string\""
        },
        {
         "metadata": "{}",
         "name": "AwayTeam",
         "type": "\"string\""
        },
        {
         "metadata": "{}",
         "name": "HomeTeamGoals",
         "type": "\"integer\""
        },
        {
         "metadata": "{}",
         "name": "AwayTeamGoals",
         "type": "\"integer\""
        },
        {
         "metadata": "{}",
         "name": "MatchResult",
         "type": "\"string\""
        },
        {
         "metadata": "{}",
         "name": "Attendance",
         "type": "\"integer\""
        },
        {
         "metadata": "{}",
         "name": "MatchDate",
         "type": "\"string\""
        },
        {
         "metadata": "{}",
         "name": "MatchTime",
         "type": "\"string\""
        }
       ],
       "type": "table"
      }
     },
     "output_type": "display_data"
    }
   ],
   "source": [
    "# Rename columns for clarity and consistency.\n",
    "\n",
    "dfMatches = dfMatches.withColumnsRenamed({\n",
    "    'HT': 'HomeTeam',\n",
    "    'AT': 'AwayTeam',\n",
    "    'FTHG': 'HomeTeamGoals',\n",
    "    'FTAG': 'AwayTeamGoals',\n",
    "    'FTR': 'MatchResult',\n",
    "    'ATTD': 'Attendance'\n",
    "})\n",
    "\n",
    "display(dfMatches.limit(20))"
   ]
  },
  {
   "cell_type": "code",
   "execution_count": 0,
   "metadata": {
    "application/vnd.databricks.v1+cell": {
     "cellMetadata": {
      "byteLimit": 2048000,
      "rowLimit": 10000
     },
     "inputWidgets": {},
     "nuid": "905c294f-0fe7-435b-83bf-802c032f4d65",
     "showTitle": false,
     "title": ""
    }
   },
   "outputs": [
    {
     "output_type": "display_data",
     "data": {
      "text/html": [
       "<style scoped>\n",
       "  .table-result-container {\n",
       "    max-height: 300px;\n",
       "    overflow: auto;\n",
       "  }\n",
       "  table, th, td {\n",
       "    border: 1px solid black;\n",
       "    border-collapse: collapse;\n",
       "  }\n",
       "  th, td {\n",
       "    padding: 5px;\n",
       "  }\n",
       "  th {\n",
       "    text-align: left;\n",
       "  }\n",
       "</style><div class='table-result-container'><table class='table-result'><thead style='background-color: white'><tr><th>MatchId</th><th>League</th><th>Season</th><th>MatchDay</th><th>HomeTeam</th><th>AwayTeam</th><th>HomeTeamGoals</th><th>AwayTeamGoals</th><th>MatchResult</th><th>Attendance</th><th>MatchDate</th><th>MatchTime</th><th>HomeWin</th><th>AwayWin</th><th>Draw</th></tr></thead><tbody><tr><td>101658</td><td>D1 FFF</td><td>2019</td><td>190824 1330</td><td>Bordeaux</td><td>Fleury</td><td>4</td><td>1</td><td>H</td><td>null</td><td>24-08-19</td><td>13:30</td><td>1</td><td>0</td><td>0</td></tr><tr><td>102633</td><td>D1 FFF</td><td>2019</td><td>190824 1330</td><td>Guingamp</td><td>Metz</td><td>2</td><td>0</td><td>H</td><td>null</td><td>24-08-19</td><td>13:30</td><td>1</td><td>0</td><td>0</td></tr><tr><td>105384</td><td>D1 FFF</td><td>2019</td><td>190824 1330</td><td>Paris FC</td><td>Dijon</td><td>3</td><td>1</td><td>H</td><td>null</td><td>24-08-19</td><td>13:30</td><td>1</td><td>0</td><td>0</td></tr><tr><td>107191</td><td>D1 FFF</td><td>2019</td><td>190824 1330</td><td>Montpellier</td><td>Stade de Reims</td><td>2</td><td>0</td><td>H</td><td>null</td><td>24-08-19</td><td>13:30</td><td>1</td><td>0</td><td>0</td></tr><tr><td>107631</td><td>D1 FFF</td><td>2019</td><td>190824 1430</td><td>Lyon</td><td>Ol. Marseille</td><td>6</td><td>0</td><td>H</td><td>null</td><td>24-08-19</td><td>14:30</td><td>1</td><td>0</td><td>0</td></tr><tr><td>108229</td><td>D1 FFF</td><td>2019</td><td>190825 1345</td><td>Paris S-G</td><td>Soyaux</td><td>7</td><td>0</td><td>H</td><td>null</td><td>25-08-19</td><td>13:45</td><td>1</td><td>0</td><td>0</td></tr><tr><td>109491</td><td>D1 FFF</td><td>2019</td><td>190907 1330</td><td>Fleury</td><td>Montpellier</td><td>1</td><td>3</td><td>A</td><td>null</td><td>07-09-19</td><td>13:30</td><td>0</td><td>1</td><td>0</td></tr><tr><td>109961</td><td>D1 FFF</td><td>2019</td><td>190907 1330</td><td>Ol. Marseille</td><td>Guingamp</td><td>2</td><td>1</td><td>H</td><td>null</td><td>07-09-19</td><td>13:30</td><td>1</td><td>0</td><td>0</td></tr><tr><td>113735</td><td>D1 FFF</td><td>2019</td><td>190907 1330</td><td>Soyaux</td><td>Paris FC</td><td>0</td><td>0</td><td>D</td><td>null</td><td>07-09-19</td><td>13:30</td><td>0</td><td>0</td><td>1</td></tr><tr><td>116885</td><td>D1 FFF</td><td>2019</td><td>190907 1530</td><td>Stade de Reims</td><td>Lyon</td><td>3</td><td>8</td><td>A</td><td>null</td><td>07-09-19</td><td>15:30</td><td>0</td><td>1</td><td>0</td></tr><tr><td>117528</td><td>D1 FFF</td><td>2019</td><td>190907 1530</td><td>Metz</td><td>Paris S-G</td><td>1</td><td>6</td><td>A</td><td>null</td><td>07-09-19</td><td>15:30</td><td>0</td><td>1</td><td>0</td></tr><tr><td>122120</td><td>D1 FFF</td><td>2019</td><td>190908 1345</td><td>Dijon</td><td>Bordeaux</td><td>0</td><td>3</td><td>A</td><td>null</td><td>08-09-19</td><td>13:45</td><td>0</td><td>1</td><td>0</td></tr><tr><td>123042</td><td>D1 FFF</td><td>2019</td><td>190914 1330</td><td>Bordeaux</td><td>Montpellier</td><td>1</td><td>0</td><td>H</td><td>null</td><td>14-09-19</td><td>13:30</td><td>1</td><td>0</td><td>0</td></tr><tr><td>125955</td><td>D1 FFF</td><td>2019</td><td>190914 1330</td><td>Ol. Marseille</td><td>Stade de Reims</td><td>0</td><td>3</td><td>A</td><td>null</td><td>14-09-19</td><td>13:30</td><td>0</td><td>1</td><td>0</td></tr><tr><td>126184</td><td>D1 FFF</td><td>2019</td><td>190914 1330</td><td>Guingamp</td><td>Soyaux</td><td>1</td><td>3</td><td>A</td><td>null</td><td>14-09-19</td><td>13:30</td><td>0</td><td>1</td><td>0</td></tr><tr><td>126283</td><td>D1 FFF</td><td>2019</td><td>190914 1930</td><td>Paris FC</td><td>Metz</td><td>2</td><td>2</td><td>D</td><td>null</td><td>14-09-19</td><td>19:30</td><td>0</td><td>0</td><td>1</td></tr><tr><td>130413</td><td>D1 FFF</td><td>2019</td><td>190915 1530</td><td>Lyon</td><td>Fleury</td><td>6</td><td>0</td><td>H</td><td>null</td><td>15-09-19</td><td>15:30</td><td>1</td><td>0</td><td>0</td></tr><tr><td>133161</td><td>D1 FFF</td><td>2019</td><td>190915 1530</td><td>Paris S-G</td><td>Dijon</td><td>4</td><td>0</td><td>H</td><td>null</td><td>15-09-19</td><td>15:30</td><td>1</td><td>0</td><td>0</td></tr><tr><td>133303</td><td>D1 FFF</td><td>2019</td><td>190928 1330</td><td>Stade de Reims</td><td>Fleury</td><td>0</td><td>1</td><td>A</td><td>null</td><td>28-09-19</td><td>13:30</td><td>0</td><td>1</td><td>0</td></tr><tr><td>136182</td><td>D1 FFF</td><td>2019</td><td>190928 1330</td><td>Montpellier</td><td>Dijon</td><td>6</td><td>0</td><td>H</td><td>null</td><td>28-09-19</td><td>13:30</td><td>1</td><td>0</td><td>0</td></tr></tbody></table></div>"
      ]
     },
     "metadata": {
      "application/vnd.databricks.v1+output": {
       "addedWidgets": {},
       "aggData": [],
       "aggError": "",
       "aggOverflow": false,
       "aggSchema": [],
       "aggSeriesLimitReached": false,
       "aggType": "",
       "arguments": {},
       "columnCustomDisplayInfos": {},
       "data": [
        [
         101658,
         "D1 FFF",
         2019,
         "190824 1330",
         "Bordeaux",
         "Fleury",
         4,
         1,
         "H",
         null,
         "24-08-19",
         "13:30",
         1,
         0,
         0
        ],
        [
         102633,
         "D1 FFF",
         2019,
         "190824 1330",
         "Guingamp",
         "Metz",
         2,
         0,
         "H",
         null,
         "24-08-19",
         "13:30",
         1,
         0,
         0
        ],
        [
         105384,
         "D1 FFF",
         2019,
         "190824 1330",
         "Paris FC",
         "Dijon",
         3,
         1,
         "H",
         null,
         "24-08-19",
         "13:30",
         1,
         0,
         0
        ],
        [
         107191,
         "D1 FFF",
         2019,
         "190824 1330",
         "Montpellier",
         "Stade de Reims",
         2,
         0,
         "H",
         null,
         "24-08-19",
         "13:30",
         1,
         0,
         0
        ],
        [
         107631,
         "D1 FFF",
         2019,
         "190824 1430",
         "Lyon",
         "Ol. Marseille",
         6,
         0,
         "H",
         null,
         "24-08-19",
         "14:30",
         1,
         0,
         0
        ],
        [
         108229,
         "D1 FFF",
         2019,
         "190825 1345",
         "Paris S-G",
         "Soyaux",
         7,
         0,
         "H",
         null,
         "25-08-19",
         "13:45",
         1,
         0,
         0
        ],
        [
         109491,
         "D1 FFF",
         2019,
         "190907 1330",
         "Fleury",
         "Montpellier",
         1,
         3,
         "A",
         null,
         "07-09-19",
         "13:30",
         0,
         1,
         0
        ],
        [
         109961,
         "D1 FFF",
         2019,
         "190907 1330",
         "Ol. Marseille",
         "Guingamp",
         2,
         1,
         "H",
         null,
         "07-09-19",
         "13:30",
         1,
         0,
         0
        ],
        [
         113735,
         "D1 FFF",
         2019,
         "190907 1330",
         "Soyaux",
         "Paris FC",
         0,
         0,
         "D",
         null,
         "07-09-19",
         "13:30",
         0,
         0,
         1
        ],
        [
         116885,
         "D1 FFF",
         2019,
         "190907 1530",
         "Stade de Reims",
         "Lyon",
         3,
         8,
         "A",
         null,
         "07-09-19",
         "15:30",
         0,
         1,
         0
        ],
        [
         117528,
         "D1 FFF",
         2019,
         "190907 1530",
         "Metz",
         "Paris S-G",
         1,
         6,
         "A",
         null,
         "07-09-19",
         "15:30",
         0,
         1,
         0
        ],
        [
         122120,
         "D1 FFF",
         2019,
         "190908 1345",
         "Dijon",
         "Bordeaux",
         0,
         3,
         "A",
         null,
         "08-09-19",
         "13:45",
         0,
         1,
         0
        ],
        [
         123042,
         "D1 FFF",
         2019,
         "190914 1330",
         "Bordeaux",
         "Montpellier",
         1,
         0,
         "H",
         null,
         "14-09-19",
         "13:30",
         1,
         0,
         0
        ],
        [
         125955,
         "D1 FFF",
         2019,
         "190914 1330",
         "Ol. Marseille",
         "Stade de Reims",
         0,
         3,
         "A",
         null,
         "14-09-19",
         "13:30",
         0,
         1,
         0
        ],
        [
         126184,
         "D1 FFF",
         2019,
         "190914 1330",
         "Guingamp",
         "Soyaux",
         1,
         3,
         "A",
         null,
         "14-09-19",
         "13:30",
         0,
         1,
         0
        ],
        [
         126283,
         "D1 FFF",
         2019,
         "190914 1930",
         "Paris FC",
         "Metz",
         2,
         2,
         "D",
         null,
         "14-09-19",
         "19:30",
         0,
         0,
         1
        ],
        [
         130413,
         "D1 FFF",
         2019,
         "190915 1530",
         "Lyon",
         "Fleury",
         6,
         0,
         "H",
         null,
         "15-09-19",
         "15:30",
         1,
         0,
         0
        ],
        [
         133161,
         "D1 FFF",
         2019,
         "190915 1530",
         "Paris S-G",
         "Dijon",
         4,
         0,
         "H",
         null,
         "15-09-19",
         "15:30",
         1,
         0,
         0
        ],
        [
         133303,
         "D1 FFF",
         2019,
         "190928 1330",
         "Stade de Reims",
         "Fleury",
         0,
         1,
         "A",
         null,
         "28-09-19",
         "13:30",
         0,
         1,
         0
        ],
        [
         136182,
         "D1 FFF",
         2019,
         "190928 1330",
         "Montpellier",
         "Dijon",
         6,
         0,
         "H",
         null,
         "28-09-19",
         "13:30",
         1,
         0,
         0
        ]
       ],
       "datasetInfos": [],
       "dbfsResultPath": null,
       "isJsonSchema": true,
       "metadata": {},
       "overflow": false,
       "plotOptions": {
        "customPlotOptions": {},
        "displayType": "table",
        "pivotAggregation": null,
        "pivotColumns": null,
        "xColumns": null,
        "yColumns": null
       },
       "removedWidgets": [],
       "schema": [
        {
         "metadata": "{}",
         "name": "MatchId",
         "type": "\"integer\""
        },
        {
         "metadata": "{}",
         "name": "League",
         "type": "\"string\""
        },
        {
         "metadata": "{}",
         "name": "Season",
         "type": "\"integer\""
        },
        {
         "metadata": "{}",
         "name": "MatchDay",
         "type": "\"string\""
        },
        {
         "metadata": "{}",
         "name": "HomeTeam",
         "type": "\"string\""
        },
        {
         "metadata": "{}",
         "name": "AwayTeam",
         "type": "\"string\""
        },
        {
         "metadata": "{}",
         "name": "HomeTeamGoals",
         "type": "\"integer\""
        },
        {
         "metadata": "{}",
         "name": "AwayTeamGoals",
         "type": "\"integer\""
        },
        {
         "metadata": "{}",
         "name": "MatchResult",
         "type": "\"string\""
        },
        {
         "metadata": "{}",
         "name": "Attendance",
         "type": "\"integer\""
        },
        {
         "metadata": "{}",
         "name": "MatchDate",
         "type": "\"string\""
        },
        {
         "metadata": "{}",
         "name": "MatchTime",
         "type": "\"string\""
        },
        {
         "metadata": "{}",
         "name": "HomeWin",
         "type": "\"integer\""
        },
        {
         "metadata": "{}",
         "name": "AwayWin",
         "type": "\"integer\""
        },
        {
         "metadata": "{}",
         "name": "Draw",
         "type": "\"integer\""
        }
       ],
       "type": "table"
      }
     },
     "output_type": "display_data"
    }
   ],
   "source": [
    "# Add binary outcome indicators for home wins, away wins, and draws based on the 'MatchResult' column.\n",
    "\n",
    "dfMatches = dfMatches.withColumn('HomeWin', when(col('MatchResult') == 'H', 1).otherwise(0)) \\\n",
    "    .withColumn('AwayWin', when(col('MatchResult') == 'A', 1).otherwise(0)) \\\n",
    "    .withColumn('Draw', when(col('MatchResult') == 'D', 1).otherwise(0))\n",
    "\n",
    "display(dfMatches.limit(20))"
   ]
  },
  {
   "cell_type": "code",
   "execution_count": 0,
   "metadata": {
    "application/vnd.databricks.v1+cell": {
     "cellMetadata": {
      "byteLimit": 2048000,
      "rowLimit": 10000
     },
     "inputWidgets": {},
     "nuid": "32cd4e96-6719-4332-baea-af78c9ba0250",
     "showTitle": false,
     "title": ""
    }
   },
   "outputs": [
    {
     "output_type": "display_data",
     "data": {
      "text/html": [
       "<style scoped>\n",
       "  .table-result-container {\n",
       "    max-height: 300px;\n",
       "    overflow: auto;\n",
       "  }\n",
       "  table, th, td {\n",
       "    border: 1px solid black;\n",
       "    border-collapse: collapse;\n",
       "  }\n",
       "  th, td {\n",
       "    padding: 5px;\n",
       "  }\n",
       "  th {\n",
       "    text-align: left;\n",
       "  }\n",
       "</style><div class='table-result-container'><table class='table-result'><thead style='background-color: white'><tr><th>MatchId</th><th>League</th><th>Season</th><th>HomeTeam</th><th>AwayTeam</th><th>HomeTeamGoals</th><th>AwayTeamGoals</th><th>MatchResult</th><th>MatchDate</th><th>HomeWin</th><th>AwayWin</th><th>Draw</th></tr></thead><tbody><tr><td>101658</td><td>D1 FFF</td><td>2019</td><td>Bordeaux</td><td>Fleury</td><td>4</td><td>1</td><td>H</td><td>24-08-19</td><td>1</td><td>0</td><td>0</td></tr><tr><td>102633</td><td>D1 FFF</td><td>2019</td><td>Guingamp</td><td>Metz</td><td>2</td><td>0</td><td>H</td><td>24-08-19</td><td>1</td><td>0</td><td>0</td></tr><tr><td>105384</td><td>D1 FFF</td><td>2019</td><td>Paris FC</td><td>Dijon</td><td>3</td><td>1</td><td>H</td><td>24-08-19</td><td>1</td><td>0</td><td>0</td></tr><tr><td>107191</td><td>D1 FFF</td><td>2019</td><td>Montpellier</td><td>Stade de Reims</td><td>2</td><td>0</td><td>H</td><td>24-08-19</td><td>1</td><td>0</td><td>0</td></tr><tr><td>107631</td><td>D1 FFF</td><td>2019</td><td>Lyon</td><td>Ol. Marseille</td><td>6</td><td>0</td><td>H</td><td>24-08-19</td><td>1</td><td>0</td><td>0</td></tr><tr><td>108229</td><td>D1 FFF</td><td>2019</td><td>Paris S-G</td><td>Soyaux</td><td>7</td><td>0</td><td>H</td><td>25-08-19</td><td>1</td><td>0</td><td>0</td></tr><tr><td>109491</td><td>D1 FFF</td><td>2019</td><td>Fleury</td><td>Montpellier</td><td>1</td><td>3</td><td>A</td><td>07-09-19</td><td>0</td><td>1</td><td>0</td></tr><tr><td>109961</td><td>D1 FFF</td><td>2019</td><td>Ol. Marseille</td><td>Guingamp</td><td>2</td><td>1</td><td>H</td><td>07-09-19</td><td>1</td><td>0</td><td>0</td></tr><tr><td>113735</td><td>D1 FFF</td><td>2019</td><td>Soyaux</td><td>Paris FC</td><td>0</td><td>0</td><td>D</td><td>07-09-19</td><td>0</td><td>0</td><td>1</td></tr><tr><td>116885</td><td>D1 FFF</td><td>2019</td><td>Stade de Reims</td><td>Lyon</td><td>3</td><td>8</td><td>A</td><td>07-09-19</td><td>0</td><td>1</td><td>0</td></tr><tr><td>117528</td><td>D1 FFF</td><td>2019</td><td>Metz</td><td>Paris S-G</td><td>1</td><td>6</td><td>A</td><td>07-09-19</td><td>0</td><td>1</td><td>0</td></tr><tr><td>122120</td><td>D1 FFF</td><td>2019</td><td>Dijon</td><td>Bordeaux</td><td>0</td><td>3</td><td>A</td><td>08-09-19</td><td>0</td><td>1</td><td>0</td></tr><tr><td>123042</td><td>D1 FFF</td><td>2019</td><td>Bordeaux</td><td>Montpellier</td><td>1</td><td>0</td><td>H</td><td>14-09-19</td><td>1</td><td>0</td><td>0</td></tr><tr><td>125955</td><td>D1 FFF</td><td>2019</td><td>Ol. Marseille</td><td>Stade de Reims</td><td>0</td><td>3</td><td>A</td><td>14-09-19</td><td>0</td><td>1</td><td>0</td></tr><tr><td>126184</td><td>D1 FFF</td><td>2019</td><td>Guingamp</td><td>Soyaux</td><td>1</td><td>3</td><td>A</td><td>14-09-19</td><td>0</td><td>1</td><td>0</td></tr><tr><td>126283</td><td>D1 FFF</td><td>2019</td><td>Paris FC</td><td>Metz</td><td>2</td><td>2</td><td>D</td><td>14-09-19</td><td>0</td><td>0</td><td>1</td></tr><tr><td>130413</td><td>D1 FFF</td><td>2019</td><td>Lyon</td><td>Fleury</td><td>6</td><td>0</td><td>H</td><td>15-09-19</td><td>1</td><td>0</td><td>0</td></tr><tr><td>133161</td><td>D1 FFF</td><td>2019</td><td>Paris S-G</td><td>Dijon</td><td>4</td><td>0</td><td>H</td><td>15-09-19</td><td>1</td><td>0</td><td>0</td></tr><tr><td>133303</td><td>D1 FFF</td><td>2019</td><td>Stade de Reims</td><td>Fleury</td><td>0</td><td>1</td><td>A</td><td>28-09-19</td><td>0</td><td>1</td><td>0</td></tr><tr><td>136182</td><td>D1 FFF</td><td>2019</td><td>Montpellier</td><td>Dijon</td><td>6</td><td>0</td><td>H</td><td>28-09-19</td><td>1</td><td>0</td><td>0</td></tr></tbody></table></div>"
      ]
     },
     "metadata": {
      "application/vnd.databricks.v1+output": {
       "addedWidgets": {},
       "aggData": [],
       "aggError": "",
       "aggOverflow": false,
       "aggSchema": [],
       "aggSeriesLimitReached": false,
       "aggType": "",
       "arguments": {},
       "columnCustomDisplayInfos": {},
       "data": [
        [
         101658,
         "D1 FFF",
         2019,
         "Bordeaux",
         "Fleury",
         4,
         1,
         "H",
         "24-08-19",
         1,
         0,
         0
        ],
        [
         102633,
         "D1 FFF",
         2019,
         "Guingamp",
         "Metz",
         2,
         0,
         "H",
         "24-08-19",
         1,
         0,
         0
        ],
        [
         105384,
         "D1 FFF",
         2019,
         "Paris FC",
         "Dijon",
         3,
         1,
         "H",
         "24-08-19",
         1,
         0,
         0
        ],
        [
         107191,
         "D1 FFF",
         2019,
         "Montpellier",
         "Stade de Reims",
         2,
         0,
         "H",
         "24-08-19",
         1,
         0,
         0
        ],
        [
         107631,
         "D1 FFF",
         2019,
         "Lyon",
         "Ol. Marseille",
         6,
         0,
         "H",
         "24-08-19",
         1,
         0,
         0
        ],
        [
         108229,
         "D1 FFF",
         2019,
         "Paris S-G",
         "Soyaux",
         7,
         0,
         "H",
         "25-08-19",
         1,
         0,
         0
        ],
        [
         109491,
         "D1 FFF",
         2019,
         "Fleury",
         "Montpellier",
         1,
         3,
         "A",
         "07-09-19",
         0,
         1,
         0
        ],
        [
         109961,
         "D1 FFF",
         2019,
         "Ol. Marseille",
         "Guingamp",
         2,
         1,
         "H",
         "07-09-19",
         1,
         0,
         0
        ],
        [
         113735,
         "D1 FFF",
         2019,
         "Soyaux",
         "Paris FC",
         0,
         0,
         "D",
         "07-09-19",
         0,
         0,
         1
        ],
        [
         116885,
         "D1 FFF",
         2019,
         "Stade de Reims",
         "Lyon",
         3,
         8,
         "A",
         "07-09-19",
         0,
         1,
         0
        ],
        [
         117528,
         "D1 FFF",
         2019,
         "Metz",
         "Paris S-G",
         1,
         6,
         "A",
         "07-09-19",
         0,
         1,
         0
        ],
        [
         122120,
         "D1 FFF",
         2019,
         "Dijon",
         "Bordeaux",
         0,
         3,
         "A",
         "08-09-19",
         0,
         1,
         0
        ],
        [
         123042,
         "D1 FFF",
         2019,
         "Bordeaux",
         "Montpellier",
         1,
         0,
         "H",
         "14-09-19",
         1,
         0,
         0
        ],
        [
         125955,
         "D1 FFF",
         2019,
         "Ol. Marseille",
         "Stade de Reims",
         0,
         3,
         "A",
         "14-09-19",
         0,
         1,
         0
        ],
        [
         126184,
         "D1 FFF",
         2019,
         "Guingamp",
         "Soyaux",
         1,
         3,
         "A",
         "14-09-19",
         0,
         1,
         0
        ],
        [
         126283,
         "D1 FFF",
         2019,
         "Paris FC",
         "Metz",
         2,
         2,
         "D",
         "14-09-19",
         0,
         0,
         1
        ],
        [
         130413,
         "D1 FFF",
         2019,
         "Lyon",
         "Fleury",
         6,
         0,
         "H",
         "15-09-19",
         1,
         0,
         0
        ],
        [
         133161,
         "D1 FFF",
         2019,
         "Paris S-G",
         "Dijon",
         4,
         0,
         "H",
         "15-09-19",
         1,
         0,
         0
        ],
        [
         133303,
         "D1 FFF",
         2019,
         "Stade de Reims",
         "Fleury",
         0,
         1,
         "A",
         "28-09-19",
         0,
         1,
         0
        ],
        [
         136182,
         "D1 FFF",
         2019,
         "Montpellier",
         "Dijon",
         6,
         0,
         "H",
         "28-09-19",
         1,
         0,
         0
        ]
       ],
       "datasetInfos": [],
       "dbfsResultPath": null,
       "isJsonSchema": true,
       "metadata": {},
       "overflow": false,
       "plotOptions": {
        "customPlotOptions": {},
        "displayType": "table",
        "pivotAggregation": null,
        "pivotColumns": null,
        "xColumns": null,
        "yColumns": null
       },
       "removedWidgets": [],
       "schema": [
        {
         "metadata": "{}",
         "name": "MatchId",
         "type": "\"integer\""
        },
        {
         "metadata": "{}",
         "name": "League",
         "type": "\"string\""
        },
        {
         "metadata": "{}",
         "name": "Season",
         "type": "\"integer\""
        },
        {
         "metadata": "{}",
         "name": "HomeTeam",
         "type": "\"string\""
        },
        {
         "metadata": "{}",
         "name": "AwayTeam",
         "type": "\"string\""
        },
        {
         "metadata": "{}",
         "name": "HomeTeamGoals",
         "type": "\"integer\""
        },
        {
         "metadata": "{}",
         "name": "AwayTeamGoals",
         "type": "\"integer\""
        },
        {
         "metadata": "{}",
         "name": "MatchResult",
         "type": "\"string\""
        },
        {
         "metadata": "{}",
         "name": "MatchDate",
         "type": "\"string\""
        },
        {
         "metadata": "{}",
         "name": "HomeWin",
         "type": "\"integer\""
        },
        {
         "metadata": "{}",
         "name": "AwayWin",
         "type": "\"integer\""
        },
        {
         "metadata": "{}",
         "name": "Draw",
         "type": "\"integer\""
        }
       ],
       "type": "table"
      }
     },
     "output_type": "display_data"
    }
   ],
   "source": [
    "# Remove 'MatchDay', 'MatchTime', and 'Attendance' columns to streamline the DataFrame.\n",
    "\n",
    "dfMatches = dfMatches.drop('MatchDay', 'MatchTime', 'Attendance')\n",
    "\n",
    "display(dfMatches.limit(20))"
   ]
  },
  {
   "cell_type": "markdown",
   "metadata": {
    "application/vnd.databricks.v1+cell": {
     "cellMetadata": {
      "byteLimit": 2048000,
      "rowLimit": 10000
     },
     "inputWidgets": {},
     "nuid": "3a0615e6-13ec-4ca9-b80a-24f2b6fe6038",
     "showTitle": false,
     "title": ""
    }
   },
   "source": [
    "### 5. Persisting Transformed Football Match Data to _Delta_ Format\n",
    "\n",
    "Save the transformed and cleaned football match dataset in Delta format to the bronze data lake."
   ]
  },
  {
   "cell_type": "code",
   "execution_count": 0,
   "metadata": {
    "application/vnd.databricks.v1+cell": {
     "cellMetadata": {
      "byteLimit": 2048000,
      "rowLimit": 10000
     },
     "inputWidgets": {},
     "nuid": "7a30ecf6-12ba-4264-8f25-0a2099b6c335",
     "showTitle": false,
     "title": ""
    }
   },
   "outputs": [],
   "source": [
    "# Write the transformed file to the bronze data lake.\n",
    "\n",
    "dfMatches.write.format('delta').mode('overwrite').save(bronzeMountPoint + '/women_football_matches')"
   ]
  },
  {
   "cell_type": "markdown",
   "metadata": {
    "application/vnd.databricks.v1+cell": {
     "cellMetadata": {
      "byteLimit": 2048000,
      "rowLimit": 10000
     },
     "inputWidgets": {},
     "nuid": "36f1ae43-5ef7-4e9b-b68a-8a06342932a8",
     "showTitle": false,
     "title": ""
    }
   },
   "source": [
    "### 6. Listing Contents of the Bronze Data Lake\n",
    "\n",
    "List the files and directories in the bronze data lake to verify the successful storage of the transformed football match dataset."
   ]
  },
  {
   "cell_type": "code",
   "execution_count": 0,
   "metadata": {
    "application/vnd.databricks.v1+cell": {
     "cellMetadata": {
      "byteLimit": 2048000,
      "rowLimit": 10000
     },
     "inputWidgets": {},
     "nuid": "c80f2d0a-13ef-48e9-a2b2-ddb2cbf0b5fb",
     "showTitle": false,
     "title": ""
    }
   },
   "outputs": [
    {
     "output_type": "display_data",
     "data": {
      "text/html": [
       "<style scoped>\n",
       "  .table-result-container {\n",
       "    max-height: 300px;\n",
       "    overflow: auto;\n",
       "  }\n",
       "  table, th, td {\n",
       "    border: 1px solid black;\n",
       "    border-collapse: collapse;\n",
       "  }\n",
       "  th, td {\n",
       "    padding: 5px;\n",
       "  }\n",
       "  th {\n",
       "    text-align: left;\n",
       "  }\n",
       "</style><div class='table-result-container'><table class='table-result'><thead style='background-color: white'><tr><th>path</th><th>name</th><th>size</th><th>modificationTime</th></tr></thead><tbody><tr><td>dbfs:/mnt/bronze/women_football_matches/</td><td>women_football_matches/</td><td>0</td><td>1718930366000</td></tr></tbody></table></div>"
      ]
     },
     "metadata": {
      "application/vnd.databricks.v1+output": {
       "addedWidgets": {},
       "aggData": [],
       "aggError": "",
       "aggOverflow": false,
       "aggSchema": [],
       "aggSeriesLimitReached": false,
       "aggType": "",
       "arguments": {},
       "columnCustomDisplayInfos": {},
       "data": [
        [
         "dbfs:/mnt/bronze/women_football_matches/",
         "women_football_matches/",
         0,
         1718930366000
        ]
       ],
       "datasetInfos": [],
       "dbfsResultPath": null,
       "isJsonSchema": true,
       "metadata": {
        "isDbfsCommandResult": false
       },
       "overflow": false,
       "plotOptions": {
        "customPlotOptions": {},
        "displayType": "table",
        "pivotAggregation": null,
        "pivotColumns": null,
        "xColumns": null,
        "yColumns": null
       },
       "removedWidgets": [],
       "schema": [
        {
         "metadata": "{}",
         "name": "path",
         "type": "\"string\""
        },
        {
         "metadata": "{}",
         "name": "name",
         "type": "\"string\""
        },
        {
         "metadata": "{}",
         "name": "size",
         "type": "\"long\""
        },
        {
         "metadata": "{}",
         "name": "modificationTime",
         "type": "\"long\""
        }
       ],
       "type": "table"
      }
     },
     "output_type": "display_data"
    }
   ],
   "source": [
    "%fs ls /mnt/bronze/"
   ]
  }
 ],
 "metadata": {
  "application/vnd.databricks.v1+notebook": {
   "dashboards": [],
   "environmentMetadata": null,
   "language": "python",
   "notebookMetadata": {
    "mostRecentlyExecutedCommandWithImplicitDF": {
     "commandId": 3166311108304558,
     "dataframes": [
      "_sqldf"
     ]
    },
    "pythonIndentUnit": 4
   },
   "notebookName": "02-general-transformation",
   "widgets": {}
  }
 },
 "nbformat": 4,
 "nbformat_minor": 0
}
